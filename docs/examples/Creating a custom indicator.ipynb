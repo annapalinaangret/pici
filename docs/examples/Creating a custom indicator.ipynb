{
 "cells": [
  {
   "cell_type": "markdown",
   "source": [
    "## Goal\n",
    "\n",
    "In this example, we would like to set up a boolean indicator that is based on whether all contributors to a thread belong to a well-connected group of contributors. We would like to generate two different metrics that let us measure this concept:\n",
    "\n",
    "1. All of a thread's contributors are part of the [k-core](https://en.wikipedia.org/wiki/Degeneracy_\\(graph_theory\\)#k-Cores) of the co-contributor network. This means that for all contributors, ``degree(contributor_i) >= k``.\n",
    "2. All contributors belong to the co-contributor network's [maximal clique](https://en.wikipedia.org/wiki/Clique_problem).\n",
    "\n",
    "We would like to be able to generate different values for *k*, e.g., to fine-tune this parameter with machine learning."
   ],
   "metadata": {
    "collapsed": false,
    "pycharm": {
     "name": "#%% md\n"
    }
   }
  },
  {
   "cell_type": "markdown",
   "source": [
    "## Defining the metrics\n",
    "\n",
    "Every indicator is defined as a function that is decorated with the ``@metric`` decorator from ``pici.reporting``, receives a ``Community`` object as first parameter, and returns (by default) a dictionary of metric-name: metric-value items."
   ],
   "metadata": {
    "collapsed": false,
    "pycharm": {
     "name": "#%% md\n"
    }
   }
  },
  {
   "cell_type": "code",
   "execution_count": 1,
   "outputs": [
    {
     "name": "stdout",
     "output_type": "stream",
     "text": [
      "Note: to be able to use all crisp methods, you need to install some additional packages:  {'infomap', 'wurlitzer', 'karateclub', 'graph_tool'}\n",
      "Note: to be able to use all overlapping methods, you need to install some additional packages:  {'karateclub', 'ASLPAw'}\n",
      "Note: to be able to use all bipartite methods, you need to install some additional packages:  {'infomap', 'wurlitzer'}\n"
     ]
    }
   ],
   "source": [
    "from pici.reporting import metric\n",
    "\n",
    "# @metric(...)\n",
    "# def my_indicator(community):\n",
    "#   return {\n",
    "#       'metric A': None\n",
    "#   }"
   ],
   "metadata": {
    "collapsed": false,
    "pycharm": {
     "name": "#%%\n"
    }
   }
  },
  {
   "cell_type": "markdown",
   "source": [
    "To correctly generate and combine the output of this indicator method, the decorator needs to be fed with information about the indicator's **level** of measurement, and what it returns (**returntype**).\n",
    "\n",
    "Levels and returntypes are defined as constants in ``pici.datatypes``:"
   ],
   "metadata": {
    "collapsed": false,
    "pycharm": {
     "name": "#%% md\n"
    }
   }
  },
  {
   "cell_type": "code",
   "execution_count": 2,
   "outputs": [
    {
     "name": "stdout",
     "output_type": "stream",
     "text": [
      "['POSTS', 'TOPICS', 'CONTRIBUTORS', 'COMMUNITY']\n",
      "['PLAIN', 'TABLE', 'DATAFRAME']\n"
     ]
    }
   ],
   "source": [
    "from pici.datatypes import CommunityDataLevel, MetricReturnType\n",
    "\n",
    "print(CommunityDataLevel._member_names_)\n",
    "print(MetricReturnType._member_names_)"
   ],
   "metadata": {
    "collapsed": false,
    "pycharm": {
     "name": "#%%\n"
    }
   }
  },
  {
   "cell_type": "markdown",
   "source": [
    "We would like to generate a boolean value for every thread and all of our metrics. Our indicator's level is therefore *TOPICS*, and our return type *DATAFRAME*. The indicator would have to look like this:"
   ],
   "metadata": {
    "collapsed": false,
    "pycharm": {
     "name": "#%% md\n"
    }
   }
  },
  {
   "cell_type": "code",
   "execution_count": 3,
   "outputs": [],
   "source": [
    "@metric(\n",
    "    level=CommunityDataLevel.TOPICS,\n",
    "    returntype=MetricReturnType.DATAFRAME\n",
    ")\n",
    "def all_well_connected(community):\n",
    "    # use the community object to generate the metrics\n",
    "    return {\n",
    "        'all contributors in k-core': False,\n",
    "        'all contributors in dominating set': False\n",
    "    }"
   ],
   "metadata": {
    "collapsed": false,
    "pycharm": {
     "name": "#%%\n"
    }
   }
  },
  {
   "cell_type": "markdown",
   "source": [
    "To simplify the notation, there are shorthands for the common combinations of level and returntype. For example, ``@topics_metric`` would be the same as ``@metric(level=CommunityDataLevel.TOPICS, returntype=MetricReturnType.DATAFRAME)``:"
   ],
   "metadata": {
    "collapsed": false,
    "pycharm": {
     "name": "#%% md\n"
    }
   }
  },
  {
   "cell_type": "code",
   "execution_count": 4,
   "outputs": [],
   "source": [
    "from pici.reporting import topics_metric\n",
    "\n",
    "@topics_metric\n",
    "def all_well_connected(community):\n",
    "    pass\n",
    "    #..."
   ],
   "metadata": {
    "collapsed": false,
    "pycharm": {
     "name": "#%%\n"
    }
   }
  },
  {
   "cell_type": "markdown",
   "source": [
    "We can use the community parameter to access the data that is required for measurement. In our case, we would like to access the threads (topics), the posts (to know which contributor posted in each thread), and the network. Our results should be Pandas.Series with indices that match that of the community's original topics DataFrame index.\n",
    "\n",
    "**The complete indicator definition:**"
   ],
   "metadata": {
    "collapsed": false,
    "pycharm": {
     "name": "#%% md\n"
    }
   }
  },
  {
   "cell_type": "code",
   "execution_count": 5,
   "outputs": [],
   "source": [
    "import networkx as nx\n",
    "from networkx.algorithms.approximation import clique\n",
    "import pandas as pd\n",
    "from pici.reporting import topics_metric\n",
    "\n",
    "@topics_metric\n",
    "def all_well_connected(community, k):\n",
    "    \"\"\"\n",
    "    An indicator for whether all contributors to a thread\n",
    "    are well-connected. There are two metrics for this concept,\n",
    "\n",
    "    - ``all contributors in k-core`` - whether all contributors\n",
    "       belong to the co-contributor network's k-core, and\n",
    "    - ``all contributors in max clique`` - whether all\n",
    "       contributors are in the co-contributor network's maximal\n",
    "       clique.\n",
    "\n",
    "    Args:\n",
    "        community: A pici.Community object\n",
    "        k: parameter for k-core metric\n",
    "\n",
    "    Returns:\n",
    "        dict of (str, Pandas.Series)\n",
    "\n",
    "    \"\"\"\n",
    "\n",
    "    # the easiest way to retain the topics index\n",
    "    # is to define our metric on the posts df\n",
    "    # and then aggregate to the topics level:\n",
    "\n",
    "    # a) k-cores\n",
    "\n",
    "    contributor_cores = nx.core_number(\n",
    "        community.co_contributor_graph\n",
    "    )\n",
    "\n",
    "    # cores: largest value k of a k-core containing that contributor\n",
    "    cores = community.posts[community.contributor_column].map(\n",
    "        contributor_cores\n",
    "    )\n",
    "    topics = community.posts[community.topic_column]\n",
    "\n",
    "    # a df with one row per post, and True if contributor\n",
    "    # belongs at least to k-core\n",
    "    df = community.posts[[community.topic_column, community.contributor_column]]\n",
    "    df['in_k_core'] = df[community.contributor_column].map(\n",
    "        contributor_cores) >= k\n",
    "\n",
    "    # aggregate to boolean topic-level metric,\n",
    "    # rule: all(in_k_core)==True\n",
    "    all_in_k_core = df[\n",
    "        [community.topic_column, 'in_k_core']\n",
    "    ].groupby(by=community.topic_column).agg(all)\n",
    "\n",
    "    print(all_in_k_core)\n",
    "\n",
    "    # b) max clique\n",
    "\n",
    "    \"\"\"\n",
    "    max_clique = clique.max_clique(community.co_contributor_graph)\n",
    "\n",
    "    df2 = pd.DataFrame({\n",
    "        'topic': community.posts[community.topic_column],\n",
    "        'in_max_clique': community.posts[\n",
    "            community.contributor_column].isin(max_clique)\n",
    "    })\n",
    "\n",
    "    all_in_max_clique = df2.groupby(by='topic').agg({'bool': 'max'})\n",
    "    \"\"\"\n",
    "\n",
    "    return {\n",
    "        f'all contributors in {k}-core': all_in_k_core,\n",
    "        #'all contributors in max clique': all_in_k_core # all_in_max_clique\n",
    "    }"
   ],
   "metadata": {
    "collapsed": false,
    "pycharm": {
     "name": "#%%\n"
    }
   }
  },
  {
   "cell_type": "markdown",
   "source": [
    "## Using the indicator\n",
    "\n",
    "To used this new indicator, it has to registered with the ``Pici`` toolbox object. We can then generate reports that include the indicator, or use it in a ML pipeline."
   ],
   "metadata": {
    "collapsed": false,
    "pycharm": {
     "name": "#%% md\n"
    }
   }
  },
  {
   "cell_type": "markdown",
   "source": [
    "Set up the toolbox:"
   ],
   "metadata": {
    "collapsed": false,
    "pycharm": {
     "name": "#%% md\n"
    }
   }
  },
  {
   "cell_type": "code",
   "execution_count": 6,
   "outputs": [],
   "source": [
    "from pici import Pici\n",
    "\n",
    "p = Pici(\n",
    "    cache_dir='../../cache',\n",
    "    cache_nrows=3000,\n",
    "    # start='2017-01-01',\n",
    "    # end='2019-01-01',\n",
    ")"
   ],
   "metadata": {
    "collapsed": false,
    "pycharm": {
     "name": "#%%\n"
    }
   }
  },
  {
   "cell_type": "markdown",
   "source": [
    "Register the indicator with the toolbox:"
   ],
   "metadata": {
    "collapsed": false,
    "pycharm": {
     "name": "#%% md\n"
    }
   }
  },
  {
   "cell_type": "code",
   "execution_count": 7,
   "outputs": [],
   "source": [
    "p.add_metric(all_well_connected)"
   ],
   "metadata": {
    "collapsed": false,
    "pycharm": {
     "name": "#%%\n"
    }
   }
  },
  {
   "cell_type": "markdown",
   "source": [
    "We can now use the metric in a report. We can pass a static value for *k*:"
   ],
   "metadata": {
    "collapsed": false,
    "pycharm": {
     "name": "#%% md\n"
    }
   }
  },
  {
   "cell_type": "code",
   "execution_count": 8,
   "outputs": [],
   "source": [
    "# p.generate_report([\n",
    "#    (all_well_connected, {'k':10}),\n",
    "#    (all_well_connected, {'k':30})\n",
    "# ]).results"
   ],
   "metadata": {
    "collapsed": false,
    "pycharm": {
     "name": "#%%\n"
    }
   }
  },
  {
   "cell_type": "code",
   "execution_count": 10,
   "outputs": [],
   "source": [
    "pipe = p.pipelines.topics(parameters={\n",
    "    'all_well_connected': {'k': 10}\n",
    "})"
   ],
   "metadata": {
    "collapsed": false,
    "pycharm": {
     "name": "#%%\n"
    }
   }
  },
  {
   "cell_type": "code",
   "execution_count": null,
   "outputs": [],
   "source": [
    "pipe.transform(p.communities)"
   ],
   "metadata": {
    "collapsed": false,
    "pycharm": {
     "name": "#%%\n",
     "is_executing": true
    }
   }
  }
 ],
 "metadata": {
  "kernelspec": {
   "display_name": "Python 3",
   "language": "python",
   "name": "python3"
  },
  "language_info": {
   "codemirror_mode": {
    "name": "ipython",
    "version": 2
   },
   "file_extension": ".py",
   "mimetype": "text/x-python",
   "name": "python",
   "nbconvert_exporter": "python",
   "pygments_lexer": "ipython2",
   "version": "2.7.6"
  }
 },
 "nbformat": 4,
 "nbformat_minor": 0
}