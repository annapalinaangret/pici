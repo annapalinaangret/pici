{
 "cells": [
  {
   "cell_type": "code",
   "execution_count": 1,
   "id": "fewer-sterling",
   "metadata": {},
   "outputs": [],
   "source": [
    "# %load pici/pici_jupyter.py\n",
    "import pandas as pd\n",
    "import plotly.io as pio\n",
    "import plotly.express as px\n",
    "import plotly.figure_factory as ff\n",
    "import matplotlib.pyplot as plt\n",
    "import matplotlib as mpl\n",
    "import seaborn as sns\n",
    "\n",
    "pd.options.plotting.backend = \"plotly\"\n",
    "pio.renderers.default = \"iframe\"\n",
    "mpl.rcParams['figure.dpi'] = 200\n",
    "\n",
    "from pici import Pici\n",
    "from pici.communities.oem import OEMCommunityFactory\n",
    "from pici.communities.osm import OSMCommunityFactory\n",
    "from pici.communities.preciousplastic import PPCommunityFactory\n",
    "\n",
    "from pici.helpers import flat, pivot"
   ]
  },
  {
   "cell_type": "code",
   "execution_count": 2,
   "id": "7e8e6eeb-1809-419f-8f1a-3151a6ffb6d4",
   "metadata": {
    "tags": []
   },
   "outputs": [
    {
     "name": "stderr",
     "output_type": "stream",
     "text": [
      "/srv/shared/pici/pici/community.py:186: DtypeWarning:\n",
      "\n",
      "Columns (50,51,52) have mixed types.Specify dtype option on import or set low_memory=False.\n",
      "\n"
     ]
    }
   ],
   "source": [
    "pici = Pici(\n",
    "    communities={\n",
    "        'OpenEnergyMonitor': OEMCommunityFactory,\n",
    "        'OpenStreetMap': OSMCommunityFactory,\n",
    "        'PreciousPlastic': PPCommunityFactory,\n",
    "    },\n",
    "    start='2017-01-01',\n",
    "    end='2020-01-01',\n",
    "    #cache_nrows=5000\n",
    ")"
   ]
  },
  {
   "cell_type": "code",
   "execution_count": 3,
   "id": "9be3eb1d-85e5-4f5d-9df6-623e0b30ebd7",
   "metadata": {},
   "outputs": [
    {
     "data": {
      "text/html": [
       "<div>\n",
       "<style scoped>\n",
       "    .dataframe tbody tr th:only-of-type {\n",
       "        vertical-align: middle;\n",
       "    }\n",
       "\n",
       "    .dataframe tbody tr th {\n",
       "        vertical-align: top;\n",
       "    }\n",
       "\n",
       "    .dataframe thead th {\n",
       "        text-align: right;\n",
       "    }\n",
       "</style>\n",
       "<table border=\"1\" class=\"dataframe\">\n",
       "  <thead>\n",
       "    <tr style=\"text-align: right;\">\n",
       "      <th></th>\n",
       "      <th>contributors</th>\n",
       "      <th>posts</th>\n",
       "      <th>topics</th>\n",
       "      <th>first post</th>\n",
       "      <th>last post</th>\n",
       "      <th>community_name</th>\n",
       "    </tr>\n",
       "    <tr>\n",
       "      <th>community_name</th>\n",
       "      <th></th>\n",
       "      <th></th>\n",
       "      <th></th>\n",
       "      <th></th>\n",
       "      <th></th>\n",
       "      <th></th>\n",
       "    </tr>\n",
       "  </thead>\n",
       "  <tbody>\n",
       "    <tr>\n",
       "      <th>OpenEnergyMonitor</th>\n",
       "      <td>2052</td>\n",
       "      <td>37040</td>\n",
       "      <td>3993</td>\n",
       "      <td>2017-01-01 00:00:00</td>\n",
       "      <td>2019-12-31 00:00:00</td>\n",
       "      <td>OpenEnergyMonitor</td>\n",
       "    </tr>\n",
       "    <tr>\n",
       "      <th>OpenStreetMap</th>\n",
       "      <td>6494</td>\n",
       "      <td>146612</td>\n",
       "      <td>12719</td>\n",
       "      <td>2017-01-01 06:39:04</td>\n",
       "      <td>2019-12-31 22:28:30</td>\n",
       "      <td>OpenStreetMap</td>\n",
       "    </tr>\n",
       "    <tr>\n",
       "      <th>PreciousPlastic</th>\n",
       "      <td>3484</td>\n",
       "      <td>18588</td>\n",
       "      <td>3395</td>\n",
       "      <td>2017-01-01 17:41:00</td>\n",
       "      <td>2019-12-31 23:10:00</td>\n",
       "      <td>PreciousPlastic</td>\n",
       "    </tr>\n",
       "  </tbody>\n",
       "</table>\n",
       "</div>"
      ],
      "text/plain": [
       "                   contributors   posts  topics          first post  \\\n",
       "community_name                                                        \n",
       "OpenEnergyMonitor          2052   37040    3993 2017-01-01 00:00:00   \n",
       "OpenStreetMap              6494  146612   12719 2017-01-01 06:39:04   \n",
       "PreciousPlastic            3484   18588    3395 2017-01-01 17:41:00   \n",
       "\n",
       "                            last post     community_name  \n",
       "community_name                                            \n",
       "OpenEnergyMonitor 2019-12-31 00:00:00  OpenEnergyMonitor  \n",
       "OpenStreetMap     2019-12-31 22:28:30      OpenStreetMap  \n",
       "PreciousPlastic   2019-12-31 23:10:00    PreciousPlastic  "
      ]
     },
     "execution_count": 3,
     "metadata": {},
     "output_type": "execute_result"
    }
   ],
   "source": [
    "pici.report.summary()"
   ]
  },
  {
   "cell_type": "code",
   "execution_count": 4,
   "id": "73489a07-27b1-45e4-af82-79036f2fce48",
   "metadata": {},
   "outputs": [],
   "source": [
    "res = pici.report.posts_text_stats(words=[\"I\", \"we\", \"us\", \"me\"], normalize=True)"
   ]
  },
  {
   "cell_type": "code",
   "execution_count": 9,
   "id": "6452230e-075f-4c55-b5b3-f15f43351507",
   "metadata": {},
   "outputs": [
    {
     "data": {
      "text/html": [
       "<iframe\n",
       "    scrolling=\"no\"\n",
       "    width=\"100%\"\n",
       "    height=\"545px\"\n",
       "    src=\"iframe_figures/figure_10.html\"\n",
       "    frameborder=\"0\"\n",
       "    allowfullscreen\n",
       "></iframe>\n"
      ]
     },
     "metadata": {},
     "output_type": "display_data"
    }
   ],
   "source": [
    "fig = px.box(\n",
    "    res,\n",
    "    x=\"occurence of me\", \n",
    "    color=\"community_name\",\n",
    ")\n",
    "fig.update_layout(\n",
    "    legend=dict(\n",
    "        orientation=\"h\",\n",
    "        yanchor=\"bottom\",\n",
    "        y=1.02,\n",
    "        xanchor=\"right\",\n",
    "        x=1,\n",
    "        title=\"\"\n",
    "    )\n",
    ")\n",
    "display(fig)"
   ]
  },
  {
   "cell_type": "code",
   "execution_count": null,
   "id": "d99d2a43-c94b-4534-bfe9-336ee4f5df51",
   "metadata": {},
   "outputs": [],
   "source": []
  }
 ],
 "metadata": {
  "kernelspec": {
   "display_name": "Python 3 (ipykernel)",
   "language": "python",
   "name": "python3"
  },
  "language_info": {
   "codemirror_mode": {
    "name": "ipython",
    "version": 3
   },
   "file_extension": ".py",
   "mimetype": "text/x-python",
   "name": "python",
   "nbconvert_exporter": "python",
   "pygments_lexer": "ipython3",
   "version": "3.7.3"
  },
  "toc-autonumbering": false,
  "toc-showcode": true,
  "toc-showmarkdowntxt": false
 },
 "nbformat": 4,
 "nbformat_minor": 5
}
