{
 "cells": [
  {
   "cell_type": "code",
   "execution_count": 1,
   "id": "fewer-sterling",
   "metadata": {},
   "outputs": [],
   "source": [
    "# %load pici/pici_jupyter.py\n",
    "%reload_ext autoreload\n",
    "%autoreload 2\n",
    "import pandas as pd\n",
    "import plotly.io as pio\n",
    "import plotly.express as px\n",
    "import plotly.figure_factory as ff\n",
    "import matplotlib.pyplot as plt\n",
    "import matplotlib as mpl\n",
    "import seaborn as sns\n",
    "\n",
    "pd.options.plotting.backend = \"plotly\"\n",
    "pio.renderers.default = \"iframe\"\n",
    "mpl.rcParams['figure.dpi'] = 200\n",
    "\n",
    "from pici import Pici\n",
    "from pici.communities.oem import OEMCommunityFactory\n",
    "from pici.communities.osm import OSMCommunityFactory\n",
    "from pici.communities.preciousplastic import PPCommunityFactory\n",
    "\n",
    "from pici.helpers import flat, pivot"
   ]
  },
  {
   "cell_type": "code",
   "execution_count": 2,
   "id": "7e8e6eeb-1809-419f-8f1a-3151a6ffb6d4",
   "metadata": {
    "tags": []
   },
   "outputs": [
    {
     "name": "stderr",
     "output_type": "stream",
     "text": [
      "/srv/shared/pici/pici/community.py:186: DtypeWarning:\n",
      "\n",
      "Columns (50,51,52) have mixed types.Specify dtype option on import or set low_memory=False.\n",
      "\n"
     ]
    }
   ],
   "source": [
    "pici = Pici(\n",
    "    communities={\n",
    "        'OpenEnergyMonitor': OEMCommunityFactory,\n",
    "        'OpenStreetMap': OSMCommunityFactory,\n",
    "        'PreciousPlastic': PPCommunityFactory,\n",
    "    },\n",
    "    start='2017-01-01',\n",
    "    end='2020-01-01',\n",
    "    #cache_nrows=5000\n",
    ")"
   ]
  },
  {
   "cell_type": "code",
   "execution_count": 3,
   "id": "9be3eb1d-85e5-4f5d-9df6-623e0b30ebd7",
   "metadata": {},
   "outputs": [
    {
     "data": {
      "text/html": [
       "<div>\n",
       "<style scoped>\n",
       "    .dataframe tbody tr th:only-of-type {\n",
       "        vertical-align: middle;\n",
       "    }\n",
       "\n",
       "    .dataframe tbody tr th {\n",
       "        vertical-align: top;\n",
       "    }\n",
       "\n",
       "    .dataframe thead th {\n",
       "        text-align: right;\n",
       "    }\n",
       "</style>\n",
       "<table border=\"1\" class=\"dataframe\">\n",
       "  <thead>\n",
       "    <tr style=\"text-align: right;\">\n",
       "      <th></th>\n",
       "      <th>contributors</th>\n",
       "      <th>posts</th>\n",
       "      <th>topics</th>\n",
       "      <th>first post</th>\n",
       "      <th>last post</th>\n",
       "      <th>community_name</th>\n",
       "    </tr>\n",
       "    <tr>\n",
       "      <th>community_name</th>\n",
       "      <th></th>\n",
       "      <th></th>\n",
       "      <th></th>\n",
       "      <th></th>\n",
       "      <th></th>\n",
       "      <th></th>\n",
       "    </tr>\n",
       "  </thead>\n",
       "  <tbody>\n",
       "    <tr>\n",
       "      <th>OpenEnergyMonitor</th>\n",
       "      <td>2052</td>\n",
       "      <td>37040</td>\n",
       "      <td>3993</td>\n",
       "      <td>2017-01-01 00:00:00</td>\n",
       "      <td>2019-12-31 00:00:00</td>\n",
       "      <td>OpenEnergyMonitor</td>\n",
       "    </tr>\n",
       "    <tr>\n",
       "      <th>OpenStreetMap</th>\n",
       "      <td>6494</td>\n",
       "      <td>146612</td>\n",
       "      <td>12719</td>\n",
       "      <td>2017-01-01 06:39:04</td>\n",
       "      <td>2019-12-31 22:28:30</td>\n",
       "      <td>OpenStreetMap</td>\n",
       "    </tr>\n",
       "    <tr>\n",
       "      <th>PreciousPlastic</th>\n",
       "      <td>3484</td>\n",
       "      <td>18588</td>\n",
       "      <td>3395</td>\n",
       "      <td>2017-01-01 17:41:00</td>\n",
       "      <td>2019-12-31 23:10:00</td>\n",
       "      <td>PreciousPlastic</td>\n",
       "    </tr>\n",
       "  </tbody>\n",
       "</table>\n",
       "</div>"
      ],
      "text/plain": [
       "                   contributors   posts  topics          first post  \\\n",
       "community_name                                                        \n",
       "OpenEnergyMonitor          2052   37040    3993 2017-01-01 00:00:00   \n",
       "OpenStreetMap              6494  146612   12719 2017-01-01 06:39:04   \n",
       "PreciousPlastic            3484   18588    3395 2017-01-01 17:41:00   \n",
       "\n",
       "                            last post     community_name  \n",
       "community_name                                            \n",
       "OpenEnergyMonitor 2019-12-31 00:00:00  OpenEnergyMonitor  \n",
       "OpenStreetMap     2019-12-31 22:28:30      OpenStreetMap  \n",
       "PreciousPlastic   2019-12-31 23:10:00    PreciousPlastic  "
      ]
     },
     "execution_count": 3,
     "metadata": {},
     "output_type": "execute_result"
    }
   ],
   "source": [
    "pici.report.summary()"
   ]
  },
  {
   "cell_type": "code",
   "execution_count": null,
   "id": "bb1a5efd-d380-4a0a-b463-7ddf4460cf0f",
   "metadata": {
    "tags": []
   },
   "outputs": [],
   "source": [
    "pici.viz.boxplot_number_of_contributors_per_topic()"
   ]
  },
  {
   "cell_type": "code",
   "execution_count": 5,
   "id": "53eb568b-f0a5-4981-833a-027eb5802da5",
   "metadata": {},
   "outputs": [
    {
     "data": {
      "text/html": [
       "<iframe\n",
       "    scrolling=\"no\"\n",
       "    width=\"100%\"\n",
       "    height=\"545px\"\n",
       "    src=\"iframe_figures/figure_5.html\"\n",
       "    frameborder=\"0\"\n",
       "    allowfullscreen\n",
       "></iframe>\n"
      ]
     },
     "metadata": {},
     "output_type": "display_data"
    }
   ],
   "source": [
    "pici.viz.timeseries_number_of_posts()"
   ]
  },
  {
   "cell_type": "code",
   "execution_count": 6,
   "id": "f6c4bd9e-f2a0-4bcb-986c-cd6c670aeaac",
   "metadata": {},
   "outputs": [
    {
     "data": {
      "text/html": [
       "<iframe\n",
       "    scrolling=\"no\"\n",
       "    width=\"100%\"\n",
       "    height=\"545px\"\n",
       "    src=\"iframe_figures/figure_6.html\"\n",
       "    frameborder=\"0\"\n",
       "    allowfullscreen\n",
       "></iframe>\n"
      ]
     },
     "metadata": {},
     "output_type": "display_data"
    }
   ],
   "source": [
    "pici.viz.timeseries_number_of_contributors()"
   ]
  },
  {
   "cell_type": "code",
   "execution_count": 7,
   "id": "68bcbf3d-d714-49b2-b26e-10aca4f6295a",
   "metadata": {},
   "outputs": [
    {
     "data": {
      "text/html": [
       "<iframe\n",
       "    scrolling=\"no\"\n",
       "    width=\"100%\"\n",
       "    height=\"545px\"\n",
       "    src=\"iframe_figures/figure_7.html\"\n",
       "    frameborder=\"0\"\n",
       "    allowfullscreen\n",
       "></iframe>\n"
      ]
     },
     "metadata": {},
     "output_type": "display_data"
    }
   ],
   "source": [
    "pici.viz.scatter_contributors_vs_posts(interval='1M')"
   ]
  },
  {
   "cell_type": "code",
   "execution_count": 8,
   "id": "73489a07-27b1-45e4-af82-79036f2fce48",
   "metadata": {},
   "outputs": [],
   "source": [
    "# pici.viz.scatter_post_per_topic_vs_elapsed_time()"
   ]
  },
  {
   "cell_type": "code",
   "execution_count": null,
   "id": "af047647-a130-4933-b6b4-22a072ba60df",
   "metadata": {},
   "outputs": [],
   "source": [
    "pici.viz.boxplot_topics_elapsed_days()"
   ]
  },
  {
   "cell_type": "code",
   "execution_count": null,
   "id": "e476a198-0d7e-43a3-bc60-722928df1978",
   "metadata": {
    "tags": []
   },
   "outputs": [],
   "source": [
    "pici.viz.boxplot_topics_second_post_delay()"
   ]
  },
  {
   "cell_type": "code",
   "execution_count": null,
   "id": "927e99c0-9500-4ec4-9a82-dd2f075601ff",
   "metadata": {},
   "outputs": [],
   "source": [
    "pici.viz.boxplot_posts_number_of_words()"
   ]
  },
  {
   "cell_type": "code",
   "execution_count": 84,
   "id": "fdcc0b52-335c-42cb-ac91-2c2e4382484c",
   "metadata": {},
   "outputs": [],
   "source": [
    "d = pici.report.topics_summary()\n",
    "d = d[d['num_posts']>1]\n",
    "f = d\n",
    "d = d[['second_post_delay_days','elapsed_days', 'community_name']]"
   ]
  },
  {
   "cell_type": "code",
   "execution_count": 86,
   "id": "02c7eb54-d3d3-44b1-91b3-b0ef3be81a99",
   "metadata": {},
   "outputs": [
    {
     "data": {
      "text/html": [
       "<div>\n",
       "<style scoped>\n",
       "    .dataframe tbody tr th:only-of-type {\n",
       "        vertical-align: middle;\n",
       "    }\n",
       "\n",
       "    .dataframe tbody tr th {\n",
       "        vertical-align: top;\n",
       "    }\n",
       "\n",
       "    .dataframe thead th {\n",
       "        text-align: right;\n",
       "    }\n",
       "</style>\n",
       "<table border=\"1\" class=\"dataframe\">\n",
       "  <thead>\n",
       "    <tr style=\"text-align: right;\">\n",
       "      <th></th>\n",
       "      <th>number of contributors</th>\n",
       "      <th>num_posts</th>\n",
       "      <th>last_post</th>\n",
       "      <th>second_post</th>\n",
       "      <th>first_post</th>\n",
       "      <th>elapsed_days</th>\n",
       "      <th>second_post_delay_days</th>\n",
       "      <th>community_name</th>\n",
       "    </tr>\n",
       "  </thead>\n",
       "  <tbody>\n",
       "    <tr>\n",
       "      <th>1-click-power-measurement-of-any-device-in-your-house</th>\n",
       "      <td>2</td>\n",
       "      <td>3</td>\n",
       "      <td>2017-02-09 00:00:00</td>\n",
       "      <td>2017-02-09 00:00:00</td>\n",
       "      <td>2017-02-09 00:00:00</td>\n",
       "      <td>0</td>\n",
       "      <td>0</td>\n",
       "      <td>OpenEnergyMonitor</td>\n",
       "    </tr>\n",
       "    <tr>\n",
       "      <th>10-1-3-beta-on-shared-hosting-where-is-dashboard</th>\n",
       "      <td>4</td>\n",
       "      <td>18</td>\n",
       "      <td>2019-07-13 00:00:00</td>\n",
       "      <td>2019-07-13 00:00:00</td>\n",
       "      <td>2019-07-13 00:00:00</td>\n",
       "      <td>0</td>\n",
       "      <td>0</td>\n",
       "      <td>OpenEnergyMonitor</td>\n",
       "    </tr>\n",
       "    <tr>\n",
       "      <th>10-1-6-all-inputs-null</th>\n",
       "      <td>2</td>\n",
       "      <td>6</td>\n",
       "      <td>2019-09-30 00:00:00</td>\n",
       "      <td>2019-09-29 00:00:00</td>\n",
       "      <td>2019-09-27 00:00:00</td>\n",
       "      <td>3</td>\n",
       "      <td>2</td>\n",
       "      <td>OpenEnergyMonitor</td>\n",
       "    </tr>\n",
       "    <tr>\n",
       "      <th>10-1-6-solar-app-resizing-and-history-bars</th>\n",
       "      <td>2</td>\n",
       "      <td>3</td>\n",
       "      <td>2019-09-29 00:00:00</td>\n",
       "      <td>2019-09-29 00:00:00</td>\n",
       "      <td>2019-09-29 00:00:00</td>\n",
       "      <td>0</td>\n",
       "      <td>0</td>\n",
       "      <td>OpenEnergyMonitor</td>\n",
       "    </tr>\n",
       "    <tr>\n",
       "      <th>10000-kwh-ceiling-in-emoncms</th>\n",
       "      <td>4</td>\n",
       "      <td>11</td>\n",
       "      <td>2017-04-20 00:00:00</td>\n",
       "      <td>2017-04-17 00:00:00</td>\n",
       "      <td>2017-04-17 00:00:00</td>\n",
       "      <td>3</td>\n",
       "      <td>0</td>\n",
       "      <td>OpenEnergyMonitor</td>\n",
       "    </tr>\n",
       "    <tr>\n",
       "      <th>...</th>\n",
       "      <td>...</td>\n",
       "      <td>...</td>\n",
       "      <td>...</td>\n",
       "      <td>...</td>\n",
       "      <td>...</td>\n",
       "      <td>...</td>\n",
       "      <td>...</td>\n",
       "      <td>...</td>\n",
       "    </tr>\n",
       "    <tr>\n",
       "      <th>send-dave-on-ellens-show</th>\n",
       "      <td>2</td>\n",
       "      <td>4</td>\n",
       "      <td>2017-11-02 13:40:00</td>\n",
       "      <td>2017-09-03 18:36:00</td>\n",
       "      <td>2017-09-03 18:17:00</td>\n",
       "      <td>59</td>\n",
       "      <td>0</td>\n",
       "      <td>PreciousPlastic</td>\n",
       "    </tr>\n",
       "    <tr>\n",
       "      <th>trouble-posting</th>\n",
       "      <td>2</td>\n",
       "      <td>2</td>\n",
       "      <td>2017-09-03 23:40:00</td>\n",
       "      <td>2017-09-03 23:40:00</td>\n",
       "      <td>2017-09-03 23:33:00</td>\n",
       "      <td>0</td>\n",
       "      <td>0</td>\n",
       "      <td>PreciousPlastic</td>\n",
       "    </tr>\n",
       "    <tr>\n",
       "      <th>hello-all-you-do-goood-simon-from-thailand</th>\n",
       "      <td>3</td>\n",
       "      <td>4</td>\n",
       "      <td>2017-09-03 19:18:00</td>\n",
       "      <td>2017-09-03 18:29:00</td>\n",
       "      <td>2017-02-28 06:40:00</td>\n",
       "      <td>187</td>\n",
       "      <td>187</td>\n",
       "      <td>PreciousPlastic</td>\n",
       "    </tr>\n",
       "    <tr>\n",
       "      <th>machines-built-in-brazil</th>\n",
       "      <td>2</td>\n",
       "      <td>2</td>\n",
       "      <td>2017-10-03 02:46:00</td>\n",
       "      <td>2017-10-03 02:46:00</td>\n",
       "      <td>2017-02-21 00:43:00</td>\n",
       "      <td>224</td>\n",
       "      <td>224</td>\n",
       "      <td>PreciousPlastic</td>\n",
       "    </tr>\n",
       "    <tr>\n",
       "      <th>hello-anyone-from-brasil</th>\n",
       "      <td>4</td>\n",
       "      <td>4</td>\n",
       "      <td>2017-11-01 18:14:00</td>\n",
       "      <td>2017-10-01 23:28:00</td>\n",
       "      <td>2017-01-17 17:10:00</td>\n",
       "      <td>288</td>\n",
       "      <td>257</td>\n",
       "      <td>PreciousPlastic</td>\n",
       "    </tr>\n",
       "  </tbody>\n",
       "</table>\n",
       "<p>18984 rows × 8 columns</p>\n",
       "</div>"
      ],
      "text/plain": [
       "                                                    number of contributors  \\\n",
       "1-click-power-measurement-of-any-device-in-your...                       2   \n",
       "10-1-3-beta-on-shared-hosting-where-is-dashboard                         4   \n",
       "10-1-6-all-inputs-null                                                   2   \n",
       "10-1-6-solar-app-resizing-and-history-bars                               2   \n",
       "10000-kwh-ceiling-in-emoncms                                             4   \n",
       "...                                                                    ...   \n",
       "send-dave-on-ellens-show                                                 2   \n",
       "trouble-posting                                                          2   \n",
       "hello-all-you-do-goood-simon-from-thailand                               3   \n",
       "machines-built-in-brazil                                                 2   \n",
       "hello-anyone-from-brasil                                                 4   \n",
       "\n",
       "                                                    num_posts  \\\n",
       "1-click-power-measurement-of-any-device-in-your...          3   \n",
       "10-1-3-beta-on-shared-hosting-where-is-dashboard           18   \n",
       "10-1-6-all-inputs-null                                      6   \n",
       "10-1-6-solar-app-resizing-and-history-bars                  3   \n",
       "10000-kwh-ceiling-in-emoncms                               11   \n",
       "...                                                       ...   \n",
       "send-dave-on-ellens-show                                    4   \n",
       "trouble-posting                                             2   \n",
       "hello-all-you-do-goood-simon-from-thailand                  4   \n",
       "machines-built-in-brazil                                    2   \n",
       "hello-anyone-from-brasil                                    4   \n",
       "\n",
       "                                                             last_post  \\\n",
       "1-click-power-measurement-of-any-device-in-your... 2017-02-09 00:00:00   \n",
       "10-1-3-beta-on-shared-hosting-where-is-dashboard   2019-07-13 00:00:00   \n",
       "10-1-6-all-inputs-null                             2019-09-30 00:00:00   \n",
       "10-1-6-solar-app-resizing-and-history-bars         2019-09-29 00:00:00   \n",
       "10000-kwh-ceiling-in-emoncms                       2017-04-20 00:00:00   \n",
       "...                                                                ...   \n",
       "send-dave-on-ellens-show                           2017-11-02 13:40:00   \n",
       "trouble-posting                                    2017-09-03 23:40:00   \n",
       "hello-all-you-do-goood-simon-from-thailand         2017-09-03 19:18:00   \n",
       "machines-built-in-brazil                           2017-10-03 02:46:00   \n",
       "hello-anyone-from-brasil                           2017-11-01 18:14:00   \n",
       "\n",
       "                                                           second_post  \\\n",
       "1-click-power-measurement-of-any-device-in-your... 2017-02-09 00:00:00   \n",
       "10-1-3-beta-on-shared-hosting-where-is-dashboard   2019-07-13 00:00:00   \n",
       "10-1-6-all-inputs-null                             2019-09-29 00:00:00   \n",
       "10-1-6-solar-app-resizing-and-history-bars         2019-09-29 00:00:00   \n",
       "10000-kwh-ceiling-in-emoncms                       2017-04-17 00:00:00   \n",
       "...                                                                ...   \n",
       "send-dave-on-ellens-show                           2017-09-03 18:36:00   \n",
       "trouble-posting                                    2017-09-03 23:40:00   \n",
       "hello-all-you-do-goood-simon-from-thailand         2017-09-03 18:29:00   \n",
       "machines-built-in-brazil                           2017-10-03 02:46:00   \n",
       "hello-anyone-from-brasil                           2017-10-01 23:28:00   \n",
       "\n",
       "                                                            first_post  \\\n",
       "1-click-power-measurement-of-any-device-in-your... 2017-02-09 00:00:00   \n",
       "10-1-3-beta-on-shared-hosting-where-is-dashboard   2019-07-13 00:00:00   \n",
       "10-1-6-all-inputs-null                             2019-09-27 00:00:00   \n",
       "10-1-6-solar-app-resizing-and-history-bars         2019-09-29 00:00:00   \n",
       "10000-kwh-ceiling-in-emoncms                       2017-04-17 00:00:00   \n",
       "...                                                                ...   \n",
       "send-dave-on-ellens-show                           2017-09-03 18:17:00   \n",
       "trouble-posting                                    2017-09-03 23:33:00   \n",
       "hello-all-you-do-goood-simon-from-thailand         2017-02-28 06:40:00   \n",
       "machines-built-in-brazil                           2017-02-21 00:43:00   \n",
       "hello-anyone-from-brasil                           2017-01-17 17:10:00   \n",
       "\n",
       "                                                    elapsed_days  \\\n",
       "1-click-power-measurement-of-any-device-in-your...             0   \n",
       "10-1-3-beta-on-shared-hosting-where-is-dashboard               0   \n",
       "10-1-6-all-inputs-null                                         3   \n",
       "10-1-6-solar-app-resizing-and-history-bars                     0   \n",
       "10000-kwh-ceiling-in-emoncms                                   3   \n",
       "...                                                          ...   \n",
       "send-dave-on-ellens-show                                      59   \n",
       "trouble-posting                                                0   \n",
       "hello-all-you-do-goood-simon-from-thailand                   187   \n",
       "machines-built-in-brazil                                     224   \n",
       "hello-anyone-from-brasil                                     288   \n",
       "\n",
       "                                                    second_post_delay_days  \\\n",
       "1-click-power-measurement-of-any-device-in-your...                       0   \n",
       "10-1-3-beta-on-shared-hosting-where-is-dashboard                         0   \n",
       "10-1-6-all-inputs-null                                                   2   \n",
       "10-1-6-solar-app-resizing-and-history-bars                               0   \n",
       "10000-kwh-ceiling-in-emoncms                                             0   \n",
       "...                                                                    ...   \n",
       "send-dave-on-ellens-show                                                 0   \n",
       "trouble-posting                                                          0   \n",
       "hello-all-you-do-goood-simon-from-thailand                             187   \n",
       "machines-built-in-brazil                                               224   \n",
       "hello-anyone-from-brasil                                               257   \n",
       "\n",
       "                                                       community_name  \n",
       "1-click-power-measurement-of-any-device-in-your...  OpenEnergyMonitor  \n",
       "10-1-3-beta-on-shared-hosting-where-is-dashboard    OpenEnergyMonitor  \n",
       "10-1-6-all-inputs-null                              OpenEnergyMonitor  \n",
       "10-1-6-solar-app-resizing-and-history-bars          OpenEnergyMonitor  \n",
       "10000-kwh-ceiling-in-emoncms                        OpenEnergyMonitor  \n",
       "...                                                               ...  \n",
       "send-dave-on-ellens-show                              PreciousPlastic  \n",
       "trouble-posting                                       PreciousPlastic  \n",
       "hello-all-you-do-goood-simon-from-thailand            PreciousPlastic  \n",
       "machines-built-in-brazil                              PreciousPlastic  \n",
       "hello-anyone-from-brasil                              PreciousPlastic  \n",
       "\n",
       "[18984 rows x 8 columns]"
      ]
     },
     "execution_count": 86,
     "metadata": {},
     "output_type": "execute_result"
    }
   ],
   "source": [
    "f"
   ]
  },
  {
   "cell_type": "code",
   "execution_count": 118,
   "id": "1db2506a-60bf-40f0-9854-2627d40f3790",
   "metadata": {},
   "outputs": [
    {
     "data": {
      "text/plain": [
       "Index(['number of contributors', 'num_posts', 'last_post', 'second_post',\n",
       "       'first_post', 'elapsed_days', 'second_post_delay_days',\n",
       "       'community_name'],\n",
       "      dtype='object')"
      ]
     },
     "execution_count": 118,
     "metadata": {},
     "output_type": "execute_result"
    }
   ],
   "source": [
    "f.columns"
   ]
  },
  {
   "cell_type": "code",
   "execution_count": 46,
   "id": "598a81d6-2df2-4b4f-8bfb-4c07d7817da5",
   "metadata": {},
   "outputs": [],
   "source": [
    "df = d.groupby(by=\"community_name\").agg(['mean','std'])"
   ]
  },
  {
   "cell_type": "code",
   "execution_count": 47,
   "id": "1feb5dd4-f661-48cd-b2f0-e56024a448ac",
   "metadata": {},
   "outputs": [
    {
     "data": {
      "text/html": [
       "<div>\n",
       "<style scoped>\n",
       "    .dataframe tbody tr th:only-of-type {\n",
       "        vertical-align: middle;\n",
       "    }\n",
       "\n",
       "    .dataframe tbody tr th {\n",
       "        vertical-align: top;\n",
       "    }\n",
       "\n",
       "    .dataframe thead tr th {\n",
       "        text-align: left;\n",
       "    }\n",
       "\n",
       "    .dataframe thead tr:last-of-type th {\n",
       "        text-align: right;\n",
       "    }\n",
       "</style>\n",
       "<table border=\"1\" class=\"dataframe\">\n",
       "  <thead>\n",
       "    <tr>\n",
       "      <th></th>\n",
       "      <th colspan=\"2\" halign=\"left\">second_post_delay_days</th>\n",
       "      <th colspan=\"2\" halign=\"left\">elapsed_days</th>\n",
       "    </tr>\n",
       "    <tr>\n",
       "      <th></th>\n",
       "      <th>mean</th>\n",
       "      <th>std</th>\n",
       "      <th>mean</th>\n",
       "      <th>std</th>\n",
       "    </tr>\n",
       "    <tr>\n",
       "      <th>community_name</th>\n",
       "      <th></th>\n",
       "      <th></th>\n",
       "      <th></th>\n",
       "      <th></th>\n",
       "    </tr>\n",
       "  </thead>\n",
       "  <tbody>\n",
       "    <tr>\n",
       "      <th>OpenEnergyMonitor</th>\n",
       "      <td>6.697021</td>\n",
       "      <td>49.859429</td>\n",
       "      <td>49.324823</td>\n",
       "      <td>142.083972</td>\n",
       "    </tr>\n",
       "    <tr>\n",
       "      <th>OpenStreetMap</th>\n",
       "      <td>5.042530</td>\n",
       "      <td>39.443395</td>\n",
       "      <td>83.641159</td>\n",
       "      <td>203.591622</td>\n",
       "    </tr>\n",
       "    <tr>\n",
       "      <th>PreciousPlastic</th>\n",
       "      <td>42.546387</td>\n",
       "      <td>89.647432</td>\n",
       "      <td>158.955537</td>\n",
       "      <td>206.880415</td>\n",
       "    </tr>\n",
       "  </tbody>\n",
       "</table>\n",
       "</div>"
      ],
      "text/plain": [
       "                  second_post_delay_days            elapsed_days            \n",
       "                                    mean        std         mean         std\n",
       "community_name                                                              \n",
       "OpenEnergyMonitor               6.697021  49.859429    49.324823  142.083972\n",
       "OpenStreetMap                   5.042530  39.443395    83.641159  203.591622\n",
       "PreciousPlastic                42.546387  89.647432   158.955537  206.880415"
      ]
     },
     "execution_count": 47,
     "metadata": {},
     "output_type": "execute_result"
    }
   ],
   "source": [
    "df"
   ]
  },
  {
   "cell_type": "code",
   "execution_count": 48,
   "id": "026ea81d-b31a-4de7-b71d-43f35af98cbf",
   "metadata": {},
   "outputs": [],
   "source": [
    "import plotly.graph_objects as go"
   ]
  },
  {
   "cell_type": "code",
   "execution_count": 49,
   "id": "96663d26-bc98-4684-9a03-977ae002ff9c",
   "metadata": {},
   "outputs": [
    {
     "data": {
      "text/html": [
       "<iframe\n",
       "    scrolling=\"no\"\n",
       "    width=\"100%\"\n",
       "    height=\"545px\"\n",
       "    src=\"iframe_figures/figure_49.html\"\n",
       "    frameborder=\"0\"\n",
       "    allowfullscreen\n",
       "></iframe>\n"
      ]
     },
     "metadata": {},
     "output_type": "display_data"
    }
   ],
   "source": [
    "fig = go.Figure()\n",
    "fig.add_trace(go.Bar(\n",
    "    name='topic lifespan (days)',\n",
    "    x=df.index, y=df['elapsed_days']['mean'],\n",
    "    text=df['elapsed_days']['mean'],\n",
    "    error_y=dict(type='data', array=df['elapsed_days']['std'])\n",
    "))\n",
    "fig.add_trace(go.Bar(\n",
    "    name='second post delay (days)',\n",
    "    x=df.index, y=df['second_post_delay_days']['mean'],\n",
    "    text=df['second_post_delay_days']['mean'],\n",
    "    error_y=dict(type='data', array=df['second_post_delay_days']['std'])\n",
    "))\n",
    "fig.update_layout(barmode='group')\n",
    "fig.update_traces(texttemplate='%{text:.2s}', textposition='outside')\n",
    "fig.show()"
   ]
  },
  {
   "cell_type": "code",
   "execution_count": null,
   "id": "7896a4c0-70a1-4359-8d42-499f6e240746",
   "metadata": {},
   "outputs": [],
   "source": [
    "fig = px.violin(d, y=\"elapsed_days\", color=\"community_name\", box=True, points=\"all\")\n",
    "fig.show()"
   ]
  },
  {
   "cell_type": "code",
   "execution_count": 75,
   "id": "1e2aa8f4-9051-4fb0-8b65-1373bd5e605d",
   "metadata": {},
   "outputs": [],
   "source": [
    "e = d\n",
    "e.index.name=\"ind\"\n",
    "e = e.reset_index()\n",
    "e = e.drop_duplicates()\n",
    "e = e.rename(columns={\n",
    "    \"second_post_delay_days\": \"days_second_post\",\n",
    "    \"elapsed_days\": \"days_topic\"\n",
    "})\n",
    "e = pd.melt(e, id_vars=[\"ind\",\"community_name\"], value_vars=['days_second_post', 'days_topic'])"
   ]
  },
  {
   "cell_type": "code",
   "execution_count": 79,
   "id": "73138489-454e-421b-8ce1-dc69a26823b0",
   "metadata": {},
   "outputs": [
    {
     "data": {
      "text/html": [
       "<iframe\n",
       "    scrolling=\"no\"\n",
       "    width=\"100%\"\n",
       "    height=\"545px\"\n",
       "    src=\"iframe_figures/figure_79.html\"\n",
       "    frameborder=\"0\"\n",
       "    allowfullscreen\n",
       "></iframe>\n"
      ]
     },
     "metadata": {},
     "output_type": "display_data"
    }
   ],
   "source": [
    "fig = px.box(e, y=\"value\", x=\"community_name\", color=\"variable\", )\n",
    "fig.show()"
   ]
  },
  {
   "cell_type": "code",
   "execution_count": 133,
   "id": "02677e81-e8a7-484a-90fe-0d20dd6d47e6",
   "metadata": {},
   "outputs": [
    {
     "data": {
      "text/html": [
       "<iframe\n",
       "    scrolling=\"no\"\n",
       "    width=\"100%\"\n",
       "    height=\"545px\"\n",
       "    src=\"iframe_figures/figure_133.html\"\n",
       "    frameborder=\"0\"\n",
       "    allowfullscreen\n",
       "></iframe>\n"
      ]
     },
     "metadata": {},
     "output_type": "display_data"
    }
   ],
   "source": [
    "g = f.drop_duplicates()\n",
    "g = g.dropna(subset=[\"num_posts\",\"second_post_delay_days\"])\n",
    "g = g[(g[\"num_posts\"]>1) & (g[\"second_post_delay_days\"]>=0)]\n",
    "fig = px.scatter(g,x=\"num_posts\",y=\"second_post_delay_days\", color=\"community_name\", marginal_y=\"box\", marginal_x=\"box\", log_x=True, log_y=False, trendline=\"lowess\")\n",
    "fig.update_layout(\n",
    "    legend=dict(\n",
    "        orientation=\"h\",\n",
    "        yanchor=\"bottom\",\n",
    "        y=1.02,\n",
    "        xanchor=\"right\",\n",
    "        x=1,\n",
    "        title=\"\"\n",
    "    )\n",
    ")\n",
    "display(fig)"
   ]
  },
  {
   "cell_type": "code",
   "execution_count": 131,
   "id": "64fa3c4c-b32d-4c43-adc1-c52e7074c556",
   "metadata": {},
   "outputs": [
    {
     "data": {
      "text/html": [
       "<iframe\n",
       "    scrolling=\"no\"\n",
       "    width=\"100%\"\n",
       "    height=\"545px\"\n",
       "    src=\"iframe_figures/figure_131.html\"\n",
       "    frameborder=\"0\"\n",
       "    allowfullscreen\n",
       "></iframe>\n"
      ]
     },
     "metadata": {},
     "output_type": "display_data"
    }
   ],
   "source": [
    "fig = px.scatter(f.drop_duplicates(),x=\"num_posts\",y=\"elapsed_days\", color=\"community_name\", marginal_y=\"box\", marginal_x=\"box\", log_x=True, log_y=True, trendline=\"ols\")\n",
    "fig.update_layout(\n",
    "    legend=dict(\n",
    "        orientation=\"h\",\n",
    "        yanchor=\"bottom\",\n",
    "        y=1.02,\n",
    "        xanchor=\"right\",\n",
    "        x=1,\n",
    "        title=\"\"\n",
    "    )\n",
    ")\n",
    "display(fig)"
   ]
  },
  {
   "cell_type": "code",
   "execution_count": 160,
   "id": "d530ec10-ba52-48a3-989b-3393e6fd4282",
   "metadata": {},
   "outputs": [
    {
     "data": {
      "text/html": [
       "<iframe\n",
       "    scrolling=\"no\"\n",
       "    width=\"100%\"\n",
       "    height=\"545px\"\n",
       "    src=\"iframe_figures/figure_160.html\"\n",
       "    frameborder=\"0\"\n",
       "    allowfullscreen\n",
       "></iframe>\n"
      ]
     },
     "metadata": {},
     "output_type": "display_data"
    }
   ],
   "source": [
    "fig = px.scatter(f.drop_duplicates(),x=\"num_posts\",y=\"number of contributors\", color=\"community_name\", marginal_y=\"box\", marginal_x=\"box\", log_x=True, log_y=True, trendline=\"lowess\")\n",
    "fig.update_layout(\n",
    "    legend=dict(\n",
    "        orientation=\"h\",\n",
    "        yanchor=\"bottom\",\n",
    "        y=1.02,\n",
    "        xanchor=\"right\",\n",
    "        x=1,\n",
    "        title=\"\"\n",
    "    )\n",
    ")\n",
    "fig.layout.template = 'seaborn'\n",
    "display(fig)"
   ]
  },
  {
   "cell_type": "code",
   "execution_count": 142,
   "id": "ce183a24-767f-4cb9-90b2-2d9810c6ab9e",
   "metadata": {},
   "outputs": [],
   "source": [
    "h = pici.report.topics_summary()"
   ]
  },
  {
   "cell_type": "code",
   "execution_count": 147,
   "id": "b738a5d4-97d8-44e2-acfe-4919e589febe",
   "metadata": {},
   "outputs": [],
   "source": [
    "h['answered'] = h.num_posts<2"
   ]
  },
  {
   "cell_type": "code",
   "execution_count": 153,
   "id": "92e01c27-3695-4238-b70e-f6356b40ccce",
   "metadata": {},
   "outputs": [
    {
     "data": {
      "text/plain": [
       "community_name\n",
       "OpenEnergyMonitor    0.120509\n",
       "OpenStreetMap        0.107179\n",
       "PreciousPlastic      0.311046\n",
       "Name: answered, dtype: float64"
      ]
     },
     "execution_count": 153,
     "metadata": {},
     "output_type": "execute_result"
    }
   ],
   "source": [
    "import numpy as np\n",
    "h.groupby(by=\"community_name\")[\"answered\"].apply(lambda x: np.sum(x)/len(x))"
   ]
  },
  {
   "cell_type": "code",
   "execution_count": 155,
   "id": "5744bd0d-5ba3-45cf-a838-f3a2f6a44889",
   "metadata": {},
   "outputs": [
    {
     "data": {
      "text/plain": [
       "community_name\n",
       "OpenEnergyMonitor    0.132353\n",
       "OpenStreetMap        0.105351\n",
       "PreciousPlastic      0.302230\n",
       "Name: answered, dtype: float64"
      ]
     },
     "execution_count": 155,
     "metadata": {},
     "output_type": "execute_result"
    }
   ],
   "source": [
    "h[h.first_post<'2019-01-01'].groupby(by=\"community_name\")[\"answered\"].apply(lambda x: np.sum(x)/len(x))"
   ]
  },
  {
   "cell_type": "code",
   "execution_count": null,
   "id": "844644ce-0e72-473a-ae6a-6f2c5bf82027",
   "metadata": {},
   "outputs": [],
   "source": []
  }
 ],
 "metadata": {
  "kernelspec": {
   "display_name": "Python 3 (ipykernel)",
   "language": "python",
   "name": "python3"
  },
  "language_info": {
   "codemirror_mode": {
    "name": "ipython",
    "version": 3
   },
   "file_extension": ".py",
   "mimetype": "text/x-python",
   "name": "python",
   "nbconvert_exporter": "python",
   "pygments_lexer": "ipython3",
   "version": "3.7.3"
  },
  "toc-autonumbering": false,
  "toc-showcode": true,
  "toc-showmarkdowntxt": false
 },
 "nbformat": 4,
 "nbformat_minor": 5
}
