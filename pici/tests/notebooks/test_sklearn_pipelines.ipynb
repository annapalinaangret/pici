{
 "cells": [
  {
   "cell_type": "code",
   "execution_count": 132,
   "outputs": [],
   "source": [
    "import pandas as pd\n",
    "import numpy as np\n",
    "import random\n",
    "\n",
    "from sklearn.pipeline import Pipeline, FeatureUnion\n",
    "from sklearn.preprocessing import FunctionTransformer\n",
    "from collections import ChainMap\n",
    "from sklearn import set_config"
   ],
   "metadata": {
    "collapsed": false,
    "pycharm": {
     "name": "#%%\n"
    }
   }
  },
  {
   "cell_type": "code",
   "execution_count": 133,
   "outputs": [],
   "source": [
    "set_config(display=\"diagram\")"
   ],
   "metadata": {
    "collapsed": false,
    "pycharm": {
     "name": "#%%\n"
    }
   }
  },
  {
   "cell_type": "code",
   "execution_count": 308,
   "outputs": [],
   "source": [
    "from sklearn.base import BaseEstimator, TransformerMixin\n",
    "\n",
    "class CommunitySetter(BaseEstimator, TransformerMixin):\n",
    "    def __init__(self, community_name):\n",
    "        self.community_name = community_name\n",
    "\n",
    "    def fit(self, x, y=None):\n",
    "        return self\n",
    "\n",
    "    def transform(self, df):\n",
    "        return df.assign(community_name=self.community_name).set_index([\"community_name\"], append=True)\n",
    "\n",
    "\n",
    "class ItemSelector(BaseEstimator, TransformerMixin):\n",
    "    \"\"\"For data grouped by feature, select subset of data at a provided key.\n",
    "\n",
    "    The data is expected to be stored in a 2D data structure, where the first\n",
    "    index is over features and the second is over samples.  i.e.\n",
    "\n",
    "    >> len(data[key]) == n_samples\n",
    "\n",
    "    Please note that this is the opposite convention to scikit-learn feature\n",
    "    matrixes (where the first index corresponds to sample).\n",
    "\n",
    "    ItemSelector only requires that the collection implement getitem\n",
    "    (data[key]).  Examples include: a dict of lists, 2D numpy array, Pandas\n",
    "    DataFrame, numpy record array, etc.\n",
    "\n",
    "    >> data = {'a': [1, 5, 2, 5, 2, 8],\n",
    "               'b': [9, 4, 1, 4, 1, 3]}\n",
    "    >> ds = ItemSelector(key='a')\n",
    "    >> data['a'] == ds.transform(data)\n",
    "\n",
    "    ItemSelector is not designed to handle data grouped by sample.  (e.g. a\n",
    "    list of dicts).  If your data is structured this way, consider a\n",
    "    transformer along the lines of `sklearn.feature_extraction.DictVectorizer`.\n",
    "\n",
    "    Parameters\n",
    "    ----------\n",
    "    key : hashable, required\n",
    "        The key corresponding to the desired value in a mappable.\n",
    "    \"\"\"\n",
    "    def __init__(self, key):\n",
    "        self.key = key\n",
    "\n",
    "    def fit(self, x, y=None):\n",
    "        return self\n",
    "\n",
    "    def transform(self, data_dict):\n",
    "        return data_dict[self.key]"
   ],
   "metadata": {
    "collapsed": false,
    "pycharm": {
     "name": "#%%\n"
    }
   }
  },
  {
   "cell_type": "code",
   "execution_count": 199,
   "outputs": [],
   "source": [
    "class ptest:\n",
    "    def __init__(self, name=None):\n",
    "        self.name = name\n",
    "        self.a = pd.DataFrame({\n",
    "            \"A_id\": [f\"a{i}\" for i in range(100)],\n",
    "            \"B_id\": [f\"b{random.randint(0, 9)}\" for i in range(100)],\n",
    "            \"x\": [random.randint(0, 1000) for i in range(100)],\n",
    "            \"y\": [random.randint(0, 1000) for i in range(100)],\n",
    "            \"z\": [random.randint(0, 1000) for i in range(100)],\n",
    "        }).set_index(\"A_id\")\n",
    "        self.b = pd.DataFrame({\n",
    "            \"B_id\": [f\"b{i}\" for i in range(10)],\n",
    "            \"b1\": [random.randint(0, 50) for i in range(10)],\n",
    "            \"b2\": [random.randint(0, 50) for i in range(10)],\n",
    "        }).set_index(\"B_id\")"
   ],
   "metadata": {
    "collapsed": false,
    "pycharm": {
     "name": "#%%\n"
    }
   }
  },
  {
   "cell_type": "code",
   "execution_count": 200,
   "outputs": [],
   "source": [
    "p = ptest()"
   ],
   "metadata": {
    "collapsed": false,
    "pycharm": {
     "name": "#%%\n"
    }
   }
  },
  {
   "cell_type": "code",
   "execution_count": 343,
   "outputs": [],
   "source": [
    "multiple_ps = {'A': ptest('A'), 'B': ptest('B'), 'C':ptest('C')}"
   ],
   "metadata": {
    "collapsed": false,
    "pycharm": {
     "name": "#%%\n"
    }
   }
  },
  {
   "cell_type": "code",
   "execution_count": 109,
   "outputs": [
    {
     "data": {
      "text/plain": "      b1  b2\nB_id        \nb0    13  26\nb1    12  36\nb2    25  19\nb3    19  38\nb4    21  16\nb5    19  42\nb6    28  18\nb7     2  41\nb8    49  25\nb9    15  43",
      "text/html": "<div>\n<style scoped>\n    .dataframe tbody tr th:only-of-type {\n        vertical-align: middle;\n    }\n\n    .dataframe tbody tr th {\n        vertical-align: top;\n    }\n\n    .dataframe thead th {\n        text-align: right;\n    }\n</style>\n<table border=\"1\" class=\"dataframe\">\n  <thead>\n    <tr style=\"text-align: right;\">\n      <th></th>\n      <th>b1</th>\n      <th>b2</th>\n    </tr>\n    <tr>\n      <th>B_id</th>\n      <th></th>\n      <th></th>\n    </tr>\n  </thead>\n  <tbody>\n    <tr>\n      <th>b0</th>\n      <td>13</td>\n      <td>26</td>\n    </tr>\n    <tr>\n      <th>b1</th>\n      <td>12</td>\n      <td>36</td>\n    </tr>\n    <tr>\n      <th>b2</th>\n      <td>25</td>\n      <td>19</td>\n    </tr>\n    <tr>\n      <th>b3</th>\n      <td>19</td>\n      <td>38</td>\n    </tr>\n    <tr>\n      <th>b4</th>\n      <td>21</td>\n      <td>16</td>\n    </tr>\n    <tr>\n      <th>b5</th>\n      <td>19</td>\n      <td>42</td>\n    </tr>\n    <tr>\n      <th>b6</th>\n      <td>28</td>\n      <td>18</td>\n    </tr>\n    <tr>\n      <th>b7</th>\n      <td>2</td>\n      <td>41</td>\n    </tr>\n    <tr>\n      <th>b8</th>\n      <td>49</td>\n      <td>25</td>\n    </tr>\n    <tr>\n      <th>b9</th>\n      <td>15</td>\n      <td>43</td>\n    </tr>\n  </tbody>\n</table>\n</div>"
     },
     "execution_count": 109,
     "metadata": {},
     "output_type": "execute_result"
    }
   ],
   "source": [
    "p.b"
   ],
   "metadata": {
    "collapsed": false,
    "pycharm": {
     "name": "#%%\n"
    }
   }
  },
  {
   "cell_type": "code",
   "execution_count": 121,
   "outputs": [],
   "source": [
    "def x_plus_y(X):\n",
    "    return {\n",
    "        'x+y': X.a.groupby(by=\"B_id\").apply(lambda g: g['x'].sum() + g['y'].sum())\n",
    "    }\n",
    "\n",
    "def x_per_b(X):\n",
    "    return {\n",
    "        'x_per_b': X.a.groupby(by=\"B_id\")['x'].nunique()\n",
    "    }\n",
    "\n",
    "def keep_features(X, view, keep):\n",
    "    return {\n",
    "        f: getattr(X, view)[f] for f in keep\n",
    "    }"
   ],
   "metadata": {
    "collapsed": false,
    "pycharm": {
     "name": "#%%\n"
    }
   }
  },
  {
   "cell_type": "code",
   "execution_count": 122,
   "outputs": [],
   "source": [
    "funcs = [x_plus_y, x_per_b, keep_features]\n",
    "feature_transformers = [(f.__name__, FunctionTransformer(f)) for f in funcs]"
   ],
   "metadata": {
    "collapsed": false,
    "pycharm": {
     "name": "#%%\n"
    }
   }
  },
  {
   "cell_type": "code",
   "execution_count": 123,
   "outputs": [],
   "source": [
    "pipe = Pipeline([\n",
    "    ('b_features', FeatureUnion(\n",
    "        feature_transformers# + [\n",
    "        #    ('keep_features', FunctionTransformer(keep_features, kw_args={'keep':[\"b1\",\"b2\"]}))\n",
    "        #]\n",
    "    )),\n",
    "    ('feature_rows_to_df', FunctionTransformer(lambda feats: pd.DataFrame(dict(ChainMap(*feats))))),\n",
    "])"
   ],
   "metadata": {
    "collapsed": false,
    "pycharm": {
     "name": "#%%\n"
    }
   }
  },
  {
   "cell_type": "code",
   "execution_count": 124,
   "outputs": [
    {
     "data": {
      "text/plain": "      b1  b2  x_per_b    x+y\nB_id                        \nb0    13  26        6   4244\nb1    12  36       13  16880\nb2    25  19        9   9796\nb3    19  38        7   8756\nb4    21  16        4   3078\nb5    19  42        9  10525\nb6    28  18        6   6563\nb7     2  41       13  13248\nb8    49  25       21  21852\nb9    15  43       12   9365",
      "text/html": "<div>\n<style scoped>\n    .dataframe tbody tr th:only-of-type {\n        vertical-align: middle;\n    }\n\n    .dataframe tbody tr th {\n        vertical-align: top;\n    }\n\n    .dataframe thead th {\n        text-align: right;\n    }\n</style>\n<table border=\"1\" class=\"dataframe\">\n  <thead>\n    <tr style=\"text-align: right;\">\n      <th></th>\n      <th>b1</th>\n      <th>b2</th>\n      <th>x_per_b</th>\n      <th>x+y</th>\n    </tr>\n    <tr>\n      <th>B_id</th>\n      <th></th>\n      <th></th>\n      <th></th>\n      <th></th>\n    </tr>\n  </thead>\n  <tbody>\n    <tr>\n      <th>b0</th>\n      <td>13</td>\n      <td>26</td>\n      <td>6</td>\n      <td>4244</td>\n    </tr>\n    <tr>\n      <th>b1</th>\n      <td>12</td>\n      <td>36</td>\n      <td>13</td>\n      <td>16880</td>\n    </tr>\n    <tr>\n      <th>b2</th>\n      <td>25</td>\n      <td>19</td>\n      <td>9</td>\n      <td>9796</td>\n    </tr>\n    <tr>\n      <th>b3</th>\n      <td>19</td>\n      <td>38</td>\n      <td>7</td>\n      <td>8756</td>\n    </tr>\n    <tr>\n      <th>b4</th>\n      <td>21</td>\n      <td>16</td>\n      <td>4</td>\n      <td>3078</td>\n    </tr>\n    <tr>\n      <th>b5</th>\n      <td>19</td>\n      <td>42</td>\n      <td>9</td>\n      <td>10525</td>\n    </tr>\n    <tr>\n      <th>b6</th>\n      <td>28</td>\n      <td>18</td>\n      <td>6</td>\n      <td>6563</td>\n    </tr>\n    <tr>\n      <th>b7</th>\n      <td>2</td>\n      <td>41</td>\n      <td>13</td>\n      <td>13248</td>\n    </tr>\n    <tr>\n      <th>b8</th>\n      <td>49</td>\n      <td>25</td>\n      <td>21</td>\n      <td>21852</td>\n    </tr>\n    <tr>\n      <th>b9</th>\n      <td>15</td>\n      <td>43</td>\n      <td>12</td>\n      <td>9365</td>\n    </tr>\n  </tbody>\n</table>\n</div>"
     },
     "execution_count": 124,
     "metadata": {},
     "output_type": "execute_result"
    }
   ],
   "source": [
    "pipe.set_params(**{\n",
    "    'b_features__keep_features__kw_args': {'view': 'b', 'keep': [\"b1\",\"b2\"]}\n",
    "})\n",
    "pipe.transform(p)"
   ],
   "metadata": {
    "collapsed": false,
    "pycharm": {
     "name": "#%%\n"
    }
   }
  },
  {
   "cell_type": "code",
   "execution_count": 87,
   "outputs": [
    {
     "data": {
      "text/plain": "{'memory': None,\n 'steps': [('features',\n   FeatureUnion(transformer_list=[('x_plus_y',\n                                   FunctionTransformer(func=<function x_plus_y at 0x0000020D0EDA85E0>)),\n                                  ('x_per_b',\n                                   FunctionTransformer(func=<function x_per_b at 0x0000020D0EC1E160>)),\n                                  ('keep_features',\n                                   FunctionTransformer(func=<function keep_features at 0x0000020D0EDB6F70>))])),\n  ('feature_rows_to_df',\n   FunctionTransformer(func=<function <lambda> at 0x0000020D0EFE5AF0>))],\n 'verbose': False,\n 'features': FeatureUnion(transformer_list=[('x_plus_y',\n                                 FunctionTransformer(func=<function x_plus_y at 0x0000020D0EDA85E0>)),\n                                ('x_per_b',\n                                 FunctionTransformer(func=<function x_per_b at 0x0000020D0EC1E160>)),\n                                ('keep_features',\n                                 FunctionTransformer(func=<function keep_features at 0x0000020D0EDB6F70>))]),\n 'feature_rows_to_df': FunctionTransformer(func=<function <lambda> at 0x0000020D0EFE5AF0>),\n 'features__n_jobs': None,\n 'features__transformer_list': [('x_plus_y',\n   FunctionTransformer(func=<function x_plus_y at 0x0000020D0EDA85E0>)),\n  ('x_per_b',\n   FunctionTransformer(func=<function x_per_b at 0x0000020D0EC1E160>)),\n  ('keep_features',\n   FunctionTransformer(func=<function keep_features at 0x0000020D0EDB6F70>))],\n 'features__transformer_weights': None,\n 'features__verbose': False,\n 'features__x_plus_y': FunctionTransformer(func=<function x_plus_y at 0x0000020D0EDA85E0>),\n 'features__x_per_b': FunctionTransformer(func=<function x_per_b at 0x0000020D0EC1E160>),\n 'features__keep_features': FunctionTransformer(func=<function keep_features at 0x0000020D0EDB6F70>),\n 'features__x_plus_y__accept_sparse': False,\n 'features__x_plus_y__check_inverse': True,\n 'features__x_plus_y__func': <function __main__.x_plus_y(X)>,\n 'features__x_plus_y__inv_kw_args': None,\n 'features__x_plus_y__inverse_func': None,\n 'features__x_plus_y__kw_args': None,\n 'features__x_plus_y__validate': False,\n 'features__x_per_b__accept_sparse': False,\n 'features__x_per_b__check_inverse': True,\n 'features__x_per_b__func': <function __main__.x_per_b(X)>,\n 'features__x_per_b__inv_kw_args': None,\n 'features__x_per_b__inverse_func': None,\n 'features__x_per_b__kw_args': None,\n 'features__x_per_b__validate': False,\n 'features__keep_features__accept_sparse': False,\n 'features__keep_features__check_inverse': True,\n 'features__keep_features__func': <function __main__.keep_features(X, features)>,\n 'features__keep_features__inv_kw_args': None,\n 'features__keep_features__inverse_func': None,\n 'features__keep_features__kw_args': None,\n 'features__keep_features__validate': False,\n 'feature_rows_to_df__accept_sparse': False,\n 'feature_rows_to_df__check_inverse': True,\n 'feature_rows_to_df__func': <function __main__.<lambda>(feats)>,\n 'feature_rows_to_df__inv_kw_args': None,\n 'feature_rows_to_df__inverse_func': None,\n 'feature_rows_to_df__kw_args': None,\n 'feature_rows_to_df__validate': False}"
     },
     "execution_count": 87,
     "metadata": {},
     "output_type": "execute_result"
    }
   ],
   "source": [
    "pipe.get_params()"
   ],
   "metadata": {
    "collapsed": false,
    "pycharm": {
     "name": "#%%\n"
    }
   }
  },
  {
   "cell_type": "code",
   "execution_count": 347,
   "outputs": [],
   "source": [
    "def generate_community_pipeline(communities, feature_pipe):\n",
    "\n",
    "    community_transformers = [\n",
    "        (community.name, Pipeline([\n",
    "            ('selector', ItemSelector(key=community.name)),\n",
    "            ('features', feature_pipe),\n",
    "            ('add_community_name', CommunitySetter(community_name=community.name)),\n",
    "            ('package', FunctionTransformer(\n",
    "                lambda df: {'features': df }\n",
    "            ))\n",
    "        ]))\n",
    "        for community in communities.values()\n",
    "    ]\n",
    "\n",
    "    pipe = Pipeline([\n",
    "        ('community_features', FeatureUnion(transformer_list=community_transformers)),\n",
    "        ('stack_communities', FunctionTransformer(lambda arr: pd.concat(\n",
    "            [\n",
    "                #res['features'].assign(community_name=res['community'].name).set_index([\"community_name\"], append=True)\n",
    "                res['features']\n",
    "                for res in arr.tolist()\n",
    "            ],\n",
    "            axis=0\n",
    "        ))),\n",
    "        #('feature_rows_to_df', FunctionTransformer(lambda feats: pd.DataFrame(dict(ChainMap(*feats))))),\n",
    "    ])\n",
    "\n",
    "    return pipe"
   ],
   "metadata": {
    "collapsed": false,
    "pycharm": {
     "name": "#%%\n"
    }
   }
  },
  {
   "cell_type": "code",
   "execution_count": 348,
   "outputs": [],
   "source": [
    "pipe_all = pipeline_generator(multiple_ps, pipe)"
   ],
   "metadata": {
    "collapsed": false,
    "pycharm": {
     "name": "#%%\n"
    }
   }
  },
  {
   "cell_type": "code",
   "execution_count": 349,
   "outputs": [
    {
     "data": {
      "text/plain": "                     b1  b2  x_per_b    x+y\nB_id community_name                        \nb0   A                5  37       13  18108\nb1   A               26  29        8   8548\nb2   A               12  29       12  11206\nb3   A               42  40        8   8156\nb4   A               31  42        7   7541\nb5   A               48  47       10  10349\nb6   A               39  28        9   7073\nb7   A                8  18       12  12734\nb8   A               36  14        9   8856\nb9   A               10  27        9   8924\nb0   B                7  49       11   9823\nb1   B               12  30       13  13601\nb2   B               28  29        7   6372\nb3   B                5   8        8   8055\nb4   B               24   0       10   7856\nb5   B               13  42        9   7242\nb6   B               15   2        8   7160\nb7   B               30  32        9   8979\nb8   B                6   3       12  10471\nb9   B               29   6       13  14001\nb0   C               38  13       12  11015\nb1   C               38  15        8   8055\nb2   C               47  14        9   8722\nb3   C               25  28        8   6811\nb4   C               18  18       15  12990\nb5   C                9  37        9  10084\nb6   C                8  42        7   8602\nb7   C               19  31        8   6650\nb8   C               22  25       13  14169\nb9   C               32  43       11  11549",
      "text/html": "<div>\n<style scoped>\n    .dataframe tbody tr th:only-of-type {\n        vertical-align: middle;\n    }\n\n    .dataframe tbody tr th {\n        vertical-align: top;\n    }\n\n    .dataframe thead th {\n        text-align: right;\n    }\n</style>\n<table border=\"1\" class=\"dataframe\">\n  <thead>\n    <tr style=\"text-align: right;\">\n      <th></th>\n      <th></th>\n      <th>b1</th>\n      <th>b2</th>\n      <th>x_per_b</th>\n      <th>x+y</th>\n    </tr>\n    <tr>\n      <th>B_id</th>\n      <th>community_name</th>\n      <th></th>\n      <th></th>\n      <th></th>\n      <th></th>\n    </tr>\n  </thead>\n  <tbody>\n    <tr>\n      <th>b0</th>\n      <th>A</th>\n      <td>5</td>\n      <td>37</td>\n      <td>13</td>\n      <td>18108</td>\n    </tr>\n    <tr>\n      <th>b1</th>\n      <th>A</th>\n      <td>26</td>\n      <td>29</td>\n      <td>8</td>\n      <td>8548</td>\n    </tr>\n    <tr>\n      <th>b2</th>\n      <th>A</th>\n      <td>12</td>\n      <td>29</td>\n      <td>12</td>\n      <td>11206</td>\n    </tr>\n    <tr>\n      <th>b3</th>\n      <th>A</th>\n      <td>42</td>\n      <td>40</td>\n      <td>8</td>\n      <td>8156</td>\n    </tr>\n    <tr>\n      <th>b4</th>\n      <th>A</th>\n      <td>31</td>\n      <td>42</td>\n      <td>7</td>\n      <td>7541</td>\n    </tr>\n    <tr>\n      <th>b5</th>\n      <th>A</th>\n      <td>48</td>\n      <td>47</td>\n      <td>10</td>\n      <td>10349</td>\n    </tr>\n    <tr>\n      <th>b6</th>\n      <th>A</th>\n      <td>39</td>\n      <td>28</td>\n      <td>9</td>\n      <td>7073</td>\n    </tr>\n    <tr>\n      <th>b7</th>\n      <th>A</th>\n      <td>8</td>\n      <td>18</td>\n      <td>12</td>\n      <td>12734</td>\n    </tr>\n    <tr>\n      <th>b8</th>\n      <th>A</th>\n      <td>36</td>\n      <td>14</td>\n      <td>9</td>\n      <td>8856</td>\n    </tr>\n    <tr>\n      <th>b9</th>\n      <th>A</th>\n      <td>10</td>\n      <td>27</td>\n      <td>9</td>\n      <td>8924</td>\n    </tr>\n    <tr>\n      <th>b0</th>\n      <th>B</th>\n      <td>7</td>\n      <td>49</td>\n      <td>11</td>\n      <td>9823</td>\n    </tr>\n    <tr>\n      <th>b1</th>\n      <th>B</th>\n      <td>12</td>\n      <td>30</td>\n      <td>13</td>\n      <td>13601</td>\n    </tr>\n    <tr>\n      <th>b2</th>\n      <th>B</th>\n      <td>28</td>\n      <td>29</td>\n      <td>7</td>\n      <td>6372</td>\n    </tr>\n    <tr>\n      <th>b3</th>\n      <th>B</th>\n      <td>5</td>\n      <td>8</td>\n      <td>8</td>\n      <td>8055</td>\n    </tr>\n    <tr>\n      <th>b4</th>\n      <th>B</th>\n      <td>24</td>\n      <td>0</td>\n      <td>10</td>\n      <td>7856</td>\n    </tr>\n    <tr>\n      <th>b5</th>\n      <th>B</th>\n      <td>13</td>\n      <td>42</td>\n      <td>9</td>\n      <td>7242</td>\n    </tr>\n    <tr>\n      <th>b6</th>\n      <th>B</th>\n      <td>15</td>\n      <td>2</td>\n      <td>8</td>\n      <td>7160</td>\n    </tr>\n    <tr>\n      <th>b7</th>\n      <th>B</th>\n      <td>30</td>\n      <td>32</td>\n      <td>9</td>\n      <td>8979</td>\n    </tr>\n    <tr>\n      <th>b8</th>\n      <th>B</th>\n      <td>6</td>\n      <td>3</td>\n      <td>12</td>\n      <td>10471</td>\n    </tr>\n    <tr>\n      <th>b9</th>\n      <th>B</th>\n      <td>29</td>\n      <td>6</td>\n      <td>13</td>\n      <td>14001</td>\n    </tr>\n    <tr>\n      <th>b0</th>\n      <th>C</th>\n      <td>38</td>\n      <td>13</td>\n      <td>12</td>\n      <td>11015</td>\n    </tr>\n    <tr>\n      <th>b1</th>\n      <th>C</th>\n      <td>38</td>\n      <td>15</td>\n      <td>8</td>\n      <td>8055</td>\n    </tr>\n    <tr>\n      <th>b2</th>\n      <th>C</th>\n      <td>47</td>\n      <td>14</td>\n      <td>9</td>\n      <td>8722</td>\n    </tr>\n    <tr>\n      <th>b3</th>\n      <th>C</th>\n      <td>25</td>\n      <td>28</td>\n      <td>8</td>\n      <td>6811</td>\n    </tr>\n    <tr>\n      <th>b4</th>\n      <th>C</th>\n      <td>18</td>\n      <td>18</td>\n      <td>15</td>\n      <td>12990</td>\n    </tr>\n    <tr>\n      <th>b5</th>\n      <th>C</th>\n      <td>9</td>\n      <td>37</td>\n      <td>9</td>\n      <td>10084</td>\n    </tr>\n    <tr>\n      <th>b6</th>\n      <th>C</th>\n      <td>8</td>\n      <td>42</td>\n      <td>7</td>\n      <td>8602</td>\n    </tr>\n    <tr>\n      <th>b7</th>\n      <th>C</th>\n      <td>19</td>\n      <td>31</td>\n      <td>8</td>\n      <td>6650</td>\n    </tr>\n    <tr>\n      <th>b8</th>\n      <th>C</th>\n      <td>22</td>\n      <td>25</td>\n      <td>13</td>\n      <td>14169</td>\n    </tr>\n    <tr>\n      <th>b9</th>\n      <th>C</th>\n      <td>32</td>\n      <td>43</td>\n      <td>11</td>\n      <td>11549</td>\n    </tr>\n  </tbody>\n</table>\n</div>"
     },
     "execution_count": 349,
     "metadata": {},
     "output_type": "execute_result"
    }
   ],
   "source": [
    "pipe_all.transform(multiple_ps)"
   ],
   "metadata": {
    "collapsed": false,
    "pycharm": {
     "name": "#%%\n"
    }
   }
  },
  {
   "cell_type": "code",
   "execution_count": 244,
   "outputs": [
    {
     "data": {
      "text/plain": "Pipeline(steps=[('community_features',\n                 FeatureUnion(transformer_list=[('A',\n                                                 Pipeline(steps=[('selector',\n                                                                  ItemSelector(key='A')),\n                                                                 ('features',\n                                                                  Pipeline(steps=[('b_features',\n                                                                                   FeatureUnion(transformer_list=[('x_plus_y',\n                                                                                                                   FunctionTransformer(func=<function x_plus_y at 0x0000020D0EDA8940>)),\n                                                                                                                  ('x_per_b',\n                                                                                                                   FunctionTransformer(func=<function x_per_b at 0x0000020D0EFE5040>)...\n                                                                 ('add_community_name',\n                                                                  FunctionTransformer(func=<function pipeline_generator.<locals>.<listcomp>.<lambda> at 0x0000020D124F13A0>)),\n                                                                 ('package',\n                                                                  FunctionTransformer(func=<function pipeline_generator.<locals>.<listcomp>.<lambda> at 0x0000020D124F1280>))]))])),\n                ('stack_communities',\n                 FunctionTransformer(func=<function pipeline_generator.<locals>.<lambda> at 0x0000020D10BA7550>))])",
      "text/html": "<style>#sk-4255a9df-b81f-4529-97f5-6203ef81d093 {color: black;background-color: white;}#sk-4255a9df-b81f-4529-97f5-6203ef81d093 pre{padding: 0;}#sk-4255a9df-b81f-4529-97f5-6203ef81d093 div.sk-toggleable {background-color: white;}#sk-4255a9df-b81f-4529-97f5-6203ef81d093 label.sk-toggleable__label {cursor: pointer;display: block;width: 100%;margin-bottom: 0;padding: 0.3em;box-sizing: border-box;text-align: center;}#sk-4255a9df-b81f-4529-97f5-6203ef81d093 label.sk-toggleable__label-arrow:before {content: \"▸\";float: left;margin-right: 0.25em;color: #696969;}#sk-4255a9df-b81f-4529-97f5-6203ef81d093 label.sk-toggleable__label-arrow:hover:before {color: black;}#sk-4255a9df-b81f-4529-97f5-6203ef81d093 div.sk-estimator:hover label.sk-toggleable__label-arrow:before {color: black;}#sk-4255a9df-b81f-4529-97f5-6203ef81d093 div.sk-toggleable__content {max-height: 0;max-width: 0;overflow: hidden;text-align: left;background-color: #f0f8ff;}#sk-4255a9df-b81f-4529-97f5-6203ef81d093 div.sk-toggleable__content pre {margin: 0.2em;color: black;border-radius: 0.25em;background-color: #f0f8ff;}#sk-4255a9df-b81f-4529-97f5-6203ef81d093 input.sk-toggleable__control:checked~div.sk-toggleable__content {max-height: 200px;max-width: 100%;overflow: auto;}#sk-4255a9df-b81f-4529-97f5-6203ef81d093 input.sk-toggleable__control:checked~label.sk-toggleable__label-arrow:before {content: \"▾\";}#sk-4255a9df-b81f-4529-97f5-6203ef81d093 div.sk-estimator input.sk-toggleable__control:checked~label.sk-toggleable__label {background-color: #d4ebff;}#sk-4255a9df-b81f-4529-97f5-6203ef81d093 div.sk-label input.sk-toggleable__control:checked~label.sk-toggleable__label {background-color: #d4ebff;}#sk-4255a9df-b81f-4529-97f5-6203ef81d093 input.sk-hidden--visually {border: 0;clip: rect(1px 1px 1px 1px);clip: rect(1px, 1px, 1px, 1px);height: 1px;margin: -1px;overflow: hidden;padding: 0;position: absolute;width: 1px;}#sk-4255a9df-b81f-4529-97f5-6203ef81d093 div.sk-estimator {font-family: monospace;background-color: #f0f8ff;border: 1px dotted black;border-radius: 0.25em;box-sizing: border-box;margin-bottom: 0.5em;}#sk-4255a9df-b81f-4529-97f5-6203ef81d093 div.sk-estimator:hover {background-color: #d4ebff;}#sk-4255a9df-b81f-4529-97f5-6203ef81d093 div.sk-parallel-item::after {content: \"\";width: 100%;border-bottom: 1px solid gray;flex-grow: 1;}#sk-4255a9df-b81f-4529-97f5-6203ef81d093 div.sk-label:hover label.sk-toggleable__label {background-color: #d4ebff;}#sk-4255a9df-b81f-4529-97f5-6203ef81d093 div.sk-serial::before {content: \"\";position: absolute;border-left: 1px solid gray;box-sizing: border-box;top: 2em;bottom: 0;left: 50%;}#sk-4255a9df-b81f-4529-97f5-6203ef81d093 div.sk-serial {display: flex;flex-direction: column;align-items: center;background-color: white;padding-right: 0.2em;padding-left: 0.2em;}#sk-4255a9df-b81f-4529-97f5-6203ef81d093 div.sk-item {z-index: 1;}#sk-4255a9df-b81f-4529-97f5-6203ef81d093 div.sk-parallel {display: flex;align-items: stretch;justify-content: center;background-color: white;}#sk-4255a9df-b81f-4529-97f5-6203ef81d093 div.sk-parallel::before {content: \"\";position: absolute;border-left: 1px solid gray;box-sizing: border-box;top: 2em;bottom: 0;left: 50%;}#sk-4255a9df-b81f-4529-97f5-6203ef81d093 div.sk-parallel-item {display: flex;flex-direction: column;position: relative;background-color: white;}#sk-4255a9df-b81f-4529-97f5-6203ef81d093 div.sk-parallel-item:first-child::after {align-self: flex-end;width: 50%;}#sk-4255a9df-b81f-4529-97f5-6203ef81d093 div.sk-parallel-item:last-child::after {align-self: flex-start;width: 50%;}#sk-4255a9df-b81f-4529-97f5-6203ef81d093 div.sk-parallel-item:only-child::after {width: 0;}#sk-4255a9df-b81f-4529-97f5-6203ef81d093 div.sk-dashed-wrapped {border: 1px dashed gray;margin: 0 0.4em 0.5em 0.4em;box-sizing: border-box;padding-bottom: 0.4em;background-color: white;position: relative;}#sk-4255a9df-b81f-4529-97f5-6203ef81d093 div.sk-label label {font-family: monospace;font-weight: bold;background-color: white;display: inline-block;line-height: 1.2em;}#sk-4255a9df-b81f-4529-97f5-6203ef81d093 div.sk-label-container {position: relative;z-index: 2;text-align: center;}#sk-4255a9df-b81f-4529-97f5-6203ef81d093 div.sk-container {/* jupyter's `normalize.less` sets `[hidden] { display: none; }` but bootstrap.min.css set `[hidden] { display: none !important; }` so we also need the `!important` here to be able to override the default hidden behavior on the sphinx rendered scikit-learn.org. See: https://github.com/scikit-learn/scikit-learn/issues/21755 */display: inline-block !important;position: relative;}#sk-4255a9df-b81f-4529-97f5-6203ef81d093 div.sk-text-repr-fallback {display: none;}</style><div id=\"sk-4255a9df-b81f-4529-97f5-6203ef81d093\" class=\"sk-top-container\"><div class=\"sk-text-repr-fallback\"><pre>Pipeline(steps=[(&#x27;community_features&#x27;,\n                 FeatureUnion(transformer_list=[(&#x27;A&#x27;,\n                                                 Pipeline(steps=[(&#x27;selector&#x27;,\n                                                                  ItemSelector(key=&#x27;A&#x27;)),\n                                                                 (&#x27;features&#x27;,\n                                                                  Pipeline(steps=[(&#x27;b_features&#x27;,\n                                                                                   FeatureUnion(transformer_list=[(&#x27;x_plus_y&#x27;,\n                                                                                                                   FunctionTransformer(func=&lt;function x_plus_y at 0x0000020D0EDA8940&gt;)),\n                                                                                                                  (&#x27;x_per_b&#x27;,\n                                                                                                                   FunctionTransformer(func=&lt;function x_per_b at 0x0000020D0EFE5040&gt;)...\n                                                                 (&#x27;add_community_name&#x27;,\n                                                                  FunctionTransformer(func=&lt;function pipeline_generator.&lt;locals&gt;.&lt;listcomp&gt;.&lt;lambda&gt; at 0x0000020D124F13A0&gt;)),\n                                                                 (&#x27;package&#x27;,\n                                                                  FunctionTransformer(func=&lt;function pipeline_generator.&lt;locals&gt;.&lt;listcomp&gt;.&lt;lambda&gt; at 0x0000020D124F1280&gt;))]))])),\n                (&#x27;stack_communities&#x27;,\n                 FunctionTransformer(func=&lt;function pipeline_generator.&lt;locals&gt;.&lt;lambda&gt; at 0x0000020D10BA7550&gt;))])</pre><b>Please rerun this cell to show the HTML repr or trust the notebook.</b></div><div class=\"sk-container\" hidden><div class=\"sk-item sk-dashed-wrapped\"><div class=\"sk-label-container\"><div class=\"sk-label sk-toggleable\"><input class=\"sk-toggleable__control sk-hidden--visually\" id=\"49f56d55-1a24-44b8-b574-a193b4914ef5\" type=\"checkbox\" ><label for=\"49f56d55-1a24-44b8-b574-a193b4914ef5\" class=\"sk-toggleable__label sk-toggleable__label-arrow\">Pipeline</label><div class=\"sk-toggleable__content\"><pre>Pipeline(steps=[(&#x27;community_features&#x27;,\n                 FeatureUnion(transformer_list=[(&#x27;A&#x27;,\n                                                 Pipeline(steps=[(&#x27;selector&#x27;,\n                                                                  ItemSelector(key=&#x27;A&#x27;)),\n                                                                 (&#x27;features&#x27;,\n                                                                  Pipeline(steps=[(&#x27;b_features&#x27;,\n                                                                                   FeatureUnion(transformer_list=[(&#x27;x_plus_y&#x27;,\n                                                                                                                   FunctionTransformer(func=&lt;function x_plus_y at 0x0000020D0EDA8940&gt;)),\n                                                                                                                  (&#x27;x_per_b&#x27;,\n                                                                                                                   FunctionTransformer(func=&lt;function x_per_b at 0x0000020D0EFE5040&gt;)...\n                                                                 (&#x27;add_community_name&#x27;,\n                                                                  FunctionTransformer(func=&lt;function pipeline_generator.&lt;locals&gt;.&lt;listcomp&gt;.&lt;lambda&gt; at 0x0000020D124F13A0&gt;)),\n                                                                 (&#x27;package&#x27;,\n                                                                  FunctionTransformer(func=&lt;function pipeline_generator.&lt;locals&gt;.&lt;listcomp&gt;.&lt;lambda&gt; at 0x0000020D124F1280&gt;))]))])),\n                (&#x27;stack_communities&#x27;,\n                 FunctionTransformer(func=&lt;function pipeline_generator.&lt;locals&gt;.&lt;lambda&gt; at 0x0000020D10BA7550&gt;))])</pre></div></div></div><div class=\"sk-serial\"><div class=\"sk-item sk-dashed-wrapped\"><div class=\"sk-label-container\"><div class=\"sk-label sk-toggleable\"><input class=\"sk-toggleable__control sk-hidden--visually\" id=\"0178c0ad-bbfe-4b74-a721-a5dd96ca1216\" type=\"checkbox\" ><label for=\"0178c0ad-bbfe-4b74-a721-a5dd96ca1216\" class=\"sk-toggleable__label sk-toggleable__label-arrow\">community_features: FeatureUnion</label><div class=\"sk-toggleable__content\"><pre>FeatureUnion(transformer_list=[(&#x27;A&#x27;,\n                                Pipeline(steps=[(&#x27;selector&#x27;,\n                                                 ItemSelector(key=&#x27;A&#x27;)),\n                                                (&#x27;features&#x27;,\n                                                 Pipeline(steps=[(&#x27;b_features&#x27;,\n                                                                  FeatureUnion(transformer_list=[(&#x27;x_plus_y&#x27;,\n                                                                                                  FunctionTransformer(func=&lt;function x_plus_y at 0x0000020D0EDA8940&gt;)),\n                                                                                                 (&#x27;x_per_b&#x27;,\n                                                                                                  FunctionTransformer(func=&lt;function x_per_b at 0x0000020D0EFE5040&gt;)),\n                                                                                                 (&#x27;keep_features&#x27;,\n                                                                                                  FunctionTransformer...\n                                                                                                                               &#x27;view&#x27;: &#x27;b&#x27;}))])),\n                                                                 (&#x27;feature_rows_to_df&#x27;,\n                                                                  FunctionTransformer(func=&lt;function &lt;lambda&gt; at 0x0000020D0EB91040&gt;))])),\n                                                (&#x27;add_community_name&#x27;,\n                                                 FunctionTransformer(func=&lt;function pipeline_generator.&lt;locals&gt;.&lt;listcomp&gt;.&lt;lambda&gt; at 0x0000020D124F13A0&gt;)),\n                                                (&#x27;package&#x27;,\n                                                 FunctionTransformer(func=&lt;function pipeline_generator.&lt;locals&gt;.&lt;listcomp&gt;.&lt;lambda&gt; at 0x0000020D124F1280&gt;))]))])</pre></div></div></div><div class=\"sk-parallel\"><div class=\"sk-parallel-item\"><div class=\"sk-item\"><div class=\"sk-label-container\"><div class=\"sk-label sk-toggleable\"><label>A</label></div></div><div class=\"sk-serial\"><div class=\"sk-item\"><div class=\"sk-serial\"><div class=\"sk-item\"><div class=\"sk-estimator sk-toggleable\"><input class=\"sk-toggleable__control sk-hidden--visually\" id=\"de52457c-784a-4bc4-a544-a539a1f8cfc9\" type=\"checkbox\" ><label for=\"de52457c-784a-4bc4-a544-a539a1f8cfc9\" class=\"sk-toggleable__label sk-toggleable__label-arrow\">ItemSelector</label><div class=\"sk-toggleable__content\"><pre>ItemSelector(key=&#x27;A&#x27;)</pre></div></div></div><div class=\"sk-item\"><div class=\"sk-label-container\"><div class=\"sk-label sk-toggleable\"><input class=\"sk-toggleable__control sk-hidden--visually\" id=\"1f65f121-6e76-41f1-a6a7-fc8b14383096\" type=\"checkbox\" ><label for=\"1f65f121-6e76-41f1-a6a7-fc8b14383096\" class=\"sk-toggleable__label sk-toggleable__label-arrow\">features: Pipeline</label><div class=\"sk-toggleable__content\"><pre>Pipeline(steps=[(&#x27;b_features&#x27;,\n                 FeatureUnion(transformer_list=[(&#x27;x_plus_y&#x27;,\n                                                 FunctionTransformer(func=&lt;function x_plus_y at 0x0000020D0EDA8940&gt;)),\n                                                (&#x27;x_per_b&#x27;,\n                                                 FunctionTransformer(func=&lt;function x_per_b at 0x0000020D0EFE5040&gt;)),\n                                                (&#x27;keep_features&#x27;,\n                                                 FunctionTransformer(func=&lt;function keep_features at 0x0000020D0F3071F0&gt;,\n                                                                     kw_args={&#x27;keep&#x27;: [&#x27;b1&#x27;,\n                                                                                       &#x27;b2&#x27;],\n                                                                              &#x27;view&#x27;: &#x27;b&#x27;}))])),\n                (&#x27;feature_rows_to_df&#x27;,\n                 FunctionTransformer(func=&lt;function &lt;lambda&gt; at 0x0000020D0EB91040&gt;))])</pre></div></div></div><div class=\"sk-serial\"><div class=\"sk-item sk-dashed-wrapped\"><div class=\"sk-label-container\"><div class=\"sk-label sk-toggleable\"><input class=\"sk-toggleable__control sk-hidden--visually\" id=\"6a9f99df-0f3d-4463-a7e7-30255a0b234c\" type=\"checkbox\" ><label for=\"6a9f99df-0f3d-4463-a7e7-30255a0b234c\" class=\"sk-toggleable__label sk-toggleable__label-arrow\">b_features: FeatureUnion</label><div class=\"sk-toggleable__content\"><pre>FeatureUnion(transformer_list=[(&#x27;x_plus_y&#x27;,\n                                FunctionTransformer(func=&lt;function x_plus_y at 0x0000020D0EDA8940&gt;)),\n                               (&#x27;x_per_b&#x27;,\n                                FunctionTransformer(func=&lt;function x_per_b at 0x0000020D0EFE5040&gt;)),\n                               (&#x27;keep_features&#x27;,\n                                FunctionTransformer(func=&lt;function keep_features at 0x0000020D0F3071F0&gt;,\n                                                    kw_args={&#x27;keep&#x27;: [&#x27;b1&#x27;,\n                                                                      &#x27;b2&#x27;],\n                                                             &#x27;view&#x27;: &#x27;b&#x27;}))])</pre></div></div></div><div class=\"sk-parallel\"><div class=\"sk-parallel-item\"><div class=\"sk-item\"><div class=\"sk-label-container\"><div class=\"sk-label sk-toggleable\"><label>x_plus_y</label></div></div><div class=\"sk-serial\"><div class=\"sk-item\"><div class=\"sk-estimator sk-toggleable\"><input class=\"sk-toggleable__control sk-hidden--visually\" id=\"04165518-050a-4d8a-b814-7855805486ff\" type=\"checkbox\" ><label for=\"04165518-050a-4d8a-b814-7855805486ff\" class=\"sk-toggleable__label sk-toggleable__label-arrow\">FunctionTransformer</label><div class=\"sk-toggleable__content\"><pre>FunctionTransformer(func=&lt;function x_plus_y at 0x0000020D0EDA8940&gt;)</pre></div></div></div></div></div></div><div class=\"sk-parallel-item\"><div class=\"sk-item\"><div class=\"sk-label-container\"><div class=\"sk-label sk-toggleable\"><label>x_per_b</label></div></div><div class=\"sk-serial\"><div class=\"sk-item\"><div class=\"sk-estimator sk-toggleable\"><input class=\"sk-toggleable__control sk-hidden--visually\" id=\"9dda8fa1-df45-42e2-97ae-315dd5d0f098\" type=\"checkbox\" ><label for=\"9dda8fa1-df45-42e2-97ae-315dd5d0f098\" class=\"sk-toggleable__label sk-toggleable__label-arrow\">FunctionTransformer</label><div class=\"sk-toggleable__content\"><pre>FunctionTransformer(func=&lt;function x_per_b at 0x0000020D0EFE5040&gt;)</pre></div></div></div></div></div></div><div class=\"sk-parallel-item\"><div class=\"sk-item\"><div class=\"sk-label-container\"><div class=\"sk-label sk-toggleable\"><label>keep_features</label></div></div><div class=\"sk-serial\"><div class=\"sk-item\"><div class=\"sk-estimator sk-toggleable\"><input class=\"sk-toggleable__control sk-hidden--visually\" id=\"efb2dce8-27f1-43ae-aa82-2332a1eabf58\" type=\"checkbox\" ><label for=\"efb2dce8-27f1-43ae-aa82-2332a1eabf58\" class=\"sk-toggleable__label sk-toggleable__label-arrow\">FunctionTransformer</label><div class=\"sk-toggleable__content\"><pre>FunctionTransformer(func=&lt;function keep_features at 0x0000020D0F3071F0&gt;,\n                    kw_args={&#x27;keep&#x27;: [&#x27;b1&#x27;, &#x27;b2&#x27;], &#x27;view&#x27;: &#x27;b&#x27;})</pre></div></div></div></div></div></div></div></div><div class=\"sk-item\"><div class=\"sk-estimator sk-toggleable\"><input class=\"sk-toggleable__control sk-hidden--visually\" id=\"574a1d6c-d87d-4189-bf19-7adc54f6aa69\" type=\"checkbox\" ><label for=\"574a1d6c-d87d-4189-bf19-7adc54f6aa69\" class=\"sk-toggleable__label sk-toggleable__label-arrow\">FunctionTransformer</label><div class=\"sk-toggleable__content\"><pre>FunctionTransformer(func=&lt;function &lt;lambda&gt; at 0x0000020D0EB91040&gt;)</pre></div></div></div></div></div><div class=\"sk-item\"><div class=\"sk-estimator sk-toggleable\"><input class=\"sk-toggleable__control sk-hidden--visually\" id=\"f26d2a79-d0da-476c-b03b-bbdcd9a34882\" type=\"checkbox\" ><label for=\"f26d2a79-d0da-476c-b03b-bbdcd9a34882\" class=\"sk-toggleable__label sk-toggleable__label-arrow\">FunctionTransformer</label><div class=\"sk-toggleable__content\"><pre>FunctionTransformer(func=&lt;function pipeline_generator.&lt;locals&gt;.&lt;listcomp&gt;.&lt;lambda&gt; at 0x0000020D10A5B3A0&gt;)</pre></div></div></div><div class=\"sk-item\"><div class=\"sk-estimator sk-toggleable\"><input class=\"sk-toggleable__control sk-hidden--visually\" id=\"90daa969-d28e-4175-becb-91315ed02d4e\" type=\"checkbox\" ><label for=\"90daa969-d28e-4175-becb-91315ed02d4e\" class=\"sk-toggleable__label sk-toggleable__label-arrow\">FunctionTransformer</label><div class=\"sk-toggleable__content\"><pre>FunctionTransformer(func=&lt;function pipeline_generator.&lt;locals&gt;.&lt;listcomp&gt;.&lt;lambda&gt; at 0x0000020D124F14C0&gt;)</pre></div></div></div></div></div></div></div></div><div class=\"sk-parallel-item\"><div class=\"sk-item\"><div class=\"sk-label-container\"><div class=\"sk-label sk-toggleable\"><label>B</label></div></div><div class=\"sk-serial\"><div class=\"sk-item\"><div class=\"sk-serial\"><div class=\"sk-item\"><div class=\"sk-estimator sk-toggleable\"><input class=\"sk-toggleable__control sk-hidden--visually\" id=\"d2dcc278-1f8e-4331-8d12-a262fdc96eac\" type=\"checkbox\" ><label for=\"d2dcc278-1f8e-4331-8d12-a262fdc96eac\" class=\"sk-toggleable__label sk-toggleable__label-arrow\">ItemSelector</label><div class=\"sk-toggleable__content\"><pre>ItemSelector(key=&#x27;B&#x27;)</pre></div></div></div><div class=\"sk-item\"><div class=\"sk-label-container\"><div class=\"sk-label sk-toggleable\"><input class=\"sk-toggleable__control sk-hidden--visually\" id=\"4406dab7-619c-4a99-862a-7c88c22ce992\" type=\"checkbox\" ><label for=\"4406dab7-619c-4a99-862a-7c88c22ce992\" class=\"sk-toggleable__label sk-toggleable__label-arrow\">features: Pipeline</label><div class=\"sk-toggleable__content\"><pre>Pipeline(steps=[(&#x27;b_features&#x27;,\n                 FeatureUnion(transformer_list=[(&#x27;x_plus_y&#x27;,\n                                                 FunctionTransformer(func=&lt;function x_plus_y at 0x0000020D0EDA8940&gt;)),\n                                                (&#x27;x_per_b&#x27;,\n                                                 FunctionTransformer(func=&lt;function x_per_b at 0x0000020D0EFE5040&gt;)),\n                                                (&#x27;keep_features&#x27;,\n                                                 FunctionTransformer(func=&lt;function keep_features at 0x0000020D0F3071F0&gt;,\n                                                                     kw_args={&#x27;keep&#x27;: [&#x27;b1&#x27;,\n                                                                                       &#x27;b2&#x27;],\n                                                                              &#x27;view&#x27;: &#x27;b&#x27;}))])),\n                (&#x27;feature_rows_to_df&#x27;,\n                 FunctionTransformer(func=&lt;function &lt;lambda&gt; at 0x0000020D0EB91040&gt;))])</pre></div></div></div><div class=\"sk-serial\"><div class=\"sk-item sk-dashed-wrapped\"><div class=\"sk-label-container\"><div class=\"sk-label sk-toggleable\"><input class=\"sk-toggleable__control sk-hidden--visually\" id=\"04dc1781-bf6c-45a0-b0b3-54dda39f0cec\" type=\"checkbox\" ><label for=\"04dc1781-bf6c-45a0-b0b3-54dda39f0cec\" class=\"sk-toggleable__label sk-toggleable__label-arrow\">b_features: FeatureUnion</label><div class=\"sk-toggleable__content\"><pre>FeatureUnion(transformer_list=[(&#x27;x_plus_y&#x27;,\n                                FunctionTransformer(func=&lt;function x_plus_y at 0x0000020D0EDA8940&gt;)),\n                               (&#x27;x_per_b&#x27;,\n                                FunctionTransformer(func=&lt;function x_per_b at 0x0000020D0EFE5040&gt;)),\n                               (&#x27;keep_features&#x27;,\n                                FunctionTransformer(func=&lt;function keep_features at 0x0000020D0F3071F0&gt;,\n                                                    kw_args={&#x27;keep&#x27;: [&#x27;b1&#x27;,\n                                                                      &#x27;b2&#x27;],\n                                                             &#x27;view&#x27;: &#x27;b&#x27;}))])</pre></div></div></div><div class=\"sk-parallel\"><div class=\"sk-parallel-item\"><div class=\"sk-item\"><div class=\"sk-label-container\"><div class=\"sk-label sk-toggleable\"><label>x_plus_y</label></div></div><div class=\"sk-serial\"><div class=\"sk-item\"><div class=\"sk-estimator sk-toggleable\"><input class=\"sk-toggleable__control sk-hidden--visually\" id=\"7854a697-77e2-424d-88a2-cc036f434784\" type=\"checkbox\" ><label for=\"7854a697-77e2-424d-88a2-cc036f434784\" class=\"sk-toggleable__label sk-toggleable__label-arrow\">FunctionTransformer</label><div class=\"sk-toggleable__content\"><pre>FunctionTransformer(func=&lt;function x_plus_y at 0x0000020D0EDA8940&gt;)</pre></div></div></div></div></div></div><div class=\"sk-parallel-item\"><div class=\"sk-item\"><div class=\"sk-label-container\"><div class=\"sk-label sk-toggleable\"><label>x_per_b</label></div></div><div class=\"sk-serial\"><div class=\"sk-item\"><div class=\"sk-estimator sk-toggleable\"><input class=\"sk-toggleable__control sk-hidden--visually\" id=\"36a8ca4b-b3f0-4eb4-a58d-940c9b92d99e\" type=\"checkbox\" ><label for=\"36a8ca4b-b3f0-4eb4-a58d-940c9b92d99e\" class=\"sk-toggleable__label sk-toggleable__label-arrow\">FunctionTransformer</label><div class=\"sk-toggleable__content\"><pre>FunctionTransformer(func=&lt;function x_per_b at 0x0000020D0EFE5040&gt;)</pre></div></div></div></div></div></div><div class=\"sk-parallel-item\"><div class=\"sk-item\"><div class=\"sk-label-container\"><div class=\"sk-label sk-toggleable\"><label>keep_features</label></div></div><div class=\"sk-serial\"><div class=\"sk-item\"><div class=\"sk-estimator sk-toggleable\"><input class=\"sk-toggleable__control sk-hidden--visually\" id=\"d349b889-e07c-45b1-afe2-03fd89ba9dca\" type=\"checkbox\" ><label for=\"d349b889-e07c-45b1-afe2-03fd89ba9dca\" class=\"sk-toggleable__label sk-toggleable__label-arrow\">FunctionTransformer</label><div class=\"sk-toggleable__content\"><pre>FunctionTransformer(func=&lt;function keep_features at 0x0000020D0F3071F0&gt;,\n                    kw_args={&#x27;keep&#x27;: [&#x27;b1&#x27;, &#x27;b2&#x27;], &#x27;view&#x27;: &#x27;b&#x27;})</pre></div></div></div></div></div></div></div></div><div class=\"sk-item\"><div class=\"sk-estimator sk-toggleable\"><input class=\"sk-toggleable__control sk-hidden--visually\" id=\"ee11eb35-a150-4bbc-acdd-7f1665910657\" type=\"checkbox\" ><label for=\"ee11eb35-a150-4bbc-acdd-7f1665910657\" class=\"sk-toggleable__label sk-toggleable__label-arrow\">FunctionTransformer</label><div class=\"sk-toggleable__content\"><pre>FunctionTransformer(func=&lt;function &lt;lambda&gt; at 0x0000020D0EB91040&gt;)</pre></div></div></div></div></div><div class=\"sk-item\"><div class=\"sk-estimator sk-toggleable\"><input class=\"sk-toggleable__control sk-hidden--visually\" id=\"bd044122-eab7-4fe7-94ae-4e4c67b08fa4\" type=\"checkbox\" ><label for=\"bd044122-eab7-4fe7-94ae-4e4c67b08fa4\" class=\"sk-toggleable__label sk-toggleable__label-arrow\">FunctionTransformer</label><div class=\"sk-toggleable__content\"><pre>FunctionTransformer(func=&lt;function pipeline_generator.&lt;locals&gt;.&lt;listcomp&gt;.&lt;lambda&gt; at 0x0000020D124F1550&gt;)</pre></div></div></div><div class=\"sk-item\"><div class=\"sk-estimator sk-toggleable\"><input class=\"sk-toggleable__control sk-hidden--visually\" id=\"4793ae5b-138b-4f4e-b833-af9222d192e9\" type=\"checkbox\" ><label for=\"4793ae5b-138b-4f4e-b833-af9222d192e9\" class=\"sk-toggleable__label sk-toggleable__label-arrow\">FunctionTransformer</label><div class=\"sk-toggleable__content\"><pre>FunctionTransformer(func=&lt;function pipeline_generator.&lt;locals&gt;.&lt;listcomp&gt;.&lt;lambda&gt; at 0x0000020D124F1430&gt;)</pre></div></div></div></div></div></div></div></div><div class=\"sk-parallel-item\"><div class=\"sk-item\"><div class=\"sk-label-container\"><div class=\"sk-label sk-toggleable\"><label>C</label></div></div><div class=\"sk-serial\"><div class=\"sk-item\"><div class=\"sk-serial\"><div class=\"sk-item\"><div class=\"sk-estimator sk-toggleable\"><input class=\"sk-toggleable__control sk-hidden--visually\" id=\"62b390fb-d2ae-4bee-85c9-9cbd404ee9f6\" type=\"checkbox\" ><label for=\"62b390fb-d2ae-4bee-85c9-9cbd404ee9f6\" class=\"sk-toggleable__label sk-toggleable__label-arrow\">ItemSelector</label><div class=\"sk-toggleable__content\"><pre>ItemSelector(key=&#x27;C&#x27;)</pre></div></div></div><div class=\"sk-item\"><div class=\"sk-label-container\"><div class=\"sk-label sk-toggleable\"><input class=\"sk-toggleable__control sk-hidden--visually\" id=\"5dfd8000-1297-4569-802e-b0932fc22e9a\" type=\"checkbox\" ><label for=\"5dfd8000-1297-4569-802e-b0932fc22e9a\" class=\"sk-toggleable__label sk-toggleable__label-arrow\">features: Pipeline</label><div class=\"sk-toggleable__content\"><pre>Pipeline(steps=[(&#x27;b_features&#x27;,\n                 FeatureUnion(transformer_list=[(&#x27;x_plus_y&#x27;,\n                                                 FunctionTransformer(func=&lt;function x_plus_y at 0x0000020D0EDA8940&gt;)),\n                                                (&#x27;x_per_b&#x27;,\n                                                 FunctionTransformer(func=&lt;function x_per_b at 0x0000020D0EFE5040&gt;)),\n                                                (&#x27;keep_features&#x27;,\n                                                 FunctionTransformer(func=&lt;function keep_features at 0x0000020D0F3071F0&gt;,\n                                                                     kw_args={&#x27;keep&#x27;: [&#x27;b1&#x27;,\n                                                                                       &#x27;b2&#x27;],\n                                                                              &#x27;view&#x27;: &#x27;b&#x27;}))])),\n                (&#x27;feature_rows_to_df&#x27;,\n                 FunctionTransformer(func=&lt;function &lt;lambda&gt; at 0x0000020D0EB91040&gt;))])</pre></div></div></div><div class=\"sk-serial\"><div class=\"sk-item sk-dashed-wrapped\"><div class=\"sk-label-container\"><div class=\"sk-label sk-toggleable\"><input class=\"sk-toggleable__control sk-hidden--visually\" id=\"134c425f-671f-46c8-a97c-ba9fb31760d3\" type=\"checkbox\" ><label for=\"134c425f-671f-46c8-a97c-ba9fb31760d3\" class=\"sk-toggleable__label sk-toggleable__label-arrow\">b_features: FeatureUnion</label><div class=\"sk-toggleable__content\"><pre>FeatureUnion(transformer_list=[(&#x27;x_plus_y&#x27;,\n                                FunctionTransformer(func=&lt;function x_plus_y at 0x0000020D0EDA8940&gt;)),\n                               (&#x27;x_per_b&#x27;,\n                                FunctionTransformer(func=&lt;function x_per_b at 0x0000020D0EFE5040&gt;)),\n                               (&#x27;keep_features&#x27;,\n                                FunctionTransformer(func=&lt;function keep_features at 0x0000020D0F3071F0&gt;,\n                                                    kw_args={&#x27;keep&#x27;: [&#x27;b1&#x27;,\n                                                                      &#x27;b2&#x27;],\n                                                             &#x27;view&#x27;: &#x27;b&#x27;}))])</pre></div></div></div><div class=\"sk-parallel\"><div class=\"sk-parallel-item\"><div class=\"sk-item\"><div class=\"sk-label-container\"><div class=\"sk-label sk-toggleable\"><label>x_plus_y</label></div></div><div class=\"sk-serial\"><div class=\"sk-item\"><div class=\"sk-estimator sk-toggleable\"><input class=\"sk-toggleable__control sk-hidden--visually\" id=\"277bfbed-39d5-49cf-9c81-c486da884e5f\" type=\"checkbox\" ><label for=\"277bfbed-39d5-49cf-9c81-c486da884e5f\" class=\"sk-toggleable__label sk-toggleable__label-arrow\">FunctionTransformer</label><div class=\"sk-toggleable__content\"><pre>FunctionTransformer(func=&lt;function x_plus_y at 0x0000020D0EDA8940&gt;)</pre></div></div></div></div></div></div><div class=\"sk-parallel-item\"><div class=\"sk-item\"><div class=\"sk-label-container\"><div class=\"sk-label sk-toggleable\"><label>x_per_b</label></div></div><div class=\"sk-serial\"><div class=\"sk-item\"><div class=\"sk-estimator sk-toggleable\"><input class=\"sk-toggleable__control sk-hidden--visually\" id=\"6a5009c0-e44d-497c-824e-c9367b1b7f98\" type=\"checkbox\" ><label for=\"6a5009c0-e44d-497c-824e-c9367b1b7f98\" class=\"sk-toggleable__label sk-toggleable__label-arrow\">FunctionTransformer</label><div class=\"sk-toggleable__content\"><pre>FunctionTransformer(func=&lt;function x_per_b at 0x0000020D0EFE5040&gt;)</pre></div></div></div></div></div></div><div class=\"sk-parallel-item\"><div class=\"sk-item\"><div class=\"sk-label-container\"><div class=\"sk-label sk-toggleable\"><label>keep_features</label></div></div><div class=\"sk-serial\"><div class=\"sk-item\"><div class=\"sk-estimator sk-toggleable\"><input class=\"sk-toggleable__control sk-hidden--visually\" id=\"927e4ffe-0a7a-4408-851a-b8eb1cfd98f1\" type=\"checkbox\" ><label for=\"927e4ffe-0a7a-4408-851a-b8eb1cfd98f1\" class=\"sk-toggleable__label sk-toggleable__label-arrow\">FunctionTransformer</label><div class=\"sk-toggleable__content\"><pre>FunctionTransformer(func=&lt;function keep_features at 0x0000020D0F3071F0&gt;,\n                    kw_args={&#x27;keep&#x27;: [&#x27;b1&#x27;, &#x27;b2&#x27;], &#x27;view&#x27;: &#x27;b&#x27;})</pre></div></div></div></div></div></div></div></div><div class=\"sk-item\"><div class=\"sk-estimator sk-toggleable\"><input class=\"sk-toggleable__control sk-hidden--visually\" id=\"714f3ddc-f982-4f59-98cf-648979491a67\" type=\"checkbox\" ><label for=\"714f3ddc-f982-4f59-98cf-648979491a67\" class=\"sk-toggleable__label sk-toggleable__label-arrow\">FunctionTransformer</label><div class=\"sk-toggleable__content\"><pre>FunctionTransformer(func=&lt;function &lt;lambda&gt; at 0x0000020D0EB91040&gt;)</pre></div></div></div></div></div><div class=\"sk-item\"><div class=\"sk-estimator sk-toggleable\"><input class=\"sk-toggleable__control sk-hidden--visually\" id=\"beaa5cc7-e094-4404-a37f-ce87ee389460\" type=\"checkbox\" ><label for=\"beaa5cc7-e094-4404-a37f-ce87ee389460\" class=\"sk-toggleable__label sk-toggleable__label-arrow\">FunctionTransformer</label><div class=\"sk-toggleable__content\"><pre>FunctionTransformer(func=&lt;function pipeline_generator.&lt;locals&gt;.&lt;listcomp&gt;.&lt;lambda&gt; at 0x0000020D124F13A0&gt;)</pre></div></div></div><div class=\"sk-item\"><div class=\"sk-estimator sk-toggleable\"><input class=\"sk-toggleable__control sk-hidden--visually\" id=\"f80b246b-d1a9-46ce-ab66-63eec7ef0387\" type=\"checkbox\" ><label for=\"f80b246b-d1a9-46ce-ab66-63eec7ef0387\" class=\"sk-toggleable__label sk-toggleable__label-arrow\">FunctionTransformer</label><div class=\"sk-toggleable__content\"><pre>FunctionTransformer(func=&lt;function pipeline_generator.&lt;locals&gt;.&lt;listcomp&gt;.&lt;lambda&gt; at 0x0000020D124F1280&gt;)</pre></div></div></div></div></div></div></div></div></div></div><div class=\"sk-item\"><div class=\"sk-estimator sk-toggleable\"><input class=\"sk-toggleable__control sk-hidden--visually\" id=\"1ecbee35-b460-4f02-9a4d-c55610f451a4\" type=\"checkbox\" ><label for=\"1ecbee35-b460-4f02-9a4d-c55610f451a4\" class=\"sk-toggleable__label sk-toggleable__label-arrow\">FunctionTransformer</label><div class=\"sk-toggleable__content\"><pre>FunctionTransformer(func=&lt;function pipeline_generator.&lt;locals&gt;.&lt;lambda&gt; at 0x0000020D10BA7550&gt;)</pre></div></div></div></div></div></div></div>"
     },
     "execution_count": 244,
     "metadata": {},
     "output_type": "execute_result"
    }
   ],
   "source": [
    "pipe_all"
   ],
   "metadata": {
    "collapsed": false,
    "pycharm": {
     "name": "#%%\n"
    }
   }
  },
  {
   "cell_type": "code",
   "execution_count": null,
   "outputs": [],
   "source": [
    "            #lambda dfs: pd.concat(dfs, axis=1)\n",
    "\n",
    "\"\"\"\n",
    "lambda pkgs: pd.concat(\n",
    "    [\n",
    "        df.assign(community_name=cname).set_index([\"community_name\"], append=True)\n",
    "        for cname, df in dict(pkgs).items()\n",
    "    ],\n",
    "    axis=1\n",
    ")\n",
    "\"\"\""
   ],
   "metadata": {
    "collapsed": false,
    "pycharm": {
     "name": "#%%\n"
    }
   }
  }
 ],
 "metadata": {
  "kernelspec": {
   "display_name": "Python 3",
   "language": "python",
   "name": "python3"
  },
  "language_info": {
   "codemirror_mode": {
    "name": "ipython",
    "version": 2
   },
   "file_extension": ".py",
   "mimetype": "text/x-python",
   "name": "python",
   "nbconvert_exporter": "python",
   "pygments_lexer": "ipython2",
   "version": "2.7.6"
  }
 },
 "nbformat": 4,
 "nbformat_minor": 0
}