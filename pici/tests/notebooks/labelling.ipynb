{
 "cells": [
  {
   "cell_type": "code",
   "execution_count": 242,
   "outputs": [],
   "source": [
    "%reload_ext autoreload\n",
    "%autoreload 2"
   ],
   "metadata": {
    "collapsed": false,
    "pycharm": {
     "name": "#%%\n"
    }
   }
  },
  {
   "cell_type": "code",
   "execution_count": 243,
   "outputs": [],
   "source": [
    "from pici.pici import Pici\n",
    "from pici.communities.oem import OEMCommunityFactory\n",
    "from pici.communities.osm import OSMCommunityFactory\n",
    "from pici.communities.preciousplastic import PPCommunityFactory\n",
    "import pandas as pd\n",
    "\n",
    "from pici.labelling import InnovationLabels\n",
    "\n",
    "import plotly.express as ex"
   ],
   "metadata": {
    "collapsed": false,
    "pycharm": {
     "name": "#%%\n"
    }
   }
  },
  {
   "cell_type": "code",
   "execution_count": 244,
   "outputs": [],
   "source": [
    "from IPython.display import display\n",
    "import seaborn as sns\n",
    "import matplotlib.pyplot as plt"
   ],
   "metadata": {
    "collapsed": false,
    "pycharm": {
     "name": "#%%\n"
    }
   }
  },
  {
   "cell_type": "code",
   "execution_count": 245,
   "outputs": [],
   "source": [
    "pd.options.plotting.backend = \"plotly\""
   ],
   "metadata": {
    "collapsed": false,
    "pycharm": {
     "name": "#%%\n"
    }
   }
  },
  {
   "cell_type": "code",
   "execution_count": 246,
   "outputs": [
    {
     "name": "stdout",
     "output_type": "stream",
     "text": [
      "         labeller          community  \\\n",
      "0    anna+philipp  OpenEnergyMonitor   \n",
      "1    anna+philipp  OpenEnergyMonitor   \n",
      "2    anna+philipp  OpenEnergyMonitor   \n",
      "3    anna+philipp  OpenEnergyMonitor   \n",
      "4    anna+philipp  OpenEnergyMonitor   \n",
      "..            ...                ...   \n",
      "260        Jan P.    PreciousPlastic   \n",
      "261        Jan P.    PreciousPlastic   \n",
      "262        Jan P.    PreciousPlastic   \n",
      "263        Jan P.    PreciousPlastic   \n",
      "264        Jan P.    PreciousPlastic   \n",
      "\n",
      "                                                   url  label_idea  \\\n",
      "0    https://community.openenergymonitor.org/t/iota...       False   \n",
      "1    https://community.openenergymonitor.org/t/new-...       False   \n",
      "2    https://community.openenergymonitor.org/t/read...        True   \n",
      "3    https://community.openenergymonitor.org/t/graf...        True   \n",
      "4    https://community.openenergymonitor.org/t/lots...       False   \n",
      "..                                                 ...         ...   \n",
      "260  https://davehakkens.nl/community/forums/topic/...       False   \n",
      "261  https://davehakkens.nl/community/forums/topic/...        True   \n",
      "262  https://davehakkens.nl/community/forums/topic/...        True   \n",
      "263  https://davehakkens.nl/community/forums/topic/...       False   \n",
      "264  https://davehakkens.nl/community/forums/topic/...        True   \n",
      "\n",
      "     label_evaluation  label_implementation  label_modification  \\\n",
      "0               False                 False               False   \n",
      "1               False                  True                True   \n",
      "2                True                  True                True   \n",
      "3                True                  True                True   \n",
      "4               False                 False               False   \n",
      "..                ...                   ...                 ...   \n",
      "260             False                 False               False   \n",
      "261              True                 False                True   \n",
      "262              True                 False               False   \n",
      "263             False                 False               False   \n",
      "264             False                 False               False   \n",
      "\n",
      "     label_improvement label_potential  \n",
      "0                False               0  \n",
      "1                 True               1  \n",
      "2                False               1  \n",
      "3                 True               2  \n",
      "4                False               0  \n",
      "..                 ...             ...  \n",
      "260              False               0  \n",
      "261              False               1  \n",
      "262              False               0  \n",
      "263              False               0  \n",
      "264              False               0  \n",
      "\n",
      "[265 rows x 9 columns]\n",
      "         labeller          community  \\\n",
      "0    anna+philipp  OpenEnergyMonitor   \n",
      "1    anna+philipp  OpenEnergyMonitor   \n",
      "2    anna+philipp  OpenEnergyMonitor   \n",
      "3    anna+philipp  OpenEnergyMonitor   \n",
      "4    anna+philipp  OpenEnergyMonitor   \n",
      "..            ...                ...   \n",
      "260        Jan P.    PreciousPlastic   \n",
      "261        Jan P.    PreciousPlastic   \n",
      "262        Jan P.    PreciousPlastic   \n",
      "263        Jan P.    PreciousPlastic   \n",
      "264        Jan P.    PreciousPlastic   \n",
      "\n",
      "                                                   url  label_idea  \\\n",
      "0    https://community.openenergymonitor.org/t/iota...       False   \n",
      "1    https://community.openenergymonitor.org/t/new-...       False   \n",
      "2    https://community.openenergymonitor.org/t/read...        True   \n",
      "3    https://community.openenergymonitor.org/t/graf...        True   \n",
      "4    https://community.openenergymonitor.org/t/lots...       False   \n",
      "..                                                 ...         ...   \n",
      "260  https://davehakkens.nl/community/forums/topic/...       False   \n",
      "261  https://davehakkens.nl/community/forums/topic/...        True   \n",
      "262  https://davehakkens.nl/community/forums/topic/...        True   \n",
      "263  https://davehakkens.nl/community/forums/topic/...       False   \n",
      "264  https://davehakkens.nl/community/forums/topic/...        True   \n",
      "\n",
      "     label_evaluation  label_implementation  label_modification  \\\n",
      "0               False                 False               False   \n",
      "1               False                  True                True   \n",
      "2                True                  True                True   \n",
      "3                True                  True                True   \n",
      "4               False                 False               False   \n",
      "..                ...                   ...                 ...   \n",
      "260             False                 False               False   \n",
      "261              True                 False                True   \n",
      "262              True                 False               False   \n",
      "263             False                 False               False   \n",
      "264             False                 False               False   \n",
      "\n",
      "     label_improvement label_potential  \n",
      "0                False               0  \n",
      "1                 True               1  \n",
      "2                False               1  \n",
      "3                 True               2  \n",
      "4                False               0  \n",
      "..                 ...             ...  \n",
      "260              False               0  \n",
      "261              False               1  \n",
      "262              False               0  \n",
      "263              False               0  \n",
      "264              False               0  \n",
      "\n",
      "[265 rows x 9 columns]\n",
      "     label_idea  label_evaluation  label_implementation  label_modification  \\\n",
      "0          True             False                 False               False   \n",
      "1          True             False                 False                True   \n",
      "2         False             False                 False               False   \n",
      "3          True              True                  True                True   \n",
      "4          True             False                  True                True   \n",
      "..          ...               ...                   ...                 ...   \n",
      "161       False             False                 False               False   \n",
      "162       False             False                 False               False   \n",
      "163       False             False                 False               False   \n",
      "164       False             False                 False               False   \n",
      "165       False             False                 False               False   \n",
      "\n",
      "     label_improvement label_potential          labeller     community_name  \\\n",
      "0                False               2              test      OpenStreetMap   \n",
      "1                False             NaN              test    PreciousPlastic   \n",
      "2                False               0     Jonathan1.732  OpenEnergyMonitor   \n",
      "3                 True               1     Jonathan1.732    PreciousPlastic   \n",
      "4                False               2              test  OpenEnergyMonitor   \n",
      "..                 ...             ...               ...                ...   \n",
      "161              False               0            Larilu  OpenEnergyMonitor   \n",
      "162              False               0  cmcuza@gmail.com      OpenStreetMap   \n",
      "163              False               0  cmcuza@gmail.com  OpenEnergyMonitor   \n",
      "164              False               0  cmcuza@gmail.com    PreciousPlastic   \n",
      "165              False               0  cmcuza@gmail.com      OpenStreetMap   \n",
      "\n",
      "                                                   url  \n",
      "0    https://forum.openstreetmap.org/viewtopic.php?...  \n",
      "1    https://davehakkens.nl/community/forums/topic/...  \n",
      "2       https://community.openenergymonitor.org/t/6575  \n",
      "3    https://davehakkens.nl/community/forums/topic/...  \n",
      "4       https://community.openenergymonitor.org/t/9761  \n",
      "..                                                 ...  \n",
      "161     https://community.openenergymonitor.org/t/9971  \n",
      "162  https://forum.openstreetmap.org/viewtopic.php?...  \n",
      "163     https://community.openenergymonitor.org/t/9957  \n",
      "164  https://davehakkens.nl/community/forums/topic/...  \n",
      "165  https://forum.openstreetmap.org/viewtopic.php?...  \n",
      "\n",
      "[830 rows x 9 columns]\n",
      "     label_idea  label_evaluation  label_implementation  label_modification  \\\n",
      "0          True             False                 False               False   \n",
      "1          True             False                 False                True   \n",
      "2         False             False                 False               False   \n",
      "3          True              True                  True                True   \n",
      "4          True             False                  True                True   \n",
      "..          ...               ...                   ...                 ...   \n",
      "161       False             False                 False               False   \n",
      "162       False             False                 False               False   \n",
      "163       False             False                 False               False   \n",
      "164       False             False                 False               False   \n",
      "165       False             False                 False               False   \n",
      "\n",
      "     label_improvement label_potential          labeller     community_name  \\\n",
      "0                False               2              test      OpenStreetMap   \n",
      "1                False             NaN              test    PreciousPlastic   \n",
      "2                False               0     Jonathan1.732  OpenEnergyMonitor   \n",
      "3                 True               1     Jonathan1.732    PreciousPlastic   \n",
      "4                False               2              test  OpenEnergyMonitor   \n",
      "..                 ...             ...               ...                ...   \n",
      "161              False               0            Larilu  OpenEnergyMonitor   \n",
      "162              False               0  cmcuza@gmail.com      OpenStreetMap   \n",
      "163              False               0  cmcuza@gmail.com  OpenEnergyMonitor   \n",
      "164              False               0  cmcuza@gmail.com    PreciousPlastic   \n",
      "165              False               0  cmcuza@gmail.com      OpenStreetMap   \n",
      "\n",
      "                                                   url  \n",
      "0    https://forum.openstreetmap.org/viewtopic.php?...  \n",
      "1    https://davehakkens.nl/community/forums/topic/...  \n",
      "2       https://community.openenergymonitor.org/t/6575  \n",
      "3    https://davehakkens.nl/community/forums/topic/...  \n",
      "4       https://community.openenergymonitor.org/t/9761  \n",
      "..                                                 ...  \n",
      "161     https://community.openenergymonitor.org/t/9971  \n",
      "162  https://forum.openstreetmap.org/viewtopic.php?...  \n",
      "163     https://community.openenergymonitor.org/t/9957  \n",
      "164  https://davehakkens.nl/community/forums/topic/...  \n",
      "165  https://forum.openstreetmap.org/viewtopic.php?...  \n",
      "\n",
      "[830 rows x 9 columns]\n",
      "     label_idea  label_evaluation  label_implementation  label_modification  \\\n",
      "2         False             False                 False               False   \n",
      "3          True              True                  True                True   \n",
      "7         False              True                 False               False   \n",
      "8         False              True                 False               False   \n",
      "9         False             False                 False               False   \n",
      "..          ...               ...                   ...                 ...   \n",
      "161       False             False                 False               False   \n",
      "162       False             False                 False               False   \n",
      "163       False             False                 False               False   \n",
      "164       False             False                 False               False   \n",
      "165       False             False                 False               False   \n",
      "\n",
      "     label_improvement label_potential             labeller  \\\n",
      "2                False               0        Jonathan1.732   \n",
      "3                 True               1        Jonathan1.732   \n",
      "7                False               0  petrol39blackberry0   \n",
      "8                False               0  petrol39blackberry0   \n",
      "9                False               0        Jonathan1.732   \n",
      "..                 ...             ...                  ...   \n",
      "161              False               0               Larilu   \n",
      "162              False               0     cmcuza@gmail.com   \n",
      "163              False               0     cmcuza@gmail.com   \n",
      "164              False               0     cmcuza@gmail.com   \n",
      "165              False               0     cmcuza@gmail.com   \n",
      "\n",
      "        community_name                                                url  \\\n",
      "2    OpenEnergyMonitor     https://community.openenergymonitor.org/t/6575   \n",
      "3      PreciousPlastic  https://davehakkens.nl/community/forums/topic/...   \n",
      "7        OpenStreetMap  https://forum.openstreetmap.org/viewtopic.php?...   \n",
      "8    OpenEnergyMonitor     https://community.openenergymonitor.org/t/5970   \n",
      "9        OpenStreetMap  https://forum.openstreetmap.org/viewtopic.php?...   \n",
      "..                 ...                                                ...   \n",
      "161  OpenEnergyMonitor     https://community.openenergymonitor.org/t/9971   \n",
      "162      OpenStreetMap  https://forum.openstreetmap.org/viewtopic.php?...   \n",
      "163  OpenEnergyMonitor     https://community.openenergymonitor.org/t/9957   \n",
      "164    PreciousPlastic  https://davehakkens.nl/community/forums/topic/...   \n",
      "165      OpenStreetMap  https://forum.openstreetmap.org/viewtopic.php?...   \n",
      "\n",
      "     label_any_activity  label_has_potential  \\\n",
      "2                 False                False   \n",
      "3                  True                 True   \n",
      "7                  True                False   \n",
      "8                  True                False   \n",
      "9                 False                False   \n",
      "..                  ...                  ...   \n",
      "161               False                False   \n",
      "162               False                False   \n",
      "163               False                False   \n",
      "164               False                False   \n",
      "165               False                False   \n",
      "\n",
      "                                            id  \n",
      "2                                         6575  \n",
      "3       find-a-solution-for-styrofoam-waste-v4  \n",
      "7                                        60550  \n",
      "8                                         5970  \n",
      "9                                        67108  \n",
      "..                                         ...  \n",
      "161                                       9971  \n",
      "162                                      65110  \n",
      "163                                       9957  \n",
      "164  getting-machine-parts-to-india-coimbatore  \n",
      "165                                      60720  \n",
      "\n",
      "[795 rows x 12 columns]\n",
      "     label_idea  label_evaluation  label_implementation  label_modification  \\\n",
      "2         False             False                 False               False   \n",
      "3          True              True                  True                True   \n",
      "7         False              True                 False               False   \n",
      "8         False              True                 False               False   \n",
      "9         False             False                 False               False   \n",
      "..          ...               ...                   ...                 ...   \n",
      "161       False             False                 False               False   \n",
      "162       False             False                 False               False   \n",
      "163       False             False                 False               False   \n",
      "164       False             False                 False               False   \n",
      "165       False             False                 False               False   \n",
      "\n",
      "     label_improvement label_potential             labeller  \\\n",
      "2                False               0        Jonathan1.732   \n",
      "3                 True               1        Jonathan1.732   \n",
      "7                False               0  petrol39blackberry0   \n",
      "8                False               0  petrol39blackberry0   \n",
      "9                False               0        Jonathan1.732   \n",
      "..                 ...             ...                  ...   \n",
      "161              False               0               Larilu   \n",
      "162              False               0     cmcuza@gmail.com   \n",
      "163              False               0     cmcuza@gmail.com   \n",
      "164              False               0     cmcuza@gmail.com   \n",
      "165              False               0     cmcuza@gmail.com   \n",
      "\n",
      "        community_name                                                url  \\\n",
      "2    OpenEnergyMonitor     https://community.openenergymonitor.org/t/6575   \n",
      "3      PreciousPlastic  https://davehakkens.nl/community/forums/topic/...   \n",
      "7        OpenStreetMap  https://forum.openstreetmap.org/viewtopic.php?...   \n",
      "8    OpenEnergyMonitor     https://community.openenergymonitor.org/t/5970   \n",
      "9        OpenStreetMap  https://forum.openstreetmap.org/viewtopic.php?...   \n",
      "..                 ...                                                ...   \n",
      "161  OpenEnergyMonitor     https://community.openenergymonitor.org/t/9971   \n",
      "162      OpenStreetMap  https://forum.openstreetmap.org/viewtopic.php?...   \n",
      "163  OpenEnergyMonitor     https://community.openenergymonitor.org/t/9957   \n",
      "164    PreciousPlastic  https://davehakkens.nl/community/forums/topic/...   \n",
      "165      OpenStreetMap  https://forum.openstreetmap.org/viewtopic.php?...   \n",
      "\n",
      "     label_any_activity  label_has_potential  \\\n",
      "2                 False                False   \n",
      "3                  True                 True   \n",
      "7                  True                False   \n",
      "8                  True                False   \n",
      "9                 False                False   \n",
      "..                  ...                  ...   \n",
      "161               False                False   \n",
      "162               False                False   \n",
      "163               False                False   \n",
      "164               False                False   \n",
      "165               False                False   \n",
      "\n",
      "                                            id  \n",
      "2                                         6575  \n",
      "3       find-a-solution-for-styrofoam-waste-v4  \n",
      "7                                        60550  \n",
      "8                                         5970  \n",
      "9                                        67108  \n",
      "..                                         ...  \n",
      "161                                       9971  \n",
      "162                                      65110  \n",
      "163                                       9957  \n",
      "164  getting-machine-parts-to-india-coimbatore  \n",
      "165                                      60720  \n",
      "\n",
      "[795 rows x 12 columns]\n"
     ]
    }
   ],
   "source": [
    "pici = Pici(\n",
    "    communities={\n",
    "        'OpenEnergyMonitor': OEMCommunityFactory,\n",
    "        'OpenStreetMap': OSMCommunityFactory,\n",
    "        'PreciousPlastic': PPCommunityFactory,\n",
    "    },\n",
    "    labels=[\n",
    "        InnovationLabels(\n",
    "            pd.read_excel(\"../test_integrated_labels.xlsx\")\n",
    "        ),\n",
    "        InnovationLabels().from_limesurvey(\n",
    "            pd.read_excel(\"../results-survey664322_2022-08-01.xlsx\"),\n",
    "            drop_labellers=[\"Test\",\"test\"]\n",
    "        )\n",
    "    ],\n",
    "    cache_dir='../../../cache',\n",
    "    start='2017-01-01',\n",
    "    end='2019-01-01',\n",
    "    cache_nrows=500\n",
    ")"
   ],
   "metadata": {
    "collapsed": false,
    "pycharm": {
     "name": "#%%\n"
    }
   }
  },
  {
   "cell_type": "code",
   "execution_count": 247,
   "outputs": [],
   "source": [
    "label_stats = pici.labels.labels[0].stats"
   ],
   "metadata": {
    "collapsed": false,
    "pycharm": {
     "name": "#%%\n"
    }
   }
  },
  {
   "cell_type": "code",
   "execution_count": 248,
   "outputs": [
    {
     "name": "stdout",
     "output_type": "stream",
     "text": [
      "<class 'pici.labelling.InnovationLabels'>\n",
      "   Level: topics\n",
      "   Labelled entities: 1060\n",
      "   Labels (cols): 8\n",
      "   Labellers: 15\n",
      "   Communities: 3\n",
      "\n"
     ]
    }
   ],
   "source": [
    "print(pici.labels.labels[0])"
   ],
   "metadata": {
    "collapsed": false,
    "pycharm": {
     "name": "#%%\n"
    }
   }
  },
  {
   "cell_type": "code",
   "execution_count": 249,
   "outputs": [
    {
     "data": {
      "text/plain": "                      label_idea  label_evaluation  label_implementation  \\\nlabel_idea              1.000000          0.656722              0.297208   \nlabel_evaluation        0.656722          1.000000              0.422054   \nlabel_implementation    0.297208          0.422054              1.000000   \nlabel_modification      0.329119          0.450873              0.405513   \nlabel_improvement       0.241518          0.336008              0.313587   \nlabel_any_activity      0.742870          0.744328              0.396079   \nlabel_has_potential     0.584389          0.546075              0.258492   \n\n                      label_modification  label_improvement  \\\nlabel_idea                      0.329119           0.241518   \nlabel_evaluation                0.450873           0.336008   \nlabel_implementation            0.405513           0.313587   \nlabel_modification              1.000000           0.518743   \nlabel_improvement               0.518743           1.000000   \nlabel_any_activity              0.535077           0.422157   \nlabel_has_potential             0.318922           0.303628   \n\n                      label_any_activity  label_has_potential  \nlabel_idea                      0.742870             0.584389  \nlabel_evaluation                0.744328             0.546075  \nlabel_implementation            0.396079             0.258492  \nlabel_modification              0.535077             0.318922  \nlabel_improvement               0.422157             0.303628  \nlabel_any_activity              1.000000             0.571980  \nlabel_has_potential             0.571980             1.000000  ",
      "text/html": "<div>\n<style scoped>\n    .dataframe tbody tr th:only-of-type {\n        vertical-align: middle;\n    }\n\n    .dataframe tbody tr th {\n        vertical-align: top;\n    }\n\n    .dataframe thead th {\n        text-align: right;\n    }\n</style>\n<table border=\"1\" class=\"dataframe\">\n  <thead>\n    <tr style=\"text-align: right;\">\n      <th></th>\n      <th>label_idea</th>\n      <th>label_evaluation</th>\n      <th>label_implementation</th>\n      <th>label_modification</th>\n      <th>label_improvement</th>\n      <th>label_any_activity</th>\n      <th>label_has_potential</th>\n    </tr>\n  </thead>\n  <tbody>\n    <tr>\n      <th>label_idea</th>\n      <td>1.000000</td>\n      <td>0.656722</td>\n      <td>0.297208</td>\n      <td>0.329119</td>\n      <td>0.241518</td>\n      <td>0.742870</td>\n      <td>0.584389</td>\n    </tr>\n    <tr>\n      <th>label_evaluation</th>\n      <td>0.656722</td>\n      <td>1.000000</td>\n      <td>0.422054</td>\n      <td>0.450873</td>\n      <td>0.336008</td>\n      <td>0.744328</td>\n      <td>0.546075</td>\n    </tr>\n    <tr>\n      <th>label_implementation</th>\n      <td>0.297208</td>\n      <td>0.422054</td>\n      <td>1.000000</td>\n      <td>0.405513</td>\n      <td>0.313587</td>\n      <td>0.396079</td>\n      <td>0.258492</td>\n    </tr>\n    <tr>\n      <th>label_modification</th>\n      <td>0.329119</td>\n      <td>0.450873</td>\n      <td>0.405513</td>\n      <td>1.000000</td>\n      <td>0.518743</td>\n      <td>0.535077</td>\n      <td>0.318922</td>\n    </tr>\n    <tr>\n      <th>label_improvement</th>\n      <td>0.241518</td>\n      <td>0.336008</td>\n      <td>0.313587</td>\n      <td>0.518743</td>\n      <td>1.000000</td>\n      <td>0.422157</td>\n      <td>0.303628</td>\n    </tr>\n    <tr>\n      <th>label_any_activity</th>\n      <td>0.742870</td>\n      <td>0.744328</td>\n      <td>0.396079</td>\n      <td>0.535077</td>\n      <td>0.422157</td>\n      <td>1.000000</td>\n      <td>0.571980</td>\n    </tr>\n    <tr>\n      <th>label_has_potential</th>\n      <td>0.584389</td>\n      <td>0.546075</td>\n      <td>0.258492</td>\n      <td>0.318922</td>\n      <td>0.303628</td>\n      <td>0.571980</td>\n      <td>1.000000</td>\n    </tr>\n  </tbody>\n</table>\n</div>"
     },
     "execution_count": 249,
     "metadata": {},
     "output_type": "execute_result"
    }
   ],
   "source": [
    "label_stats.label_correlation()"
   ],
   "metadata": {
    "collapsed": false,
    "pycharm": {
     "name": "#%%\n"
    }
   }
  },
  {
   "cell_type": "code",
   "execution_count": 250,
   "outputs": [
    {
     "data": {
      "application/vnd.plotly.v1+json": {
       "data": [
        {
         "text": [
          [
           1.0,
           0.6567217692109292,
           0.29720836699174524,
           0.3291192061162504,
           0.2415183636826806,
           0.7428696688445867,
           0.5843890515035596
          ],
          [
           0.6567217692109292,
           1.0,
           0.4220542412863278,
           0.4508734810966636,
           0.3360079514343782,
           0.7443283118783632,
           0.5460748670314207
          ],
          [
           0.29720836699174524,
           0.4220542412863278,
           1.0,
           0.40551326253200165,
           0.31358697100837973,
           0.3960790880153709,
           0.25849173083994403
          ],
          [
           0.3291192061162504,
           0.4508734810966636,
           0.40551326253200165,
           1.0,
           0.5187432271970505,
           0.5350772228960934,
           0.31892171059274527
          ],
          [
           0.2415183636826806,
           0.3360079514343782,
           0.31358697100837973,
           0.5187432271970505,
           1.0,
           0.42215727765442096,
           0.30362786342737674
          ],
          [
           0.7428696688445867,
           0.7443283118783632,
           0.3960790880153709,
           0.5350772228960934,
           0.42215727765442096,
           1.0,
           0.5719803327911077
          ],
          [
           0.5843890515035596,
           0.5460748670314207,
           0.25849173083994403,
           0.31892171059274527,
           0.30362786342737674,
           0.5719803327911077,
           1.0
          ]
         ],
         "texttemplate": "%{text:.2f}",
         "x": [
          "label_idea",
          "label_evaluation",
          "label_implementation",
          "label_modification",
          "label_improvement",
          "label_any_activity",
          "label_has_potential"
         ],
         "y": [
          "label_idea",
          "label_evaluation",
          "label_implementation",
          "label_modification",
          "label_improvement",
          "label_any_activity",
          "label_has_potential"
         ],
         "z": [
          [
           1.0,
           0.6567217692109292,
           0.29720836699174524,
           0.3291192061162504,
           0.2415183636826806,
           0.7428696688445867,
           0.5843890515035596
          ],
          [
           0.6567217692109292,
           1.0,
           0.4220542412863278,
           0.4508734810966636,
           0.3360079514343782,
           0.7443283118783632,
           0.5460748670314207
          ],
          [
           0.29720836699174524,
           0.4220542412863278,
           1.0,
           0.40551326253200165,
           0.31358697100837973,
           0.3960790880153709,
           0.25849173083994403
          ],
          [
           0.3291192061162504,
           0.4508734810966636,
           0.40551326253200165,
           1.0,
           0.5187432271970505,
           0.5350772228960934,
           0.31892171059274527
          ],
          [
           0.2415183636826806,
           0.3360079514343782,
           0.31358697100837973,
           0.5187432271970505,
           1.0,
           0.42215727765442096,
           0.30362786342737674
          ],
          [
           0.7428696688445867,
           0.7443283118783632,
           0.3960790880153709,
           0.5350772228960934,
           0.42215727765442096,
           1.0,
           0.5719803327911077
          ],
          [
           0.5843890515035596,
           0.5460748670314207,
           0.25849173083994403,
           0.31892171059274527,
           0.30362786342737674,
           0.5719803327911077,
           1.0
          ]
         ],
         "type": "heatmap"
        }
       ],
       "layout": {
        "template": {
         "data": {
          "histogram2dcontour": [
           {
            "type": "histogram2dcontour",
            "colorbar": {
             "outlinewidth": 0,
             "ticks": ""
            },
            "colorscale": [
             [
              0.0,
              "#0d0887"
             ],
             [
              0.1111111111111111,
              "#46039f"
             ],
             [
              0.2222222222222222,
              "#7201a8"
             ],
             [
              0.3333333333333333,
              "#9c179e"
             ],
             [
              0.4444444444444444,
              "#bd3786"
             ],
             [
              0.5555555555555556,
              "#d8576b"
             ],
             [
              0.6666666666666666,
              "#ed7953"
             ],
             [
              0.7777777777777778,
              "#fb9f3a"
             ],
             [
              0.8888888888888888,
              "#fdca26"
             ],
             [
              1.0,
              "#f0f921"
             ]
            ]
           }
          ],
          "choropleth": [
           {
            "type": "choropleth",
            "colorbar": {
             "outlinewidth": 0,
             "ticks": ""
            }
           }
          ],
          "histogram2d": [
           {
            "type": "histogram2d",
            "colorbar": {
             "outlinewidth": 0,
             "ticks": ""
            },
            "colorscale": [
             [
              0.0,
              "#0d0887"
             ],
             [
              0.1111111111111111,
              "#46039f"
             ],
             [
              0.2222222222222222,
              "#7201a8"
             ],
             [
              0.3333333333333333,
              "#9c179e"
             ],
             [
              0.4444444444444444,
              "#bd3786"
             ],
             [
              0.5555555555555556,
              "#d8576b"
             ],
             [
              0.6666666666666666,
              "#ed7953"
             ],
             [
              0.7777777777777778,
              "#fb9f3a"
             ],
             [
              0.8888888888888888,
              "#fdca26"
             ],
             [
              1.0,
              "#f0f921"
             ]
            ]
           }
          ],
          "heatmap": [
           {
            "type": "heatmap",
            "colorbar": {
             "outlinewidth": 0,
             "ticks": ""
            },
            "colorscale": [
             [
              0.0,
              "#0d0887"
             ],
             [
              0.1111111111111111,
              "#46039f"
             ],
             [
              0.2222222222222222,
              "#7201a8"
             ],
             [
              0.3333333333333333,
              "#9c179e"
             ],
             [
              0.4444444444444444,
              "#bd3786"
             ],
             [
              0.5555555555555556,
              "#d8576b"
             ],
             [
              0.6666666666666666,
              "#ed7953"
             ],
             [
              0.7777777777777778,
              "#fb9f3a"
             ],
             [
              0.8888888888888888,
              "#fdca26"
             ],
             [
              1.0,
              "#f0f921"
             ]
            ]
           }
          ],
          "heatmapgl": [
           {
            "type": "heatmapgl",
            "colorbar": {
             "outlinewidth": 0,
             "ticks": ""
            },
            "colorscale": [
             [
              0.0,
              "#0d0887"
             ],
             [
              0.1111111111111111,
              "#46039f"
             ],
             [
              0.2222222222222222,
              "#7201a8"
             ],
             [
              0.3333333333333333,
              "#9c179e"
             ],
             [
              0.4444444444444444,
              "#bd3786"
             ],
             [
              0.5555555555555556,
              "#d8576b"
             ],
             [
              0.6666666666666666,
              "#ed7953"
             ],
             [
              0.7777777777777778,
              "#fb9f3a"
             ],
             [
              0.8888888888888888,
              "#fdca26"
             ],
             [
              1.0,
              "#f0f921"
             ]
            ]
           }
          ],
          "contourcarpet": [
           {
            "type": "contourcarpet",
            "colorbar": {
             "outlinewidth": 0,
             "ticks": ""
            }
           }
          ],
          "contour": [
           {
            "type": "contour",
            "colorbar": {
             "outlinewidth": 0,
             "ticks": ""
            },
            "colorscale": [
             [
              0.0,
              "#0d0887"
             ],
             [
              0.1111111111111111,
              "#46039f"
             ],
             [
              0.2222222222222222,
              "#7201a8"
             ],
             [
              0.3333333333333333,
              "#9c179e"
             ],
             [
              0.4444444444444444,
              "#bd3786"
             ],
             [
              0.5555555555555556,
              "#d8576b"
             ],
             [
              0.6666666666666666,
              "#ed7953"
             ],
             [
              0.7777777777777778,
              "#fb9f3a"
             ],
             [
              0.8888888888888888,
              "#fdca26"
             ],
             [
              1.0,
              "#f0f921"
             ]
            ]
           }
          ],
          "surface": [
           {
            "type": "surface",
            "colorbar": {
             "outlinewidth": 0,
             "ticks": ""
            },
            "colorscale": [
             [
              0.0,
              "#0d0887"
             ],
             [
              0.1111111111111111,
              "#46039f"
             ],
             [
              0.2222222222222222,
              "#7201a8"
             ],
             [
              0.3333333333333333,
              "#9c179e"
             ],
             [
              0.4444444444444444,
              "#bd3786"
             ],
             [
              0.5555555555555556,
              "#d8576b"
             ],
             [
              0.6666666666666666,
              "#ed7953"
             ],
             [
              0.7777777777777778,
              "#fb9f3a"
             ],
             [
              0.8888888888888888,
              "#fdca26"
             ],
             [
              1.0,
              "#f0f921"
             ]
            ]
           }
          ],
          "mesh3d": [
           {
            "type": "mesh3d",
            "colorbar": {
             "outlinewidth": 0,
             "ticks": ""
            }
           }
          ],
          "scatter": [
           {
            "fillpattern": {
             "fillmode": "overlay",
             "size": 10,
             "solidity": 0.2
            },
            "type": "scatter"
           }
          ],
          "parcoords": [
           {
            "type": "parcoords",
            "line": {
             "colorbar": {
              "outlinewidth": 0,
              "ticks": ""
             }
            }
           }
          ],
          "scatterpolargl": [
           {
            "type": "scatterpolargl",
            "marker": {
             "colorbar": {
              "outlinewidth": 0,
              "ticks": ""
             }
            }
           }
          ],
          "bar": [
           {
            "error_x": {
             "color": "#2a3f5f"
            },
            "error_y": {
             "color": "#2a3f5f"
            },
            "marker": {
             "line": {
              "color": "#E5ECF6",
              "width": 0.5
             },
             "pattern": {
              "fillmode": "overlay",
              "size": 10,
              "solidity": 0.2
             }
            },
            "type": "bar"
           }
          ],
          "scattergeo": [
           {
            "type": "scattergeo",
            "marker": {
             "colorbar": {
              "outlinewidth": 0,
              "ticks": ""
             }
            }
           }
          ],
          "scatterpolar": [
           {
            "type": "scatterpolar",
            "marker": {
             "colorbar": {
              "outlinewidth": 0,
              "ticks": ""
             }
            }
           }
          ],
          "histogram": [
           {
            "marker": {
             "pattern": {
              "fillmode": "overlay",
              "size": 10,
              "solidity": 0.2
             }
            },
            "type": "histogram"
           }
          ],
          "scattergl": [
           {
            "type": "scattergl",
            "marker": {
             "colorbar": {
              "outlinewidth": 0,
              "ticks": ""
             }
            }
           }
          ],
          "scatter3d": [
           {
            "type": "scatter3d",
            "line": {
             "colorbar": {
              "outlinewidth": 0,
              "ticks": ""
             }
            },
            "marker": {
             "colorbar": {
              "outlinewidth": 0,
              "ticks": ""
             }
            }
           }
          ],
          "scattermapbox": [
           {
            "type": "scattermapbox",
            "marker": {
             "colorbar": {
              "outlinewidth": 0,
              "ticks": ""
             }
            }
           }
          ],
          "scatterternary": [
           {
            "type": "scatterternary",
            "marker": {
             "colorbar": {
              "outlinewidth": 0,
              "ticks": ""
             }
            }
           }
          ],
          "scattercarpet": [
           {
            "type": "scattercarpet",
            "marker": {
             "colorbar": {
              "outlinewidth": 0,
              "ticks": ""
             }
            }
           }
          ],
          "carpet": [
           {
            "aaxis": {
             "endlinecolor": "#2a3f5f",
             "gridcolor": "white",
             "linecolor": "white",
             "minorgridcolor": "white",
             "startlinecolor": "#2a3f5f"
            },
            "baxis": {
             "endlinecolor": "#2a3f5f",
             "gridcolor": "white",
             "linecolor": "white",
             "minorgridcolor": "white",
             "startlinecolor": "#2a3f5f"
            },
            "type": "carpet"
           }
          ],
          "table": [
           {
            "cells": {
             "fill": {
              "color": "#EBF0F8"
             },
             "line": {
              "color": "white"
             }
            },
            "header": {
             "fill": {
              "color": "#C8D4E3"
             },
             "line": {
              "color": "white"
             }
            },
            "type": "table"
           }
          ],
          "barpolar": [
           {
            "marker": {
             "line": {
              "color": "#E5ECF6",
              "width": 0.5
             },
             "pattern": {
              "fillmode": "overlay",
              "size": 10,
              "solidity": 0.2
             }
            },
            "type": "barpolar"
           }
          ],
          "pie": [
           {
            "automargin": true,
            "type": "pie"
           }
          ]
         },
         "layout": {
          "autotypenumbers": "strict",
          "colorway": [
           "#636efa",
           "#EF553B",
           "#00cc96",
           "#ab63fa",
           "#FFA15A",
           "#19d3f3",
           "#FF6692",
           "#B6E880",
           "#FF97FF",
           "#FECB52"
          ],
          "font": {
           "color": "#2a3f5f"
          },
          "hovermode": "closest",
          "hoverlabel": {
           "align": "left"
          },
          "paper_bgcolor": "white",
          "plot_bgcolor": "#E5ECF6",
          "polar": {
           "bgcolor": "#E5ECF6",
           "angularaxis": {
            "gridcolor": "white",
            "linecolor": "white",
            "ticks": ""
           },
           "radialaxis": {
            "gridcolor": "white",
            "linecolor": "white",
            "ticks": ""
           }
          },
          "ternary": {
           "bgcolor": "#E5ECF6",
           "aaxis": {
            "gridcolor": "white",
            "linecolor": "white",
            "ticks": ""
           },
           "baxis": {
            "gridcolor": "white",
            "linecolor": "white",
            "ticks": ""
           },
           "caxis": {
            "gridcolor": "white",
            "linecolor": "white",
            "ticks": ""
           }
          },
          "coloraxis": {
           "colorbar": {
            "outlinewidth": 0,
            "ticks": ""
           }
          },
          "colorscale": {
           "sequential": [
            [
             0.0,
             "#0d0887"
            ],
            [
             0.1111111111111111,
             "#46039f"
            ],
            [
             0.2222222222222222,
             "#7201a8"
            ],
            [
             0.3333333333333333,
             "#9c179e"
            ],
            [
             0.4444444444444444,
             "#bd3786"
            ],
            [
             0.5555555555555556,
             "#d8576b"
            ],
            [
             0.6666666666666666,
             "#ed7953"
            ],
            [
             0.7777777777777778,
             "#fb9f3a"
            ],
            [
             0.8888888888888888,
             "#fdca26"
            ],
            [
             1.0,
             "#f0f921"
            ]
           ],
           "sequentialminus": [
            [
             0.0,
             "#0d0887"
            ],
            [
             0.1111111111111111,
             "#46039f"
            ],
            [
             0.2222222222222222,
             "#7201a8"
            ],
            [
             0.3333333333333333,
             "#9c179e"
            ],
            [
             0.4444444444444444,
             "#bd3786"
            ],
            [
             0.5555555555555556,
             "#d8576b"
            ],
            [
             0.6666666666666666,
             "#ed7953"
            ],
            [
             0.7777777777777778,
             "#fb9f3a"
            ],
            [
             0.8888888888888888,
             "#fdca26"
            ],
            [
             1.0,
             "#f0f921"
            ]
           ],
           "diverging": [
            [
             0,
             "#8e0152"
            ],
            [
             0.1,
             "#c51b7d"
            ],
            [
             0.2,
             "#de77ae"
            ],
            [
             0.3,
             "#f1b6da"
            ],
            [
             0.4,
             "#fde0ef"
            ],
            [
             0.5,
             "#f7f7f7"
            ],
            [
             0.6,
             "#e6f5d0"
            ],
            [
             0.7,
             "#b8e186"
            ],
            [
             0.8,
             "#7fbc41"
            ],
            [
             0.9,
             "#4d9221"
            ],
            [
             1,
             "#276419"
            ]
           ]
          },
          "xaxis": {
           "gridcolor": "white",
           "linecolor": "white",
           "ticks": "",
           "title": {
            "standoff": 15
           },
           "zerolinecolor": "white",
           "automargin": true,
           "zerolinewidth": 2
          },
          "yaxis": {
           "gridcolor": "white",
           "linecolor": "white",
           "ticks": "",
           "title": {
            "standoff": 15
           },
           "zerolinecolor": "white",
           "automargin": true,
           "zerolinewidth": 2
          },
          "scene": {
           "xaxis": {
            "backgroundcolor": "#E5ECF6",
            "gridcolor": "white",
            "linecolor": "white",
            "showbackground": true,
            "ticks": "",
            "zerolinecolor": "white",
            "gridwidth": 2
           },
           "yaxis": {
            "backgroundcolor": "#E5ECF6",
            "gridcolor": "white",
            "linecolor": "white",
            "showbackground": true,
            "ticks": "",
            "zerolinecolor": "white",
            "gridwidth": 2
           },
           "zaxis": {
            "backgroundcolor": "#E5ECF6",
            "gridcolor": "white",
            "linecolor": "white",
            "showbackground": true,
            "ticks": "",
            "zerolinecolor": "white",
            "gridwidth": 2
           }
          },
          "shapedefaults": {
           "line": {
            "color": "#2a3f5f"
           }
          },
          "annotationdefaults": {
           "arrowcolor": "#2a3f5f",
           "arrowhead": 0,
           "arrowwidth": 1
          },
          "geo": {
           "bgcolor": "white",
           "landcolor": "#E5ECF6",
           "subunitcolor": "white",
           "showland": true,
           "showlakes": true,
           "lakecolor": "white"
          },
          "title": {
           "x": 0.05
          },
          "mapbox": {
           "style": "light"
          }
         }
        }
       },
       "config": {
        "plotlyServerURL": "https://plot.ly"
       }
      }
     },
     "metadata": {},
     "output_type": "display_data"
    }
   ],
   "source": [
    "label_stats.plot_label_correlation()"
   ],
   "metadata": {
    "collapsed": false,
    "pycharm": {
     "name": "#%%\n"
    }
   }
  },
  {
   "cell_type": "markdown",
   "source": [],
   "metadata": {
    "collapsed": false,
    "pycharm": {
     "name": "#%% md\n"
    }
   }
  },
  {
   "cell_type": "code",
   "execution_count": 251,
   "outputs": [
    {
     "data": {
      "text/plain": "label_idea              0.401887\nlabel_evaluation        0.402830\nlabel_implementation    0.160377\nlabel_modification      0.258491\nlabel_improvement       0.178302\nlabel_any_activity      0.549057\nlabel_has_potential     0.333019\ndtype: float64"
     },
     "execution_count": 251,
     "metadata": {},
     "output_type": "execute_result"
    }
   ],
   "source": [
    "label_stats.label_counts(normalize=True)"
   ],
   "metadata": {
    "collapsed": false,
    "pycharm": {
     "name": "#%%\n"
    }
   }
  },
  {
   "cell_type": "code",
   "execution_count": 252,
   "outputs": [
    {
     "data": {
      "application/vnd.plotly.v1+json": {
       "data": [
        {
         "alignmentgroup": "True",
         "hovertemplate": "variable=0<br>index=%{x}<br>value=%{y}<extra></extra>",
         "legendgroup": "0",
         "marker": {
          "color": "#636efa",
          "pattern": {
           "shape": ""
          }
         },
         "name": "0",
         "offsetgroup": "0",
         "orientation": "v",
         "showlegend": true,
         "textposition": "auto",
         "x": [
          "label_idea",
          "label_evaluation",
          "label_implementation",
          "label_modification",
          "label_improvement",
          "label_any_activity",
          "label_has_potential"
         ],
         "xaxis": "x",
         "y": [
          0.4018867924528302,
          0.4028301886792453,
          0.16037735849056603,
          0.25849056603773585,
          0.17830188679245282,
          0.5490566037735849,
          0.3330188679245283
         ],
         "yaxis": "y",
         "type": "bar"
        }
       ],
       "layout": {
        "template": {
         "data": {
          "histogram2dcontour": [
           {
            "type": "histogram2dcontour",
            "colorbar": {
             "outlinewidth": 0,
             "ticks": ""
            },
            "colorscale": [
             [
              0.0,
              "#0d0887"
             ],
             [
              0.1111111111111111,
              "#46039f"
             ],
             [
              0.2222222222222222,
              "#7201a8"
             ],
             [
              0.3333333333333333,
              "#9c179e"
             ],
             [
              0.4444444444444444,
              "#bd3786"
             ],
             [
              0.5555555555555556,
              "#d8576b"
             ],
             [
              0.6666666666666666,
              "#ed7953"
             ],
             [
              0.7777777777777778,
              "#fb9f3a"
             ],
             [
              0.8888888888888888,
              "#fdca26"
             ],
             [
              1.0,
              "#f0f921"
             ]
            ]
           }
          ],
          "choropleth": [
           {
            "type": "choropleth",
            "colorbar": {
             "outlinewidth": 0,
             "ticks": ""
            }
           }
          ],
          "histogram2d": [
           {
            "type": "histogram2d",
            "colorbar": {
             "outlinewidth": 0,
             "ticks": ""
            },
            "colorscale": [
             [
              0.0,
              "#0d0887"
             ],
             [
              0.1111111111111111,
              "#46039f"
             ],
             [
              0.2222222222222222,
              "#7201a8"
             ],
             [
              0.3333333333333333,
              "#9c179e"
             ],
             [
              0.4444444444444444,
              "#bd3786"
             ],
             [
              0.5555555555555556,
              "#d8576b"
             ],
             [
              0.6666666666666666,
              "#ed7953"
             ],
             [
              0.7777777777777778,
              "#fb9f3a"
             ],
             [
              0.8888888888888888,
              "#fdca26"
             ],
             [
              1.0,
              "#f0f921"
             ]
            ]
           }
          ],
          "heatmap": [
           {
            "type": "heatmap",
            "colorbar": {
             "outlinewidth": 0,
             "ticks": ""
            },
            "colorscale": [
             [
              0.0,
              "#0d0887"
             ],
             [
              0.1111111111111111,
              "#46039f"
             ],
             [
              0.2222222222222222,
              "#7201a8"
             ],
             [
              0.3333333333333333,
              "#9c179e"
             ],
             [
              0.4444444444444444,
              "#bd3786"
             ],
             [
              0.5555555555555556,
              "#d8576b"
             ],
             [
              0.6666666666666666,
              "#ed7953"
             ],
             [
              0.7777777777777778,
              "#fb9f3a"
             ],
             [
              0.8888888888888888,
              "#fdca26"
             ],
             [
              1.0,
              "#f0f921"
             ]
            ]
           }
          ],
          "heatmapgl": [
           {
            "type": "heatmapgl",
            "colorbar": {
             "outlinewidth": 0,
             "ticks": ""
            },
            "colorscale": [
             [
              0.0,
              "#0d0887"
             ],
             [
              0.1111111111111111,
              "#46039f"
             ],
             [
              0.2222222222222222,
              "#7201a8"
             ],
             [
              0.3333333333333333,
              "#9c179e"
             ],
             [
              0.4444444444444444,
              "#bd3786"
             ],
             [
              0.5555555555555556,
              "#d8576b"
             ],
             [
              0.6666666666666666,
              "#ed7953"
             ],
             [
              0.7777777777777778,
              "#fb9f3a"
             ],
             [
              0.8888888888888888,
              "#fdca26"
             ],
             [
              1.0,
              "#f0f921"
             ]
            ]
           }
          ],
          "contourcarpet": [
           {
            "type": "contourcarpet",
            "colorbar": {
             "outlinewidth": 0,
             "ticks": ""
            }
           }
          ],
          "contour": [
           {
            "type": "contour",
            "colorbar": {
             "outlinewidth": 0,
             "ticks": ""
            },
            "colorscale": [
             [
              0.0,
              "#0d0887"
             ],
             [
              0.1111111111111111,
              "#46039f"
             ],
             [
              0.2222222222222222,
              "#7201a8"
             ],
             [
              0.3333333333333333,
              "#9c179e"
             ],
             [
              0.4444444444444444,
              "#bd3786"
             ],
             [
              0.5555555555555556,
              "#d8576b"
             ],
             [
              0.6666666666666666,
              "#ed7953"
             ],
             [
              0.7777777777777778,
              "#fb9f3a"
             ],
             [
              0.8888888888888888,
              "#fdca26"
             ],
             [
              1.0,
              "#f0f921"
             ]
            ]
           }
          ],
          "surface": [
           {
            "type": "surface",
            "colorbar": {
             "outlinewidth": 0,
             "ticks": ""
            },
            "colorscale": [
             [
              0.0,
              "#0d0887"
             ],
             [
              0.1111111111111111,
              "#46039f"
             ],
             [
              0.2222222222222222,
              "#7201a8"
             ],
             [
              0.3333333333333333,
              "#9c179e"
             ],
             [
              0.4444444444444444,
              "#bd3786"
             ],
             [
              0.5555555555555556,
              "#d8576b"
             ],
             [
              0.6666666666666666,
              "#ed7953"
             ],
             [
              0.7777777777777778,
              "#fb9f3a"
             ],
             [
              0.8888888888888888,
              "#fdca26"
             ],
             [
              1.0,
              "#f0f921"
             ]
            ]
           }
          ],
          "mesh3d": [
           {
            "type": "mesh3d",
            "colorbar": {
             "outlinewidth": 0,
             "ticks": ""
            }
           }
          ],
          "scatter": [
           {
            "fillpattern": {
             "fillmode": "overlay",
             "size": 10,
             "solidity": 0.2
            },
            "type": "scatter"
           }
          ],
          "parcoords": [
           {
            "type": "parcoords",
            "line": {
             "colorbar": {
              "outlinewidth": 0,
              "ticks": ""
             }
            }
           }
          ],
          "scatterpolargl": [
           {
            "type": "scatterpolargl",
            "marker": {
             "colorbar": {
              "outlinewidth": 0,
              "ticks": ""
             }
            }
           }
          ],
          "bar": [
           {
            "error_x": {
             "color": "#2a3f5f"
            },
            "error_y": {
             "color": "#2a3f5f"
            },
            "marker": {
             "line": {
              "color": "#E5ECF6",
              "width": 0.5
             },
             "pattern": {
              "fillmode": "overlay",
              "size": 10,
              "solidity": 0.2
             }
            },
            "type": "bar"
           }
          ],
          "scattergeo": [
           {
            "type": "scattergeo",
            "marker": {
             "colorbar": {
              "outlinewidth": 0,
              "ticks": ""
             }
            }
           }
          ],
          "scatterpolar": [
           {
            "type": "scatterpolar",
            "marker": {
             "colorbar": {
              "outlinewidth": 0,
              "ticks": ""
             }
            }
           }
          ],
          "histogram": [
           {
            "marker": {
             "pattern": {
              "fillmode": "overlay",
              "size": 10,
              "solidity": 0.2
             }
            },
            "type": "histogram"
           }
          ],
          "scattergl": [
           {
            "type": "scattergl",
            "marker": {
             "colorbar": {
              "outlinewidth": 0,
              "ticks": ""
             }
            }
           }
          ],
          "scatter3d": [
           {
            "type": "scatter3d",
            "line": {
             "colorbar": {
              "outlinewidth": 0,
              "ticks": ""
             }
            },
            "marker": {
             "colorbar": {
              "outlinewidth": 0,
              "ticks": ""
             }
            }
           }
          ],
          "scattermapbox": [
           {
            "type": "scattermapbox",
            "marker": {
             "colorbar": {
              "outlinewidth": 0,
              "ticks": ""
             }
            }
           }
          ],
          "scatterternary": [
           {
            "type": "scatterternary",
            "marker": {
             "colorbar": {
              "outlinewidth": 0,
              "ticks": ""
             }
            }
           }
          ],
          "scattercarpet": [
           {
            "type": "scattercarpet",
            "marker": {
             "colorbar": {
              "outlinewidth": 0,
              "ticks": ""
             }
            }
           }
          ],
          "carpet": [
           {
            "aaxis": {
             "endlinecolor": "#2a3f5f",
             "gridcolor": "white",
             "linecolor": "white",
             "minorgridcolor": "white",
             "startlinecolor": "#2a3f5f"
            },
            "baxis": {
             "endlinecolor": "#2a3f5f",
             "gridcolor": "white",
             "linecolor": "white",
             "minorgridcolor": "white",
             "startlinecolor": "#2a3f5f"
            },
            "type": "carpet"
           }
          ],
          "table": [
           {
            "cells": {
             "fill": {
              "color": "#EBF0F8"
             },
             "line": {
              "color": "white"
             }
            },
            "header": {
             "fill": {
              "color": "#C8D4E3"
             },
             "line": {
              "color": "white"
             }
            },
            "type": "table"
           }
          ],
          "barpolar": [
           {
            "marker": {
             "line": {
              "color": "#E5ECF6",
              "width": 0.5
             },
             "pattern": {
              "fillmode": "overlay",
              "size": 10,
              "solidity": 0.2
             }
            },
            "type": "barpolar"
           }
          ],
          "pie": [
           {
            "automargin": true,
            "type": "pie"
           }
          ]
         },
         "layout": {
          "autotypenumbers": "strict",
          "colorway": [
           "#636efa",
           "#EF553B",
           "#00cc96",
           "#ab63fa",
           "#FFA15A",
           "#19d3f3",
           "#FF6692",
           "#B6E880",
           "#FF97FF",
           "#FECB52"
          ],
          "font": {
           "color": "#2a3f5f"
          },
          "hovermode": "closest",
          "hoverlabel": {
           "align": "left"
          },
          "paper_bgcolor": "white",
          "plot_bgcolor": "#E5ECF6",
          "polar": {
           "bgcolor": "#E5ECF6",
           "angularaxis": {
            "gridcolor": "white",
            "linecolor": "white",
            "ticks": ""
           },
           "radialaxis": {
            "gridcolor": "white",
            "linecolor": "white",
            "ticks": ""
           }
          },
          "ternary": {
           "bgcolor": "#E5ECF6",
           "aaxis": {
            "gridcolor": "white",
            "linecolor": "white",
            "ticks": ""
           },
           "baxis": {
            "gridcolor": "white",
            "linecolor": "white",
            "ticks": ""
           },
           "caxis": {
            "gridcolor": "white",
            "linecolor": "white",
            "ticks": ""
           }
          },
          "coloraxis": {
           "colorbar": {
            "outlinewidth": 0,
            "ticks": ""
           }
          },
          "colorscale": {
           "sequential": [
            [
             0.0,
             "#0d0887"
            ],
            [
             0.1111111111111111,
             "#46039f"
            ],
            [
             0.2222222222222222,
             "#7201a8"
            ],
            [
             0.3333333333333333,
             "#9c179e"
            ],
            [
             0.4444444444444444,
             "#bd3786"
            ],
            [
             0.5555555555555556,
             "#d8576b"
            ],
            [
             0.6666666666666666,
             "#ed7953"
            ],
            [
             0.7777777777777778,
             "#fb9f3a"
            ],
            [
             0.8888888888888888,
             "#fdca26"
            ],
            [
             1.0,
             "#f0f921"
            ]
           ],
           "sequentialminus": [
            [
             0.0,
             "#0d0887"
            ],
            [
             0.1111111111111111,
             "#46039f"
            ],
            [
             0.2222222222222222,
             "#7201a8"
            ],
            [
             0.3333333333333333,
             "#9c179e"
            ],
            [
             0.4444444444444444,
             "#bd3786"
            ],
            [
             0.5555555555555556,
             "#d8576b"
            ],
            [
             0.6666666666666666,
             "#ed7953"
            ],
            [
             0.7777777777777778,
             "#fb9f3a"
            ],
            [
             0.8888888888888888,
             "#fdca26"
            ],
            [
             1.0,
             "#f0f921"
            ]
           ],
           "diverging": [
            [
             0,
             "#8e0152"
            ],
            [
             0.1,
             "#c51b7d"
            ],
            [
             0.2,
             "#de77ae"
            ],
            [
             0.3,
             "#f1b6da"
            ],
            [
             0.4,
             "#fde0ef"
            ],
            [
             0.5,
             "#f7f7f7"
            ],
            [
             0.6,
             "#e6f5d0"
            ],
            [
             0.7,
             "#b8e186"
            ],
            [
             0.8,
             "#7fbc41"
            ],
            [
             0.9,
             "#4d9221"
            ],
            [
             1,
             "#276419"
            ]
           ]
          },
          "xaxis": {
           "gridcolor": "white",
           "linecolor": "white",
           "ticks": "",
           "title": {
            "standoff": 15
           },
           "zerolinecolor": "white",
           "automargin": true,
           "zerolinewidth": 2
          },
          "yaxis": {
           "gridcolor": "white",
           "linecolor": "white",
           "ticks": "",
           "title": {
            "standoff": 15
           },
           "zerolinecolor": "white",
           "automargin": true,
           "zerolinewidth": 2
          },
          "scene": {
           "xaxis": {
            "backgroundcolor": "#E5ECF6",
            "gridcolor": "white",
            "linecolor": "white",
            "showbackground": true,
            "ticks": "",
            "zerolinecolor": "white",
            "gridwidth": 2
           },
           "yaxis": {
            "backgroundcolor": "#E5ECF6",
            "gridcolor": "white",
            "linecolor": "white",
            "showbackground": true,
            "ticks": "",
            "zerolinecolor": "white",
            "gridwidth": 2
           },
           "zaxis": {
            "backgroundcolor": "#E5ECF6",
            "gridcolor": "white",
            "linecolor": "white",
            "showbackground": true,
            "ticks": "",
            "zerolinecolor": "white",
            "gridwidth": 2
           }
          },
          "shapedefaults": {
           "line": {
            "color": "#2a3f5f"
           }
          },
          "annotationdefaults": {
           "arrowcolor": "#2a3f5f",
           "arrowhead": 0,
           "arrowwidth": 1
          },
          "geo": {
           "bgcolor": "white",
           "landcolor": "#E5ECF6",
           "subunitcolor": "white",
           "showland": true,
           "showlakes": true,
           "lakecolor": "white"
          },
          "title": {
           "x": 0.05
          },
          "mapbox": {
           "style": "light"
          }
         }
        },
        "xaxis": {
         "anchor": "y",
         "domain": [
          0.0,
          1.0
         ],
         "title": {
          "text": "index"
         }
        },
        "yaxis": {
         "anchor": "x",
         "domain": [
          0.0,
          1.0
         ],
         "title": {
          "text": "value"
         }
        },
        "legend": {
         "title": {
          "text": "variable"
         },
         "tracegroupgap": 0
        },
        "margin": {
         "t": 60
        },
        "barmode": "relative"
       },
       "config": {
        "plotlyServerURL": "https://plot.ly"
       }
      }
     },
     "metadata": {},
     "output_type": "display_data"
    }
   ],
   "source": [
    "label_stats.label_counts(normalize=True).plot(kind='bar')"
   ],
   "metadata": {
    "collapsed": false,
    "pycharm": {
     "name": "#%%\n"
    }
   }
  },
  {
   "cell_type": "code",
   "execution_count": 253,
   "outputs": [
    {
     "data": {
      "text/plain": "                        label_idea  label_evaluation  label_implementation  \\\nlabeller                                                                     \nJan P.                    0.702128          0.617021              0.148936   \nJan-Philipp (JP)          0.554054          0.472973              0.135135   \nJonathan1.732             0.344444          0.255556              0.088889   \nLarilu                    0.232432          0.227027              0.081081   \nPhoebetan310@gmail.com    0.000000          0.000000              0.400000   \nanna+philipp              0.484536          0.432990              0.164948   \ncmcuza@gmail.com          0.044444          0.000000              0.022222   \nelisagleu@gmail.com       0.266667          0.520000              0.346667   \nf.hetyei@yahoo.de         0.600000          0.600000              0.400000   \nmr.kiborg468@mail.ru      0.200000          0.000000              0.200000   \npalubdiana@gmail.com      0.914286          0.971429              0.742857   \npetrol39blackberry0       0.240000          0.920000              0.240000   \nphoebetan310@gmail.com    0.266667          0.133333              0.000000   \nxwegner_lgh@outlook.de    0.576744          0.586047              0.186047   \n\n                        label_modification  label_improvement  \\\nlabeller                                                        \nJan P.                            0.308511           0.255319   \nJan-Philipp (JP)                  0.256757           0.297297   \nJonathan1.732                     0.066667           0.044444   \nLarilu                            0.048649           0.016216   \nPhoebetan310@gmail.com            0.000000           0.000000   \nanna+philipp                      0.226804           0.288660   \ncmcuza@gmail.com                  0.044444           0.007407   \nelisagleu@gmail.com               0.213333           0.240000   \nf.hetyei@yahoo.de                 0.400000           0.200000   \nmr.kiborg468@mail.ru              0.200000           0.000000   \npalubdiana@gmail.com              0.685714           0.285714   \npetrol39blackberry0               0.320000           0.040000   \nphoebetan310@gmail.com            0.066667           0.000000   \nxwegner_lgh@outlook.de            0.609302           0.358140   \n\n                        label_any_activity  label_has_potential  \nlabeller                                                         \nJan P.                            0.723404             0.553191  \nJan-Philipp (JP)                  0.702703             0.527027  \nJonathan1.732                     0.366667             0.333333  \nLarilu                            0.259459             0.243243  \nPhoebetan310@gmail.com            0.400000             0.200000  \nanna+philipp                      0.659794             0.422680  \ncmcuza@gmail.com                  0.103704             0.111111  \nelisagleu@gmail.com               0.613333             0.426667  \nf.hetyei@yahoo.de                 0.800000             0.800000  \nmr.kiborg468@mail.ru              0.600000             0.600000  \npalubdiana@gmail.com              0.971429             0.000000  \npetrol39blackberry0               0.920000             0.560000  \nphoebetan310@gmail.com            0.466667             0.000000  \nxwegner_lgh@outlook.de            0.846512             0.358140  ",
      "text/html": "<div>\n<style scoped>\n    .dataframe tbody tr th:only-of-type {\n        vertical-align: middle;\n    }\n\n    .dataframe tbody tr th {\n        vertical-align: top;\n    }\n\n    .dataframe thead th {\n        text-align: right;\n    }\n</style>\n<table border=\"1\" class=\"dataframe\">\n  <thead>\n    <tr style=\"text-align: right;\">\n      <th></th>\n      <th>label_idea</th>\n      <th>label_evaluation</th>\n      <th>label_implementation</th>\n      <th>label_modification</th>\n      <th>label_improvement</th>\n      <th>label_any_activity</th>\n      <th>label_has_potential</th>\n    </tr>\n    <tr>\n      <th>labeller</th>\n      <th></th>\n      <th></th>\n      <th></th>\n      <th></th>\n      <th></th>\n      <th></th>\n      <th></th>\n    </tr>\n  </thead>\n  <tbody>\n    <tr>\n      <th>Jan P.</th>\n      <td>0.702128</td>\n      <td>0.617021</td>\n      <td>0.148936</td>\n      <td>0.308511</td>\n      <td>0.255319</td>\n      <td>0.723404</td>\n      <td>0.553191</td>\n    </tr>\n    <tr>\n      <th>Jan-Philipp (JP)</th>\n      <td>0.554054</td>\n      <td>0.472973</td>\n      <td>0.135135</td>\n      <td>0.256757</td>\n      <td>0.297297</td>\n      <td>0.702703</td>\n      <td>0.527027</td>\n    </tr>\n    <tr>\n      <th>Jonathan1.732</th>\n      <td>0.344444</td>\n      <td>0.255556</td>\n      <td>0.088889</td>\n      <td>0.066667</td>\n      <td>0.044444</td>\n      <td>0.366667</td>\n      <td>0.333333</td>\n    </tr>\n    <tr>\n      <th>Larilu</th>\n      <td>0.232432</td>\n      <td>0.227027</td>\n      <td>0.081081</td>\n      <td>0.048649</td>\n      <td>0.016216</td>\n      <td>0.259459</td>\n      <td>0.243243</td>\n    </tr>\n    <tr>\n      <th>Phoebetan310@gmail.com</th>\n      <td>0.000000</td>\n      <td>0.000000</td>\n      <td>0.400000</td>\n      <td>0.000000</td>\n      <td>0.000000</td>\n      <td>0.400000</td>\n      <td>0.200000</td>\n    </tr>\n    <tr>\n      <th>anna+philipp</th>\n      <td>0.484536</td>\n      <td>0.432990</td>\n      <td>0.164948</td>\n      <td>0.226804</td>\n      <td>0.288660</td>\n      <td>0.659794</td>\n      <td>0.422680</td>\n    </tr>\n    <tr>\n      <th>cmcuza@gmail.com</th>\n      <td>0.044444</td>\n      <td>0.000000</td>\n      <td>0.022222</td>\n      <td>0.044444</td>\n      <td>0.007407</td>\n      <td>0.103704</td>\n      <td>0.111111</td>\n    </tr>\n    <tr>\n      <th>elisagleu@gmail.com</th>\n      <td>0.266667</td>\n      <td>0.520000</td>\n      <td>0.346667</td>\n      <td>0.213333</td>\n      <td>0.240000</td>\n      <td>0.613333</td>\n      <td>0.426667</td>\n    </tr>\n    <tr>\n      <th>f.hetyei@yahoo.de</th>\n      <td>0.600000</td>\n      <td>0.600000</td>\n      <td>0.400000</td>\n      <td>0.400000</td>\n      <td>0.200000</td>\n      <td>0.800000</td>\n      <td>0.800000</td>\n    </tr>\n    <tr>\n      <th>mr.kiborg468@mail.ru</th>\n      <td>0.200000</td>\n      <td>0.000000</td>\n      <td>0.200000</td>\n      <td>0.200000</td>\n      <td>0.000000</td>\n      <td>0.600000</td>\n      <td>0.600000</td>\n    </tr>\n    <tr>\n      <th>palubdiana@gmail.com</th>\n      <td>0.914286</td>\n      <td>0.971429</td>\n      <td>0.742857</td>\n      <td>0.685714</td>\n      <td>0.285714</td>\n      <td>0.971429</td>\n      <td>0.000000</td>\n    </tr>\n    <tr>\n      <th>petrol39blackberry0</th>\n      <td>0.240000</td>\n      <td>0.920000</td>\n      <td>0.240000</td>\n      <td>0.320000</td>\n      <td>0.040000</td>\n      <td>0.920000</td>\n      <td>0.560000</td>\n    </tr>\n    <tr>\n      <th>phoebetan310@gmail.com</th>\n      <td>0.266667</td>\n      <td>0.133333</td>\n      <td>0.000000</td>\n      <td>0.066667</td>\n      <td>0.000000</td>\n      <td>0.466667</td>\n      <td>0.000000</td>\n    </tr>\n    <tr>\n      <th>xwegner_lgh@outlook.de</th>\n      <td>0.576744</td>\n      <td>0.586047</td>\n      <td>0.186047</td>\n      <td>0.609302</td>\n      <td>0.358140</td>\n      <td>0.846512</td>\n      <td>0.358140</td>\n    </tr>\n  </tbody>\n</table>\n</div>"
     },
     "execution_count": 253,
     "metadata": {},
     "output_type": "execute_result"
    }
   ],
   "source": [
    "label_stats.label_counts_by_labeller(normalize=True)"
   ],
   "metadata": {
    "collapsed": false,
    "pycharm": {
     "name": "#%%\n"
    }
   }
  },
  {
   "cell_type": "code",
   "execution_count": 254,
   "outputs": [
    {
     "data": {
      "application/vnd.plotly.v1+json": {
       "data": [
        {
         "text": [
          [
           0.7021276595744681,
           0.6170212765957447,
           0.14893617021276595,
           0.30851063829787234,
           0.2553191489361702,
           0.723404255319149,
           0.5531914893617021
          ],
          [
           0.5540540540540541,
           0.47297297297297297,
           0.13513513513513514,
           0.25675675675675674,
           0.2972972972972973,
           0.7027027027027027,
           0.527027027027027
          ],
          [
           0.34444444444444444,
           0.25555555555555554,
           0.08888888888888889,
           0.06666666666666667,
           0.044444444444444446,
           0.36666666666666664,
           0.3333333333333333
          ],
          [
           0.23243243243243245,
           0.22702702702702704,
           0.08108108108108109,
           0.04864864864864865,
           0.016216216216216217,
           0.2594594594594595,
           0.24324324324324326
          ],
          [
           0.0,
           0.0,
           0.4,
           0.0,
           0.0,
           0.4,
           0.2
          ],
          [
           0.4845360824742268,
           0.4329896907216495,
           0.16494845360824742,
           0.2268041237113402,
           0.28865979381443296,
           0.6597938144329897,
           0.422680412371134
          ],
          [
           0.044444444444444446,
           0.0,
           0.022222222222222223,
           0.044444444444444446,
           0.007407407407407408,
           0.1037037037037037,
           0.1111111111111111
          ],
          [
           0.26666666666666666,
           0.52,
           0.3466666666666667,
           0.21333333333333335,
           0.24,
           0.6133333333333333,
           0.4266666666666667
          ],
          [
           0.6,
           0.6,
           0.4,
           0.4,
           0.2,
           0.8,
           0.8
          ],
          [
           0.2,
           0.0,
           0.2,
           0.2,
           0.0,
           0.6,
           0.6
          ],
          [
           0.9142857142857143,
           0.9714285714285714,
           0.7428571428571429,
           0.6857142857142857,
           0.2857142857142857,
           0.9714285714285714,
           0.0
          ],
          [
           0.24,
           0.92,
           0.24,
           0.32,
           0.04,
           0.92,
           0.56
          ],
          [
           0.26666666666666666,
           0.13333333333333333,
           0.0,
           0.06666666666666667,
           0.0,
           0.4666666666666667,
           0.0
          ],
          [
           0.5767441860465117,
           0.586046511627907,
           0.18604651162790697,
           0.6093023255813953,
           0.3581395348837209,
           0.8465116279069768,
           0.3581395348837209
          ]
         ],
         "texttemplate": "%{text:.2f}",
         "x": [
          "label_idea",
          "label_evaluation",
          "label_implementation",
          "label_modification",
          "label_improvement",
          "label_any_activity",
          "label_has_potential"
         ],
         "y": [
          "Jan P.",
          "Jan-Philipp (JP)",
          "Jonathan1.732",
          "Larilu",
          "Phoebetan310@gmail.com",
          "anna+philipp",
          "cmcuza@gmail.com",
          "elisagleu@gmail.com",
          "f.hetyei@yahoo.de",
          "mr.kiborg468@mail.ru",
          "palubdiana@gmail.com",
          "petrol39blackberry0",
          "phoebetan310@gmail.com",
          "xwegner_lgh@outlook.de"
         ],
         "z": [
          [
           0.7021276595744681,
           0.6170212765957447,
           0.14893617021276595,
           0.30851063829787234,
           0.2553191489361702,
           0.723404255319149,
           0.5531914893617021
          ],
          [
           0.5540540540540541,
           0.47297297297297297,
           0.13513513513513514,
           0.25675675675675674,
           0.2972972972972973,
           0.7027027027027027,
           0.527027027027027
          ],
          [
           0.34444444444444444,
           0.25555555555555554,
           0.08888888888888889,
           0.06666666666666667,
           0.044444444444444446,
           0.36666666666666664,
           0.3333333333333333
          ],
          [
           0.23243243243243245,
           0.22702702702702704,
           0.08108108108108109,
           0.04864864864864865,
           0.016216216216216217,
           0.2594594594594595,
           0.24324324324324326
          ],
          [
           0.0,
           0.0,
           0.4,
           0.0,
           0.0,
           0.4,
           0.2
          ],
          [
           0.4845360824742268,
           0.4329896907216495,
           0.16494845360824742,
           0.2268041237113402,
           0.28865979381443296,
           0.6597938144329897,
           0.422680412371134
          ],
          [
           0.044444444444444446,
           0.0,
           0.022222222222222223,
           0.044444444444444446,
           0.007407407407407408,
           0.1037037037037037,
           0.1111111111111111
          ],
          [
           0.26666666666666666,
           0.52,
           0.3466666666666667,
           0.21333333333333335,
           0.24,
           0.6133333333333333,
           0.4266666666666667
          ],
          [
           0.6,
           0.6,
           0.4,
           0.4,
           0.2,
           0.8,
           0.8
          ],
          [
           0.2,
           0.0,
           0.2,
           0.2,
           0.0,
           0.6,
           0.6
          ],
          [
           0.9142857142857143,
           0.9714285714285714,
           0.7428571428571429,
           0.6857142857142857,
           0.2857142857142857,
           0.9714285714285714,
           0.0
          ],
          [
           0.24,
           0.92,
           0.24,
           0.32,
           0.04,
           0.92,
           0.56
          ],
          [
           0.26666666666666666,
           0.13333333333333333,
           0.0,
           0.06666666666666667,
           0.0,
           0.4666666666666667,
           0.0
          ],
          [
           0.5767441860465117,
           0.586046511627907,
           0.18604651162790697,
           0.6093023255813953,
           0.3581395348837209,
           0.8465116279069768,
           0.3581395348837209
          ]
         ],
         "type": "heatmap"
        }
       ],
       "layout": {
        "template": {
         "data": {
          "histogram2dcontour": [
           {
            "type": "histogram2dcontour",
            "colorbar": {
             "outlinewidth": 0,
             "ticks": ""
            },
            "colorscale": [
             [
              0.0,
              "#0d0887"
             ],
             [
              0.1111111111111111,
              "#46039f"
             ],
             [
              0.2222222222222222,
              "#7201a8"
             ],
             [
              0.3333333333333333,
              "#9c179e"
             ],
             [
              0.4444444444444444,
              "#bd3786"
             ],
             [
              0.5555555555555556,
              "#d8576b"
             ],
             [
              0.6666666666666666,
              "#ed7953"
             ],
             [
              0.7777777777777778,
              "#fb9f3a"
             ],
             [
              0.8888888888888888,
              "#fdca26"
             ],
             [
              1.0,
              "#f0f921"
             ]
            ]
           }
          ],
          "choropleth": [
           {
            "type": "choropleth",
            "colorbar": {
             "outlinewidth": 0,
             "ticks": ""
            }
           }
          ],
          "histogram2d": [
           {
            "type": "histogram2d",
            "colorbar": {
             "outlinewidth": 0,
             "ticks": ""
            },
            "colorscale": [
             [
              0.0,
              "#0d0887"
             ],
             [
              0.1111111111111111,
              "#46039f"
             ],
             [
              0.2222222222222222,
              "#7201a8"
             ],
             [
              0.3333333333333333,
              "#9c179e"
             ],
             [
              0.4444444444444444,
              "#bd3786"
             ],
             [
              0.5555555555555556,
              "#d8576b"
             ],
             [
              0.6666666666666666,
              "#ed7953"
             ],
             [
              0.7777777777777778,
              "#fb9f3a"
             ],
             [
              0.8888888888888888,
              "#fdca26"
             ],
             [
              1.0,
              "#f0f921"
             ]
            ]
           }
          ],
          "heatmap": [
           {
            "type": "heatmap",
            "colorbar": {
             "outlinewidth": 0,
             "ticks": ""
            },
            "colorscale": [
             [
              0.0,
              "#0d0887"
             ],
             [
              0.1111111111111111,
              "#46039f"
             ],
             [
              0.2222222222222222,
              "#7201a8"
             ],
             [
              0.3333333333333333,
              "#9c179e"
             ],
             [
              0.4444444444444444,
              "#bd3786"
             ],
             [
              0.5555555555555556,
              "#d8576b"
             ],
             [
              0.6666666666666666,
              "#ed7953"
             ],
             [
              0.7777777777777778,
              "#fb9f3a"
             ],
             [
              0.8888888888888888,
              "#fdca26"
             ],
             [
              1.0,
              "#f0f921"
             ]
            ]
           }
          ],
          "heatmapgl": [
           {
            "type": "heatmapgl",
            "colorbar": {
             "outlinewidth": 0,
             "ticks": ""
            },
            "colorscale": [
             [
              0.0,
              "#0d0887"
             ],
             [
              0.1111111111111111,
              "#46039f"
             ],
             [
              0.2222222222222222,
              "#7201a8"
             ],
             [
              0.3333333333333333,
              "#9c179e"
             ],
             [
              0.4444444444444444,
              "#bd3786"
             ],
             [
              0.5555555555555556,
              "#d8576b"
             ],
             [
              0.6666666666666666,
              "#ed7953"
             ],
             [
              0.7777777777777778,
              "#fb9f3a"
             ],
             [
              0.8888888888888888,
              "#fdca26"
             ],
             [
              1.0,
              "#f0f921"
             ]
            ]
           }
          ],
          "contourcarpet": [
           {
            "type": "contourcarpet",
            "colorbar": {
             "outlinewidth": 0,
             "ticks": ""
            }
           }
          ],
          "contour": [
           {
            "type": "contour",
            "colorbar": {
             "outlinewidth": 0,
             "ticks": ""
            },
            "colorscale": [
             [
              0.0,
              "#0d0887"
             ],
             [
              0.1111111111111111,
              "#46039f"
             ],
             [
              0.2222222222222222,
              "#7201a8"
             ],
             [
              0.3333333333333333,
              "#9c179e"
             ],
             [
              0.4444444444444444,
              "#bd3786"
             ],
             [
              0.5555555555555556,
              "#d8576b"
             ],
             [
              0.6666666666666666,
              "#ed7953"
             ],
             [
              0.7777777777777778,
              "#fb9f3a"
             ],
             [
              0.8888888888888888,
              "#fdca26"
             ],
             [
              1.0,
              "#f0f921"
             ]
            ]
           }
          ],
          "surface": [
           {
            "type": "surface",
            "colorbar": {
             "outlinewidth": 0,
             "ticks": ""
            },
            "colorscale": [
             [
              0.0,
              "#0d0887"
             ],
             [
              0.1111111111111111,
              "#46039f"
             ],
             [
              0.2222222222222222,
              "#7201a8"
             ],
             [
              0.3333333333333333,
              "#9c179e"
             ],
             [
              0.4444444444444444,
              "#bd3786"
             ],
             [
              0.5555555555555556,
              "#d8576b"
             ],
             [
              0.6666666666666666,
              "#ed7953"
             ],
             [
              0.7777777777777778,
              "#fb9f3a"
             ],
             [
              0.8888888888888888,
              "#fdca26"
             ],
             [
              1.0,
              "#f0f921"
             ]
            ]
           }
          ],
          "mesh3d": [
           {
            "type": "mesh3d",
            "colorbar": {
             "outlinewidth": 0,
             "ticks": ""
            }
           }
          ],
          "scatter": [
           {
            "fillpattern": {
             "fillmode": "overlay",
             "size": 10,
             "solidity": 0.2
            },
            "type": "scatter"
           }
          ],
          "parcoords": [
           {
            "type": "parcoords",
            "line": {
             "colorbar": {
              "outlinewidth": 0,
              "ticks": ""
             }
            }
           }
          ],
          "scatterpolargl": [
           {
            "type": "scatterpolargl",
            "marker": {
             "colorbar": {
              "outlinewidth": 0,
              "ticks": ""
             }
            }
           }
          ],
          "bar": [
           {
            "error_x": {
             "color": "#2a3f5f"
            },
            "error_y": {
             "color": "#2a3f5f"
            },
            "marker": {
             "line": {
              "color": "#E5ECF6",
              "width": 0.5
             },
             "pattern": {
              "fillmode": "overlay",
              "size": 10,
              "solidity": 0.2
             }
            },
            "type": "bar"
           }
          ],
          "scattergeo": [
           {
            "type": "scattergeo",
            "marker": {
             "colorbar": {
              "outlinewidth": 0,
              "ticks": ""
             }
            }
           }
          ],
          "scatterpolar": [
           {
            "type": "scatterpolar",
            "marker": {
             "colorbar": {
              "outlinewidth": 0,
              "ticks": ""
             }
            }
           }
          ],
          "histogram": [
           {
            "marker": {
             "pattern": {
              "fillmode": "overlay",
              "size": 10,
              "solidity": 0.2
             }
            },
            "type": "histogram"
           }
          ],
          "scattergl": [
           {
            "type": "scattergl",
            "marker": {
             "colorbar": {
              "outlinewidth": 0,
              "ticks": ""
             }
            }
           }
          ],
          "scatter3d": [
           {
            "type": "scatter3d",
            "line": {
             "colorbar": {
              "outlinewidth": 0,
              "ticks": ""
             }
            },
            "marker": {
             "colorbar": {
              "outlinewidth": 0,
              "ticks": ""
             }
            }
           }
          ],
          "scattermapbox": [
           {
            "type": "scattermapbox",
            "marker": {
             "colorbar": {
              "outlinewidth": 0,
              "ticks": ""
             }
            }
           }
          ],
          "scatterternary": [
           {
            "type": "scatterternary",
            "marker": {
             "colorbar": {
              "outlinewidth": 0,
              "ticks": ""
             }
            }
           }
          ],
          "scattercarpet": [
           {
            "type": "scattercarpet",
            "marker": {
             "colorbar": {
              "outlinewidth": 0,
              "ticks": ""
             }
            }
           }
          ],
          "carpet": [
           {
            "aaxis": {
             "endlinecolor": "#2a3f5f",
             "gridcolor": "white",
             "linecolor": "white",
             "minorgridcolor": "white",
             "startlinecolor": "#2a3f5f"
            },
            "baxis": {
             "endlinecolor": "#2a3f5f",
             "gridcolor": "white",
             "linecolor": "white",
             "minorgridcolor": "white",
             "startlinecolor": "#2a3f5f"
            },
            "type": "carpet"
           }
          ],
          "table": [
           {
            "cells": {
             "fill": {
              "color": "#EBF0F8"
             },
             "line": {
              "color": "white"
             }
            },
            "header": {
             "fill": {
              "color": "#C8D4E3"
             },
             "line": {
              "color": "white"
             }
            },
            "type": "table"
           }
          ],
          "barpolar": [
           {
            "marker": {
             "line": {
              "color": "#E5ECF6",
              "width": 0.5
             },
             "pattern": {
              "fillmode": "overlay",
              "size": 10,
              "solidity": 0.2
             }
            },
            "type": "barpolar"
           }
          ],
          "pie": [
           {
            "automargin": true,
            "type": "pie"
           }
          ]
         },
         "layout": {
          "autotypenumbers": "strict",
          "colorway": [
           "#636efa",
           "#EF553B",
           "#00cc96",
           "#ab63fa",
           "#FFA15A",
           "#19d3f3",
           "#FF6692",
           "#B6E880",
           "#FF97FF",
           "#FECB52"
          ],
          "font": {
           "color": "#2a3f5f"
          },
          "hovermode": "closest",
          "hoverlabel": {
           "align": "left"
          },
          "paper_bgcolor": "white",
          "plot_bgcolor": "#E5ECF6",
          "polar": {
           "bgcolor": "#E5ECF6",
           "angularaxis": {
            "gridcolor": "white",
            "linecolor": "white",
            "ticks": ""
           },
           "radialaxis": {
            "gridcolor": "white",
            "linecolor": "white",
            "ticks": ""
           }
          },
          "ternary": {
           "bgcolor": "#E5ECF6",
           "aaxis": {
            "gridcolor": "white",
            "linecolor": "white",
            "ticks": ""
           },
           "baxis": {
            "gridcolor": "white",
            "linecolor": "white",
            "ticks": ""
           },
           "caxis": {
            "gridcolor": "white",
            "linecolor": "white",
            "ticks": ""
           }
          },
          "coloraxis": {
           "colorbar": {
            "outlinewidth": 0,
            "ticks": ""
           }
          },
          "colorscale": {
           "sequential": [
            [
             0.0,
             "#0d0887"
            ],
            [
             0.1111111111111111,
             "#46039f"
            ],
            [
             0.2222222222222222,
             "#7201a8"
            ],
            [
             0.3333333333333333,
             "#9c179e"
            ],
            [
             0.4444444444444444,
             "#bd3786"
            ],
            [
             0.5555555555555556,
             "#d8576b"
            ],
            [
             0.6666666666666666,
             "#ed7953"
            ],
            [
             0.7777777777777778,
             "#fb9f3a"
            ],
            [
             0.8888888888888888,
             "#fdca26"
            ],
            [
             1.0,
             "#f0f921"
            ]
           ],
           "sequentialminus": [
            [
             0.0,
             "#0d0887"
            ],
            [
             0.1111111111111111,
             "#46039f"
            ],
            [
             0.2222222222222222,
             "#7201a8"
            ],
            [
             0.3333333333333333,
             "#9c179e"
            ],
            [
             0.4444444444444444,
             "#bd3786"
            ],
            [
             0.5555555555555556,
             "#d8576b"
            ],
            [
             0.6666666666666666,
             "#ed7953"
            ],
            [
             0.7777777777777778,
             "#fb9f3a"
            ],
            [
             0.8888888888888888,
             "#fdca26"
            ],
            [
             1.0,
             "#f0f921"
            ]
           ],
           "diverging": [
            [
             0,
             "#8e0152"
            ],
            [
             0.1,
             "#c51b7d"
            ],
            [
             0.2,
             "#de77ae"
            ],
            [
             0.3,
             "#f1b6da"
            ],
            [
             0.4,
             "#fde0ef"
            ],
            [
             0.5,
             "#f7f7f7"
            ],
            [
             0.6,
             "#e6f5d0"
            ],
            [
             0.7,
             "#b8e186"
            ],
            [
             0.8,
             "#7fbc41"
            ],
            [
             0.9,
             "#4d9221"
            ],
            [
             1,
             "#276419"
            ]
           ]
          },
          "xaxis": {
           "gridcolor": "white",
           "linecolor": "white",
           "ticks": "",
           "title": {
            "standoff": 15
           },
           "zerolinecolor": "white",
           "automargin": true,
           "zerolinewidth": 2
          },
          "yaxis": {
           "gridcolor": "white",
           "linecolor": "white",
           "ticks": "",
           "title": {
            "standoff": 15
           },
           "zerolinecolor": "white",
           "automargin": true,
           "zerolinewidth": 2
          },
          "scene": {
           "xaxis": {
            "backgroundcolor": "#E5ECF6",
            "gridcolor": "white",
            "linecolor": "white",
            "showbackground": true,
            "ticks": "",
            "zerolinecolor": "white",
            "gridwidth": 2
           },
           "yaxis": {
            "backgroundcolor": "#E5ECF6",
            "gridcolor": "white",
            "linecolor": "white",
            "showbackground": true,
            "ticks": "",
            "zerolinecolor": "white",
            "gridwidth": 2
           },
           "zaxis": {
            "backgroundcolor": "#E5ECF6",
            "gridcolor": "white",
            "linecolor": "white",
            "showbackground": true,
            "ticks": "",
            "zerolinecolor": "white",
            "gridwidth": 2
           }
          },
          "shapedefaults": {
           "line": {
            "color": "#2a3f5f"
           }
          },
          "annotationdefaults": {
           "arrowcolor": "#2a3f5f",
           "arrowhead": 0,
           "arrowwidth": 1
          },
          "geo": {
           "bgcolor": "white",
           "landcolor": "#E5ECF6",
           "subunitcolor": "white",
           "showland": true,
           "showlakes": true,
           "lakecolor": "white"
          },
          "title": {
           "x": 0.05
          },
          "mapbox": {
           "style": "light"
          }
         }
        }
       },
       "config": {
        "plotlyServerURL": "https://plot.ly"
       }
      }
     },
     "metadata": {},
     "output_type": "display_data"
    }
   ],
   "source": [
    "label_stats.plot_label_counts_by_labeller()"
   ],
   "metadata": {
    "collapsed": false,
    "pycharm": {
     "name": "#%%\n"
    }
   }
  },
  {
   "cell_type": "code",
   "execution_count": 255,
   "outputs": [
    {
     "data": {
      "application/vnd.plotly.v1+json": {
       "data": [
        {
         "text": [
          [
           66,
           58,
           14,
           29,
           24,
           68,
           52
          ],
          [
           41,
           35,
           10,
           19,
           22,
           52,
           39
          ],
          [
           31,
           23,
           8,
           6,
           4,
           33,
           30
          ],
          [
           43,
           42,
           15,
           9,
           3,
           48,
           45
          ],
          [
           0,
           0,
           2,
           0,
           0,
           2,
           1
          ],
          [
           47,
           42,
           16,
           22,
           28,
           64,
           41
          ],
          [
           6,
           0,
           3,
           6,
           1,
           14,
           15
          ],
          [
           20,
           39,
           26,
           16,
           18,
           46,
           32
          ],
          [
           3,
           3,
           2,
           2,
           1,
           4,
           4
          ],
          [
           1,
           0,
           1,
           1,
           0,
           3,
           3
          ],
          [
           32,
           34,
           26,
           24,
           10,
           34,
           0
          ],
          [
           6,
           23,
           6,
           8,
           1,
           23,
           14
          ],
          [
           4,
           2,
           0,
           1,
           0,
           7,
           0
          ],
          [
           124,
           126,
           40,
           131,
           77,
           182,
           77
          ]
         ],
         "texttemplate": "%{text:.2f}",
         "x": [
          "label_idea",
          "label_evaluation",
          "label_implementation",
          "label_modification",
          "label_improvement",
          "label_any_activity",
          "label_has_potential"
         ],
         "y": [
          "Jan P.",
          "Jan-Philipp (JP)",
          "Jonathan1.732",
          "Larilu",
          "Phoebetan310@gmail.com",
          "anna+philipp",
          "cmcuza@gmail.com",
          "elisagleu@gmail.com",
          "f.hetyei@yahoo.de",
          "mr.kiborg468@mail.ru",
          "palubdiana@gmail.com",
          "petrol39blackberry0",
          "phoebetan310@gmail.com",
          "xwegner_lgh@outlook.de"
         ],
         "z": [
          [
           66,
           58,
           14,
           29,
           24,
           68,
           52
          ],
          [
           41,
           35,
           10,
           19,
           22,
           52,
           39
          ],
          [
           31,
           23,
           8,
           6,
           4,
           33,
           30
          ],
          [
           43,
           42,
           15,
           9,
           3,
           48,
           45
          ],
          [
           0,
           0,
           2,
           0,
           0,
           2,
           1
          ],
          [
           47,
           42,
           16,
           22,
           28,
           64,
           41
          ],
          [
           6,
           0,
           3,
           6,
           1,
           14,
           15
          ],
          [
           20,
           39,
           26,
           16,
           18,
           46,
           32
          ],
          [
           3,
           3,
           2,
           2,
           1,
           4,
           4
          ],
          [
           1,
           0,
           1,
           1,
           0,
           3,
           3
          ],
          [
           32,
           34,
           26,
           24,
           10,
           34,
           0
          ],
          [
           6,
           23,
           6,
           8,
           1,
           23,
           14
          ],
          [
           4,
           2,
           0,
           1,
           0,
           7,
           0
          ],
          [
           124,
           126,
           40,
           131,
           77,
           182,
           77
          ]
         ],
         "type": "heatmap"
        }
       ],
       "layout": {
        "template": {
         "data": {
          "histogram2dcontour": [
           {
            "type": "histogram2dcontour",
            "colorbar": {
             "outlinewidth": 0,
             "ticks": ""
            },
            "colorscale": [
             [
              0.0,
              "#0d0887"
             ],
             [
              0.1111111111111111,
              "#46039f"
             ],
             [
              0.2222222222222222,
              "#7201a8"
             ],
             [
              0.3333333333333333,
              "#9c179e"
             ],
             [
              0.4444444444444444,
              "#bd3786"
             ],
             [
              0.5555555555555556,
              "#d8576b"
             ],
             [
              0.6666666666666666,
              "#ed7953"
             ],
             [
              0.7777777777777778,
              "#fb9f3a"
             ],
             [
              0.8888888888888888,
              "#fdca26"
             ],
             [
              1.0,
              "#f0f921"
             ]
            ]
           }
          ],
          "choropleth": [
           {
            "type": "choropleth",
            "colorbar": {
             "outlinewidth": 0,
             "ticks": ""
            }
           }
          ],
          "histogram2d": [
           {
            "type": "histogram2d",
            "colorbar": {
             "outlinewidth": 0,
             "ticks": ""
            },
            "colorscale": [
             [
              0.0,
              "#0d0887"
             ],
             [
              0.1111111111111111,
              "#46039f"
             ],
             [
              0.2222222222222222,
              "#7201a8"
             ],
             [
              0.3333333333333333,
              "#9c179e"
             ],
             [
              0.4444444444444444,
              "#bd3786"
             ],
             [
              0.5555555555555556,
              "#d8576b"
             ],
             [
              0.6666666666666666,
              "#ed7953"
             ],
             [
              0.7777777777777778,
              "#fb9f3a"
             ],
             [
              0.8888888888888888,
              "#fdca26"
             ],
             [
              1.0,
              "#f0f921"
             ]
            ]
           }
          ],
          "heatmap": [
           {
            "type": "heatmap",
            "colorbar": {
             "outlinewidth": 0,
             "ticks": ""
            },
            "colorscale": [
             [
              0.0,
              "#0d0887"
             ],
             [
              0.1111111111111111,
              "#46039f"
             ],
             [
              0.2222222222222222,
              "#7201a8"
             ],
             [
              0.3333333333333333,
              "#9c179e"
             ],
             [
              0.4444444444444444,
              "#bd3786"
             ],
             [
              0.5555555555555556,
              "#d8576b"
             ],
             [
              0.6666666666666666,
              "#ed7953"
             ],
             [
              0.7777777777777778,
              "#fb9f3a"
             ],
             [
              0.8888888888888888,
              "#fdca26"
             ],
             [
              1.0,
              "#f0f921"
             ]
            ]
           }
          ],
          "heatmapgl": [
           {
            "type": "heatmapgl",
            "colorbar": {
             "outlinewidth": 0,
             "ticks": ""
            },
            "colorscale": [
             [
              0.0,
              "#0d0887"
             ],
             [
              0.1111111111111111,
              "#46039f"
             ],
             [
              0.2222222222222222,
              "#7201a8"
             ],
             [
              0.3333333333333333,
              "#9c179e"
             ],
             [
              0.4444444444444444,
              "#bd3786"
             ],
             [
              0.5555555555555556,
              "#d8576b"
             ],
             [
              0.6666666666666666,
              "#ed7953"
             ],
             [
              0.7777777777777778,
              "#fb9f3a"
             ],
             [
              0.8888888888888888,
              "#fdca26"
             ],
             [
              1.0,
              "#f0f921"
             ]
            ]
           }
          ],
          "contourcarpet": [
           {
            "type": "contourcarpet",
            "colorbar": {
             "outlinewidth": 0,
             "ticks": ""
            }
           }
          ],
          "contour": [
           {
            "type": "contour",
            "colorbar": {
             "outlinewidth": 0,
             "ticks": ""
            },
            "colorscale": [
             [
              0.0,
              "#0d0887"
             ],
             [
              0.1111111111111111,
              "#46039f"
             ],
             [
              0.2222222222222222,
              "#7201a8"
             ],
             [
              0.3333333333333333,
              "#9c179e"
             ],
             [
              0.4444444444444444,
              "#bd3786"
             ],
             [
              0.5555555555555556,
              "#d8576b"
             ],
             [
              0.6666666666666666,
              "#ed7953"
             ],
             [
              0.7777777777777778,
              "#fb9f3a"
             ],
             [
              0.8888888888888888,
              "#fdca26"
             ],
             [
              1.0,
              "#f0f921"
             ]
            ]
           }
          ],
          "surface": [
           {
            "type": "surface",
            "colorbar": {
             "outlinewidth": 0,
             "ticks": ""
            },
            "colorscale": [
             [
              0.0,
              "#0d0887"
             ],
             [
              0.1111111111111111,
              "#46039f"
             ],
             [
              0.2222222222222222,
              "#7201a8"
             ],
             [
              0.3333333333333333,
              "#9c179e"
             ],
             [
              0.4444444444444444,
              "#bd3786"
             ],
             [
              0.5555555555555556,
              "#d8576b"
             ],
             [
              0.6666666666666666,
              "#ed7953"
             ],
             [
              0.7777777777777778,
              "#fb9f3a"
             ],
             [
              0.8888888888888888,
              "#fdca26"
             ],
             [
              1.0,
              "#f0f921"
             ]
            ]
           }
          ],
          "mesh3d": [
           {
            "type": "mesh3d",
            "colorbar": {
             "outlinewidth": 0,
             "ticks": ""
            }
           }
          ],
          "scatter": [
           {
            "fillpattern": {
             "fillmode": "overlay",
             "size": 10,
             "solidity": 0.2
            },
            "type": "scatter"
           }
          ],
          "parcoords": [
           {
            "type": "parcoords",
            "line": {
             "colorbar": {
              "outlinewidth": 0,
              "ticks": ""
             }
            }
           }
          ],
          "scatterpolargl": [
           {
            "type": "scatterpolargl",
            "marker": {
             "colorbar": {
              "outlinewidth": 0,
              "ticks": ""
             }
            }
           }
          ],
          "bar": [
           {
            "error_x": {
             "color": "#2a3f5f"
            },
            "error_y": {
             "color": "#2a3f5f"
            },
            "marker": {
             "line": {
              "color": "#E5ECF6",
              "width": 0.5
             },
             "pattern": {
              "fillmode": "overlay",
              "size": 10,
              "solidity": 0.2
             }
            },
            "type": "bar"
           }
          ],
          "scattergeo": [
           {
            "type": "scattergeo",
            "marker": {
             "colorbar": {
              "outlinewidth": 0,
              "ticks": ""
             }
            }
           }
          ],
          "scatterpolar": [
           {
            "type": "scatterpolar",
            "marker": {
             "colorbar": {
              "outlinewidth": 0,
              "ticks": ""
             }
            }
           }
          ],
          "histogram": [
           {
            "marker": {
             "pattern": {
              "fillmode": "overlay",
              "size": 10,
              "solidity": 0.2
             }
            },
            "type": "histogram"
           }
          ],
          "scattergl": [
           {
            "type": "scattergl",
            "marker": {
             "colorbar": {
              "outlinewidth": 0,
              "ticks": ""
             }
            }
           }
          ],
          "scatter3d": [
           {
            "type": "scatter3d",
            "line": {
             "colorbar": {
              "outlinewidth": 0,
              "ticks": ""
             }
            },
            "marker": {
             "colorbar": {
              "outlinewidth": 0,
              "ticks": ""
             }
            }
           }
          ],
          "scattermapbox": [
           {
            "type": "scattermapbox",
            "marker": {
             "colorbar": {
              "outlinewidth": 0,
              "ticks": ""
             }
            }
           }
          ],
          "scatterternary": [
           {
            "type": "scatterternary",
            "marker": {
             "colorbar": {
              "outlinewidth": 0,
              "ticks": ""
             }
            }
           }
          ],
          "scattercarpet": [
           {
            "type": "scattercarpet",
            "marker": {
             "colorbar": {
              "outlinewidth": 0,
              "ticks": ""
             }
            }
           }
          ],
          "carpet": [
           {
            "aaxis": {
             "endlinecolor": "#2a3f5f",
             "gridcolor": "white",
             "linecolor": "white",
             "minorgridcolor": "white",
             "startlinecolor": "#2a3f5f"
            },
            "baxis": {
             "endlinecolor": "#2a3f5f",
             "gridcolor": "white",
             "linecolor": "white",
             "minorgridcolor": "white",
             "startlinecolor": "#2a3f5f"
            },
            "type": "carpet"
           }
          ],
          "table": [
           {
            "cells": {
             "fill": {
              "color": "#EBF0F8"
             },
             "line": {
              "color": "white"
             }
            },
            "header": {
             "fill": {
              "color": "#C8D4E3"
             },
             "line": {
              "color": "white"
             }
            },
            "type": "table"
           }
          ],
          "barpolar": [
           {
            "marker": {
             "line": {
              "color": "#E5ECF6",
              "width": 0.5
             },
             "pattern": {
              "fillmode": "overlay",
              "size": 10,
              "solidity": 0.2
             }
            },
            "type": "barpolar"
           }
          ],
          "pie": [
           {
            "automargin": true,
            "type": "pie"
           }
          ]
         },
         "layout": {
          "autotypenumbers": "strict",
          "colorway": [
           "#636efa",
           "#EF553B",
           "#00cc96",
           "#ab63fa",
           "#FFA15A",
           "#19d3f3",
           "#FF6692",
           "#B6E880",
           "#FF97FF",
           "#FECB52"
          ],
          "font": {
           "color": "#2a3f5f"
          },
          "hovermode": "closest",
          "hoverlabel": {
           "align": "left"
          },
          "paper_bgcolor": "white",
          "plot_bgcolor": "#E5ECF6",
          "polar": {
           "bgcolor": "#E5ECF6",
           "angularaxis": {
            "gridcolor": "white",
            "linecolor": "white",
            "ticks": ""
           },
           "radialaxis": {
            "gridcolor": "white",
            "linecolor": "white",
            "ticks": ""
           }
          },
          "ternary": {
           "bgcolor": "#E5ECF6",
           "aaxis": {
            "gridcolor": "white",
            "linecolor": "white",
            "ticks": ""
           },
           "baxis": {
            "gridcolor": "white",
            "linecolor": "white",
            "ticks": ""
           },
           "caxis": {
            "gridcolor": "white",
            "linecolor": "white",
            "ticks": ""
           }
          },
          "coloraxis": {
           "colorbar": {
            "outlinewidth": 0,
            "ticks": ""
           }
          },
          "colorscale": {
           "sequential": [
            [
             0.0,
             "#0d0887"
            ],
            [
             0.1111111111111111,
             "#46039f"
            ],
            [
             0.2222222222222222,
             "#7201a8"
            ],
            [
             0.3333333333333333,
             "#9c179e"
            ],
            [
             0.4444444444444444,
             "#bd3786"
            ],
            [
             0.5555555555555556,
             "#d8576b"
            ],
            [
             0.6666666666666666,
             "#ed7953"
            ],
            [
             0.7777777777777778,
             "#fb9f3a"
            ],
            [
             0.8888888888888888,
             "#fdca26"
            ],
            [
             1.0,
             "#f0f921"
            ]
           ],
           "sequentialminus": [
            [
             0.0,
             "#0d0887"
            ],
            [
             0.1111111111111111,
             "#46039f"
            ],
            [
             0.2222222222222222,
             "#7201a8"
            ],
            [
             0.3333333333333333,
             "#9c179e"
            ],
            [
             0.4444444444444444,
             "#bd3786"
            ],
            [
             0.5555555555555556,
             "#d8576b"
            ],
            [
             0.6666666666666666,
             "#ed7953"
            ],
            [
             0.7777777777777778,
             "#fb9f3a"
            ],
            [
             0.8888888888888888,
             "#fdca26"
            ],
            [
             1.0,
             "#f0f921"
            ]
           ],
           "diverging": [
            [
             0,
             "#8e0152"
            ],
            [
             0.1,
             "#c51b7d"
            ],
            [
             0.2,
             "#de77ae"
            ],
            [
             0.3,
             "#f1b6da"
            ],
            [
             0.4,
             "#fde0ef"
            ],
            [
             0.5,
             "#f7f7f7"
            ],
            [
             0.6,
             "#e6f5d0"
            ],
            [
             0.7,
             "#b8e186"
            ],
            [
             0.8,
             "#7fbc41"
            ],
            [
             0.9,
             "#4d9221"
            ],
            [
             1,
             "#276419"
            ]
           ]
          },
          "xaxis": {
           "gridcolor": "white",
           "linecolor": "white",
           "ticks": "",
           "title": {
            "standoff": 15
           },
           "zerolinecolor": "white",
           "automargin": true,
           "zerolinewidth": 2
          },
          "yaxis": {
           "gridcolor": "white",
           "linecolor": "white",
           "ticks": "",
           "title": {
            "standoff": 15
           },
           "zerolinecolor": "white",
           "automargin": true,
           "zerolinewidth": 2
          },
          "scene": {
           "xaxis": {
            "backgroundcolor": "#E5ECF6",
            "gridcolor": "white",
            "linecolor": "white",
            "showbackground": true,
            "ticks": "",
            "zerolinecolor": "white",
            "gridwidth": 2
           },
           "yaxis": {
            "backgroundcolor": "#E5ECF6",
            "gridcolor": "white",
            "linecolor": "white",
            "showbackground": true,
            "ticks": "",
            "zerolinecolor": "white",
            "gridwidth": 2
           },
           "zaxis": {
            "backgroundcolor": "#E5ECF6",
            "gridcolor": "white",
            "linecolor": "white",
            "showbackground": true,
            "ticks": "",
            "zerolinecolor": "white",
            "gridwidth": 2
           }
          },
          "shapedefaults": {
           "line": {
            "color": "#2a3f5f"
           }
          },
          "annotationdefaults": {
           "arrowcolor": "#2a3f5f",
           "arrowhead": 0,
           "arrowwidth": 1
          },
          "geo": {
           "bgcolor": "white",
           "landcolor": "#E5ECF6",
           "subunitcolor": "white",
           "showland": true,
           "showlakes": true,
           "lakecolor": "white"
          },
          "title": {
           "x": 0.05
          },
          "mapbox": {
           "style": "light"
          }
         }
        }
       },
       "config": {
        "plotlyServerURL": "https://plot.ly"
       }
      }
     },
     "metadata": {},
     "output_type": "display_data"
    }
   ],
   "source": [
    "label_stats.plot_label_counts_by_labeller(normalize=False)"
   ],
   "metadata": {
    "collapsed": false,
    "pycharm": {
     "name": "#%%\n"
    }
   }
  },
  {
   "cell_type": "code",
   "execution_count": 256,
   "outputs": [
    {
     "data": {
      "text/plain": "                      % complete agreement  base n  Cohen kappa  Fleiss kappa  \\\nlabel_idea                        0.653846   130.0          NaN           NaN   \nlabel_evaluation                  0.615385   130.0          NaN           NaN   \nlabel_implementation              0.646154   130.0          NaN           NaN   \nlabel_modification                0.630769   130.0          NaN           NaN   \nlabel_improvement                 0.661538   130.0          NaN           NaN   \nlabel_potential                   0.641026   117.0          NaN           NaN   \nlabel_any_activity                0.607692   130.0          NaN           NaN   \nlabel_has_potential               0.638462   130.0          NaN           NaN   \n\n                      Krippendorff alpha  \nlabel_idea                      0.473653  \nlabel_evaluation                0.422587  \nlabel_implementation            0.187391  \nlabel_modification              0.323281  \nlabel_improvement               0.289965  \nlabel_potential                 0.637885  \nlabel_any_activity              0.399940  \nlabel_has_potential             0.427715  ",
      "text/html": "<div>\n<style scoped>\n    .dataframe tbody tr th:only-of-type {\n        vertical-align: middle;\n    }\n\n    .dataframe tbody tr th {\n        vertical-align: top;\n    }\n\n    .dataframe thead th {\n        text-align: right;\n    }\n</style>\n<table border=\"1\" class=\"dataframe\">\n  <thead>\n    <tr style=\"text-align: right;\">\n      <th></th>\n      <th>% complete agreement</th>\n      <th>base n</th>\n      <th>Cohen kappa</th>\n      <th>Fleiss kappa</th>\n      <th>Krippendorff alpha</th>\n    </tr>\n  </thead>\n  <tbody>\n    <tr>\n      <th>label_idea</th>\n      <td>0.653846</td>\n      <td>130.0</td>\n      <td>NaN</td>\n      <td>NaN</td>\n      <td>0.473653</td>\n    </tr>\n    <tr>\n      <th>label_evaluation</th>\n      <td>0.615385</td>\n      <td>130.0</td>\n      <td>NaN</td>\n      <td>NaN</td>\n      <td>0.422587</td>\n    </tr>\n    <tr>\n      <th>label_implementation</th>\n      <td>0.646154</td>\n      <td>130.0</td>\n      <td>NaN</td>\n      <td>NaN</td>\n      <td>0.187391</td>\n    </tr>\n    <tr>\n      <th>label_modification</th>\n      <td>0.630769</td>\n      <td>130.0</td>\n      <td>NaN</td>\n      <td>NaN</td>\n      <td>0.323281</td>\n    </tr>\n    <tr>\n      <th>label_improvement</th>\n      <td>0.661538</td>\n      <td>130.0</td>\n      <td>NaN</td>\n      <td>NaN</td>\n      <td>0.289965</td>\n    </tr>\n    <tr>\n      <th>label_potential</th>\n      <td>0.641026</td>\n      <td>117.0</td>\n      <td>NaN</td>\n      <td>NaN</td>\n      <td>0.637885</td>\n    </tr>\n    <tr>\n      <th>label_any_activity</th>\n      <td>0.607692</td>\n      <td>130.0</td>\n      <td>NaN</td>\n      <td>NaN</td>\n      <td>0.399940</td>\n    </tr>\n    <tr>\n      <th>label_has_potential</th>\n      <td>0.638462</td>\n      <td>130.0</td>\n      <td>NaN</td>\n      <td>NaN</td>\n      <td>0.427715</td>\n    </tr>\n  </tbody>\n</table>\n</div>"
     },
     "execution_count": 256,
     "metadata": {},
     "output_type": "execute_result"
    }
   ],
   "source": [
    "label_stats.interrater_agreement()"
   ],
   "metadata": {
    "collapsed": false,
    "pycharm": {
     "name": "#%%\n"
    }
   }
  },
  {
   "cell_type": "code",
   "execution_count": 257,
   "outputs": [
    {
     "data": {
      "application/vnd.plotly.v1+json": {
       "data": [
        {
         "alignmentgroup": "True",
         "hovertemplate": "variable=% complete agreement<br>index=%{x}<br>value=%{y}<extra></extra>",
         "legendgroup": "% complete agreement",
         "marker": {
          "color": "#636efa",
          "pattern": {
           "shape": ""
          }
         },
         "name": "% complete agreement",
         "offsetgroup": "% complete agreement",
         "orientation": "v",
         "showlegend": true,
         "textposition": "auto",
         "x": [
          "label_idea",
          "label_evaluation",
          "label_implementation",
          "label_modification",
          "label_improvement",
          "label_potential",
          "label_any_activity",
          "label_has_potential"
         ],
         "xaxis": "x",
         "y": [
          0.6538461538461539,
          0.6153846153846154,
          0.6461538461538462,
          0.6307692307692307,
          0.6615384615384615,
          0.6410256410256411,
          0.6076923076923076,
          0.6384615384615384
         ],
         "yaxis": "y",
         "type": "bar"
        },
        {
         "alignmentgroup": "True",
         "hovertemplate": "variable=base n<br>index=%{x}<br>value=%{y}<extra></extra>",
         "legendgroup": "base n",
         "marker": {
          "color": "#EF553B",
          "pattern": {
           "shape": ""
          }
         },
         "name": "base n",
         "offsetgroup": "base n",
         "orientation": "v",
         "showlegend": true,
         "textposition": "auto",
         "x": [
          "label_idea",
          "label_evaluation",
          "label_implementation",
          "label_modification",
          "label_improvement",
          "label_potential",
          "label_any_activity",
          "label_has_potential"
         ],
         "xaxis": "x",
         "y": [
          130.0,
          130.0,
          130.0,
          130.0,
          130.0,
          117.0,
          130.0,
          130.0
         ],
         "yaxis": "y",
         "type": "bar"
        },
        {
         "alignmentgroup": "True",
         "hovertemplate": "variable=Cohen kappa<br>index=%{x}<br>value=%{y}<extra></extra>",
         "legendgroup": "Cohen kappa",
         "marker": {
          "color": "#00cc96",
          "pattern": {
           "shape": ""
          }
         },
         "name": "Cohen kappa",
         "offsetgroup": "Cohen kappa",
         "orientation": "v",
         "showlegend": true,
         "textposition": "auto",
         "x": [
          "label_idea",
          "label_evaluation",
          "label_implementation",
          "label_modification",
          "label_improvement",
          "label_potential",
          "label_any_activity",
          "label_has_potential"
         ],
         "xaxis": "x",
         "y": [
          null,
          null,
          null,
          null,
          null,
          null,
          null,
          null
         ],
         "yaxis": "y",
         "type": "bar"
        },
        {
         "alignmentgroup": "True",
         "hovertemplate": "variable=Fleiss kappa<br>index=%{x}<br>value=%{y}<extra></extra>",
         "legendgroup": "Fleiss kappa",
         "marker": {
          "color": "#ab63fa",
          "pattern": {
           "shape": ""
          }
         },
         "name": "Fleiss kappa",
         "offsetgroup": "Fleiss kappa",
         "orientation": "v",
         "showlegend": true,
         "textposition": "auto",
         "x": [
          "label_idea",
          "label_evaluation",
          "label_implementation",
          "label_modification",
          "label_improvement",
          "label_potential",
          "label_any_activity",
          "label_has_potential"
         ],
         "xaxis": "x",
         "y": [
          null,
          null,
          null,
          null,
          null,
          null,
          null,
          null
         ],
         "yaxis": "y",
         "type": "bar"
        },
        {
         "alignmentgroup": "True",
         "hovertemplate": "variable=Krippendorff alpha<br>index=%{x}<br>value=%{y}<extra></extra>",
         "legendgroup": "Krippendorff alpha",
         "marker": {
          "color": "#FFA15A",
          "pattern": {
           "shape": ""
          }
         },
         "name": "Krippendorff alpha",
         "offsetgroup": "Krippendorff alpha",
         "orientation": "v",
         "showlegend": true,
         "textposition": "auto",
         "x": [
          "label_idea",
          "label_evaluation",
          "label_implementation",
          "label_modification",
          "label_improvement",
          "label_potential",
          "label_any_activity",
          "label_has_potential"
         ],
         "xaxis": "x",
         "y": [
          0.47365319865319866,
          0.4225869809203143,
          0.18739101274312553,
          0.32328050314465395,
          0.2899652388750036,
          0.63788501667199,
          0.3999395039322444,
          0.42771467330782154
         ],
         "yaxis": "y",
         "type": "bar"
        }
       ],
       "layout": {
        "template": {
         "data": {
          "histogram2dcontour": [
           {
            "type": "histogram2dcontour",
            "colorbar": {
             "outlinewidth": 0,
             "ticks": ""
            },
            "colorscale": [
             [
              0.0,
              "#0d0887"
             ],
             [
              0.1111111111111111,
              "#46039f"
             ],
             [
              0.2222222222222222,
              "#7201a8"
             ],
             [
              0.3333333333333333,
              "#9c179e"
             ],
             [
              0.4444444444444444,
              "#bd3786"
             ],
             [
              0.5555555555555556,
              "#d8576b"
             ],
             [
              0.6666666666666666,
              "#ed7953"
             ],
             [
              0.7777777777777778,
              "#fb9f3a"
             ],
             [
              0.8888888888888888,
              "#fdca26"
             ],
             [
              1.0,
              "#f0f921"
             ]
            ]
           }
          ],
          "choropleth": [
           {
            "type": "choropleth",
            "colorbar": {
             "outlinewidth": 0,
             "ticks": ""
            }
           }
          ],
          "histogram2d": [
           {
            "type": "histogram2d",
            "colorbar": {
             "outlinewidth": 0,
             "ticks": ""
            },
            "colorscale": [
             [
              0.0,
              "#0d0887"
             ],
             [
              0.1111111111111111,
              "#46039f"
             ],
             [
              0.2222222222222222,
              "#7201a8"
             ],
             [
              0.3333333333333333,
              "#9c179e"
             ],
             [
              0.4444444444444444,
              "#bd3786"
             ],
             [
              0.5555555555555556,
              "#d8576b"
             ],
             [
              0.6666666666666666,
              "#ed7953"
             ],
             [
              0.7777777777777778,
              "#fb9f3a"
             ],
             [
              0.8888888888888888,
              "#fdca26"
             ],
             [
              1.0,
              "#f0f921"
             ]
            ]
           }
          ],
          "heatmap": [
           {
            "type": "heatmap",
            "colorbar": {
             "outlinewidth": 0,
             "ticks": ""
            },
            "colorscale": [
             [
              0.0,
              "#0d0887"
             ],
             [
              0.1111111111111111,
              "#46039f"
             ],
             [
              0.2222222222222222,
              "#7201a8"
             ],
             [
              0.3333333333333333,
              "#9c179e"
             ],
             [
              0.4444444444444444,
              "#bd3786"
             ],
             [
              0.5555555555555556,
              "#d8576b"
             ],
             [
              0.6666666666666666,
              "#ed7953"
             ],
             [
              0.7777777777777778,
              "#fb9f3a"
             ],
             [
              0.8888888888888888,
              "#fdca26"
             ],
             [
              1.0,
              "#f0f921"
             ]
            ]
           }
          ],
          "heatmapgl": [
           {
            "type": "heatmapgl",
            "colorbar": {
             "outlinewidth": 0,
             "ticks": ""
            },
            "colorscale": [
             [
              0.0,
              "#0d0887"
             ],
             [
              0.1111111111111111,
              "#46039f"
             ],
             [
              0.2222222222222222,
              "#7201a8"
             ],
             [
              0.3333333333333333,
              "#9c179e"
             ],
             [
              0.4444444444444444,
              "#bd3786"
             ],
             [
              0.5555555555555556,
              "#d8576b"
             ],
             [
              0.6666666666666666,
              "#ed7953"
             ],
             [
              0.7777777777777778,
              "#fb9f3a"
             ],
             [
              0.8888888888888888,
              "#fdca26"
             ],
             [
              1.0,
              "#f0f921"
             ]
            ]
           }
          ],
          "contourcarpet": [
           {
            "type": "contourcarpet",
            "colorbar": {
             "outlinewidth": 0,
             "ticks": ""
            }
           }
          ],
          "contour": [
           {
            "type": "contour",
            "colorbar": {
             "outlinewidth": 0,
             "ticks": ""
            },
            "colorscale": [
             [
              0.0,
              "#0d0887"
             ],
             [
              0.1111111111111111,
              "#46039f"
             ],
             [
              0.2222222222222222,
              "#7201a8"
             ],
             [
              0.3333333333333333,
              "#9c179e"
             ],
             [
              0.4444444444444444,
              "#bd3786"
             ],
             [
              0.5555555555555556,
              "#d8576b"
             ],
             [
              0.6666666666666666,
              "#ed7953"
             ],
             [
              0.7777777777777778,
              "#fb9f3a"
             ],
             [
              0.8888888888888888,
              "#fdca26"
             ],
             [
              1.0,
              "#f0f921"
             ]
            ]
           }
          ],
          "surface": [
           {
            "type": "surface",
            "colorbar": {
             "outlinewidth": 0,
             "ticks": ""
            },
            "colorscale": [
             [
              0.0,
              "#0d0887"
             ],
             [
              0.1111111111111111,
              "#46039f"
             ],
             [
              0.2222222222222222,
              "#7201a8"
             ],
             [
              0.3333333333333333,
              "#9c179e"
             ],
             [
              0.4444444444444444,
              "#bd3786"
             ],
             [
              0.5555555555555556,
              "#d8576b"
             ],
             [
              0.6666666666666666,
              "#ed7953"
             ],
             [
              0.7777777777777778,
              "#fb9f3a"
             ],
             [
              0.8888888888888888,
              "#fdca26"
             ],
             [
              1.0,
              "#f0f921"
             ]
            ]
           }
          ],
          "mesh3d": [
           {
            "type": "mesh3d",
            "colorbar": {
             "outlinewidth": 0,
             "ticks": ""
            }
           }
          ],
          "scatter": [
           {
            "fillpattern": {
             "fillmode": "overlay",
             "size": 10,
             "solidity": 0.2
            },
            "type": "scatter"
           }
          ],
          "parcoords": [
           {
            "type": "parcoords",
            "line": {
             "colorbar": {
              "outlinewidth": 0,
              "ticks": ""
             }
            }
           }
          ],
          "scatterpolargl": [
           {
            "type": "scatterpolargl",
            "marker": {
             "colorbar": {
              "outlinewidth": 0,
              "ticks": ""
             }
            }
           }
          ],
          "bar": [
           {
            "error_x": {
             "color": "#2a3f5f"
            },
            "error_y": {
             "color": "#2a3f5f"
            },
            "marker": {
             "line": {
              "color": "#E5ECF6",
              "width": 0.5
             },
             "pattern": {
              "fillmode": "overlay",
              "size": 10,
              "solidity": 0.2
             }
            },
            "type": "bar"
           }
          ],
          "scattergeo": [
           {
            "type": "scattergeo",
            "marker": {
             "colorbar": {
              "outlinewidth": 0,
              "ticks": ""
             }
            }
           }
          ],
          "scatterpolar": [
           {
            "type": "scatterpolar",
            "marker": {
             "colorbar": {
              "outlinewidth": 0,
              "ticks": ""
             }
            }
           }
          ],
          "histogram": [
           {
            "marker": {
             "pattern": {
              "fillmode": "overlay",
              "size": 10,
              "solidity": 0.2
             }
            },
            "type": "histogram"
           }
          ],
          "scattergl": [
           {
            "type": "scattergl",
            "marker": {
             "colorbar": {
              "outlinewidth": 0,
              "ticks": ""
             }
            }
           }
          ],
          "scatter3d": [
           {
            "type": "scatter3d",
            "line": {
             "colorbar": {
              "outlinewidth": 0,
              "ticks": ""
             }
            },
            "marker": {
             "colorbar": {
              "outlinewidth": 0,
              "ticks": ""
             }
            }
           }
          ],
          "scattermapbox": [
           {
            "type": "scattermapbox",
            "marker": {
             "colorbar": {
              "outlinewidth": 0,
              "ticks": ""
             }
            }
           }
          ],
          "scatterternary": [
           {
            "type": "scatterternary",
            "marker": {
             "colorbar": {
              "outlinewidth": 0,
              "ticks": ""
             }
            }
           }
          ],
          "scattercarpet": [
           {
            "type": "scattercarpet",
            "marker": {
             "colorbar": {
              "outlinewidth": 0,
              "ticks": ""
             }
            }
           }
          ],
          "carpet": [
           {
            "aaxis": {
             "endlinecolor": "#2a3f5f",
             "gridcolor": "white",
             "linecolor": "white",
             "minorgridcolor": "white",
             "startlinecolor": "#2a3f5f"
            },
            "baxis": {
             "endlinecolor": "#2a3f5f",
             "gridcolor": "white",
             "linecolor": "white",
             "minorgridcolor": "white",
             "startlinecolor": "#2a3f5f"
            },
            "type": "carpet"
           }
          ],
          "table": [
           {
            "cells": {
             "fill": {
              "color": "#EBF0F8"
             },
             "line": {
              "color": "white"
             }
            },
            "header": {
             "fill": {
              "color": "#C8D4E3"
             },
             "line": {
              "color": "white"
             }
            },
            "type": "table"
           }
          ],
          "barpolar": [
           {
            "marker": {
             "line": {
              "color": "#E5ECF6",
              "width": 0.5
             },
             "pattern": {
              "fillmode": "overlay",
              "size": 10,
              "solidity": 0.2
             }
            },
            "type": "barpolar"
           }
          ],
          "pie": [
           {
            "automargin": true,
            "type": "pie"
           }
          ]
         },
         "layout": {
          "autotypenumbers": "strict",
          "colorway": [
           "#636efa",
           "#EF553B",
           "#00cc96",
           "#ab63fa",
           "#FFA15A",
           "#19d3f3",
           "#FF6692",
           "#B6E880",
           "#FF97FF",
           "#FECB52"
          ],
          "font": {
           "color": "#2a3f5f"
          },
          "hovermode": "closest",
          "hoverlabel": {
           "align": "left"
          },
          "paper_bgcolor": "white",
          "plot_bgcolor": "#E5ECF6",
          "polar": {
           "bgcolor": "#E5ECF6",
           "angularaxis": {
            "gridcolor": "white",
            "linecolor": "white",
            "ticks": ""
           },
           "radialaxis": {
            "gridcolor": "white",
            "linecolor": "white",
            "ticks": ""
           }
          },
          "ternary": {
           "bgcolor": "#E5ECF6",
           "aaxis": {
            "gridcolor": "white",
            "linecolor": "white",
            "ticks": ""
           },
           "baxis": {
            "gridcolor": "white",
            "linecolor": "white",
            "ticks": ""
           },
           "caxis": {
            "gridcolor": "white",
            "linecolor": "white",
            "ticks": ""
           }
          },
          "coloraxis": {
           "colorbar": {
            "outlinewidth": 0,
            "ticks": ""
           }
          },
          "colorscale": {
           "sequential": [
            [
             0.0,
             "#0d0887"
            ],
            [
             0.1111111111111111,
             "#46039f"
            ],
            [
             0.2222222222222222,
             "#7201a8"
            ],
            [
             0.3333333333333333,
             "#9c179e"
            ],
            [
             0.4444444444444444,
             "#bd3786"
            ],
            [
             0.5555555555555556,
             "#d8576b"
            ],
            [
             0.6666666666666666,
             "#ed7953"
            ],
            [
             0.7777777777777778,
             "#fb9f3a"
            ],
            [
             0.8888888888888888,
             "#fdca26"
            ],
            [
             1.0,
             "#f0f921"
            ]
           ],
           "sequentialminus": [
            [
             0.0,
             "#0d0887"
            ],
            [
             0.1111111111111111,
             "#46039f"
            ],
            [
             0.2222222222222222,
             "#7201a8"
            ],
            [
             0.3333333333333333,
             "#9c179e"
            ],
            [
             0.4444444444444444,
             "#bd3786"
            ],
            [
             0.5555555555555556,
             "#d8576b"
            ],
            [
             0.6666666666666666,
             "#ed7953"
            ],
            [
             0.7777777777777778,
             "#fb9f3a"
            ],
            [
             0.8888888888888888,
             "#fdca26"
            ],
            [
             1.0,
             "#f0f921"
            ]
           ],
           "diverging": [
            [
             0,
             "#8e0152"
            ],
            [
             0.1,
             "#c51b7d"
            ],
            [
             0.2,
             "#de77ae"
            ],
            [
             0.3,
             "#f1b6da"
            ],
            [
             0.4,
             "#fde0ef"
            ],
            [
             0.5,
             "#f7f7f7"
            ],
            [
             0.6,
             "#e6f5d0"
            ],
            [
             0.7,
             "#b8e186"
            ],
            [
             0.8,
             "#7fbc41"
            ],
            [
             0.9,
             "#4d9221"
            ],
            [
             1,
             "#276419"
            ]
           ]
          },
          "xaxis": {
           "gridcolor": "white",
           "linecolor": "white",
           "ticks": "",
           "title": {
            "standoff": 15
           },
           "zerolinecolor": "white",
           "automargin": true,
           "zerolinewidth": 2
          },
          "yaxis": {
           "gridcolor": "white",
           "linecolor": "white",
           "ticks": "",
           "title": {
            "standoff": 15
           },
           "zerolinecolor": "white",
           "automargin": true,
           "zerolinewidth": 2
          },
          "scene": {
           "xaxis": {
            "backgroundcolor": "#E5ECF6",
            "gridcolor": "white",
            "linecolor": "white",
            "showbackground": true,
            "ticks": "",
            "zerolinecolor": "white",
            "gridwidth": 2
           },
           "yaxis": {
            "backgroundcolor": "#E5ECF6",
            "gridcolor": "white",
            "linecolor": "white",
            "showbackground": true,
            "ticks": "",
            "zerolinecolor": "white",
            "gridwidth": 2
           },
           "zaxis": {
            "backgroundcolor": "#E5ECF6",
            "gridcolor": "white",
            "linecolor": "white",
            "showbackground": true,
            "ticks": "",
            "zerolinecolor": "white",
            "gridwidth": 2
           }
          },
          "shapedefaults": {
           "line": {
            "color": "#2a3f5f"
           }
          },
          "annotationdefaults": {
           "arrowcolor": "#2a3f5f",
           "arrowhead": 0,
           "arrowwidth": 1
          },
          "geo": {
           "bgcolor": "white",
           "landcolor": "#E5ECF6",
           "subunitcolor": "white",
           "showland": true,
           "showlakes": true,
           "lakecolor": "white"
          },
          "title": {
           "x": 0.05
          },
          "mapbox": {
           "style": "light"
          }
         }
        },
        "xaxis": {
         "anchor": "y",
         "domain": [
          0.0,
          1.0
         ],
         "title": {
          "text": "index"
         }
        },
        "yaxis": {
         "anchor": "x",
         "domain": [
          0.0,
          1.0
         ],
         "title": {
          "text": "value"
         }
        },
        "legend": {
         "title": {
          "text": "variable"
         },
         "tracegroupgap": 0
        },
        "margin": {
         "t": 60
        },
        "barmode": "group"
       },
       "config": {
        "plotlyServerURL": "https://plot.ly"
       }
      }
     },
     "metadata": {},
     "output_type": "display_data"
    }
   ],
   "source": [
    "label_stats.plot_interrater_agreement()"
   ],
   "metadata": {
    "collapsed": false,
    "pycharm": {
     "name": "#%%\n"
    }
   }
  },
  {
   "cell_type": "code",
   "execution_count": 268,
   "outputs": [],
   "source": [
    "goldstandard=\"anna+philipp\"\n",
    "agr = label_stats.pairwise_interrater_agreement(goldstandard=goldstandard, min_comparisons=1)"
   ],
   "metadata": {
    "collapsed": false,
    "pycharm": {
     "name": "#%%\n"
    }
   }
  },
  {
   "cell_type": "code",
   "execution_count": 269,
   "outputs": [
    {
     "data": {
      "text/plain": "<seaborn.axisgrid.FacetGrid at 0x1c730576f70>"
     },
     "execution_count": 269,
     "metadata": {},
     "output_type": "execute_result"
    },
    {
     "data": {
      "text/plain": "<Figure size 960.875x360 with 1 Axes>",
      "image/png": "[encoded data removed]"
     },
     "metadata": {},
     "output_type": "display_data"
    }
   ],
   "source": [
    "label_stats.plot_goldstandard_agreement(kind='label_boxplots', data=agr).set(\n",
    "    title=f\"Pairwise agreement with goldstandard ({goldstandard})\"\n",
    ")"
   ],
   "metadata": {
    "collapsed": false,
    "pycharm": {
     "name": "#%%\n"
    }
   }
  },
  {
   "cell_type": "code",
   "execution_count": 280,
   "outputs": [
    {
     "data": {
      "text/plain": "Text(0.5, 0.98, 'Agreement with goldstandard (anna+philipp)')"
     },
     "execution_count": 280,
     "metadata": {},
     "output_type": "execute_result"
    },
    {
     "data": {
      "text/plain": "<Figure size 1170.38x360 with 4 Axes>",
      "image/png": "[encoded data removed]"
     },
     "metadata": {},
     "output_type": "display_data"
    }
   ],
   "source": [
    "g = label_stats.plot_goldstandard_agreement(kind='labeller_points', data=agr)\n",
    "g.fig.subplots_adjust(\n",
    "    top=.85\n",
    ")\n",
    "g.fig.suptitle(\n",
    "    f\"Agreement with goldstandard ({goldstandard})\"\n",
    ")"
   ],
   "metadata": {
    "collapsed": false,
    "pycharm": {
     "name": "#%%\n"
    }
   }
  },
  {
   "cell_type": "code",
   "execution_count": 261,
   "outputs": [
    {
     "data": {
      "text/plain": "<Figure size 432x288 with 2 Axes>",
      "image/png": "[encoded data removed]"
     },
     "metadata": {},
     "output_type": "display_data"
    },
    {
     "data": {
      "text/plain": "<Figure size 720x576 with 3 Axes>",
      "image/png": "[encoded data removed]"
     },
     "metadata": {},
     "output_type": "display_data"
    }
   ],
   "source": [
    "feat_corr, label_loadings = label_stats.plot_latent_model(n_comps=3)"
   ],
   "metadata": {
    "collapsed": false,
    "pycharm": {
     "name": "#%%\n"
    }
   }
  }
 ],
 "metadata": {
  "kernelspec": {
   "display_name": "Python 3",
   "language": "python",
   "name": "python3"
  },
  "language_info": {
   "codemirror_mode": {
    "name": "ipython",
    "version": 2
   },
   "file_extension": ".py",
   "mimetype": "text/x-python",
   "name": "python",
   "nbconvert_exporter": "python",
   "pygments_lexer": "ipython2",
   "version": "2.7.6"
  }
 },
 "nbformat": 4,
 "nbformat_minor": 0
}