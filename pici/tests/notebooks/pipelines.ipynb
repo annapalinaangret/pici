{
 "cells": [
  {
   "cell_type": "code",
   "execution_count": 1,
   "outputs": [],
   "source": [
    "%reload_ext autoreload\n",
    "%autoreload 2"
   ],
   "metadata": {
    "collapsed": false,
    "pycharm": {
     "name": "#%%\n"
    }
   }
  },
  {
   "cell_type": "code",
   "execution_count": 18,
   "outputs": [],
   "source": [
    "from pici.pici import Pici\n",
    "from pici.communities.oem import OEMCommunityFactory\n",
    "from pici.communities.osm import OSMCommunityFactory\n",
    "from pici.communities.preciousplastic import PPCommunityFactory\n",
    "import pandas as pd\n",
    "\n",
    "from pici.labelling import InnovationLabels\n",
    "from pici.datatypes import CommunityDataLevel\n",
    "\n",
    "\n",
    "import plotly.express as ex\n",
    "from sklearn import set_config"
   ],
   "metadata": {
    "collapsed": false,
    "pycharm": {
     "name": "#%%\n"
    }
   }
  },
  {
   "cell_type": "code",
   "execution_count": 3,
   "outputs": [],
   "source": [
    "from IPython.display import display\n",
    "import seaborn as sns\n",
    "import matplotlib.pyplot as plt"
   ],
   "metadata": {
    "collapsed": false,
    "pycharm": {
     "name": "#%%\n"
    }
   }
  },
  {
   "cell_type": "code",
   "execution_count": 4,
   "outputs": [],
   "source": [
    "pd.options.plotting.backend = \"plotly\""
   ],
   "metadata": {
    "collapsed": false,
    "pycharm": {
     "name": "#%%\n"
    }
   }
  },
  {
   "cell_type": "code",
   "execution_count": 22,
   "outputs": [],
   "source": [
    "pici = Pici(\n",
    "    communities={\n",
    "        'OpenEnergyMonitor': OEMCommunityFactory,\n",
    "        'OpenStreetMap': OSMCommunityFactory,\n",
    "        'PreciousPlastic': PPCommunityFactory,\n",
    "    },\n",
    "    labels=[\n",
    "        InnovationLabels(\n",
    "            pd.read_excel(\"../test_integrated_labels.xlsx\")\n",
    "        ),\n",
    "        InnovationLabels().from_limesurvey(\n",
    "            pd.read_excel(\"../results-survey664322_2022-08-01.xlsx\"),\n",
    "            drop_labellers=[\"Test\",\"test\"]\n",
    "        )\n",
    "    ],\n",
    "    cache_dir='../../../cache',\n",
    "    start='2017-01-01',\n",
    "    end='2019-01-01',\n",
    "    cache_nrows=10000\n",
    ")"
   ],
   "metadata": {
    "collapsed": false,
    "pycharm": {
     "name": "#%%\n"
    }
   }
  },
  {
   "cell_type": "code",
   "execution_count": 8,
   "outputs": [],
   "source": [
    "set_config(display=\"diagram\")"
   ],
   "metadata": {
    "collapsed": false,
    "pycharm": {
     "name": "#%%\n"
    }
   }
  },
  {
   "cell_type": "code",
   "execution_count": 23,
   "outputs": [],
   "source": [
    "keep_args = {\n",
    "    'view': CommunityDataLevel.TOPICS,\n",
    "    'keep': []\n",
    "}\n",
    "\n",
    "pipe = pici.pipelines.topics().set_params(\n",
    "    community_features__PreciousPlastic__features__topics_features__keep_features__kw_args=keep_args,\n",
    "    community_features__OpenStreetMap__features__topics_features__keep_features__kw_args=keep_args,\n",
    "    community_features__OpenEnergyMonitor__features__topics_features__keep_features__kw_args=keep_args,\n",
    ")"
   ],
   "metadata": {
    "collapsed": false,
    "pycharm": {
     "name": "#%%\n"
    }
   }
  },
  {
   "cell_type": "code",
   "execution_count": 24,
   "outputs": [
    {
     "data": {
      "text/plain": "                                                                      number of posts  \\\ntopic_slug                                         community_name                       \n3-phase-whole-house-pv-and-heat-pump-monitoring... OpenEnergyMonitor               74   \n4-ct-emonbase-using-emontx-and-pi-zero-w           OpenEnergyMonitor               22   \na-howto-install-freeboard-with-mqtt-for-emontx-... OpenEnergyMonitor                2   \na-taste-of-things-to-come-uk-smart-meter-data-a... OpenEnergyMonitor               38   \nabout-split-core-cts-sct-013-family                OpenEnergyMonitor               18   \n...                                                                               ...   \nwhos-up-for-re-upcycling-in-munich-germany         PreciousPlastic                 32   \nworking-with-plastic-bags                          PreciousPlastic                 33   \nworldwide-community-updates                        PreciousPlastic                 21   \nzelenew-basket-extrusion-v4                        PreciousPlastic                  3   \nzero-waste-key-tag                                 PreciousPlastic                 20   \n\n                                                                      number of contributors  \\\ntopic_slug                                         community_name                              \n3-phase-whole-house-pv-and-heat-pump-monitoring... OpenEnergyMonitor                       5   \n4-ct-emonbase-using-emontx-and-pi-zero-w           OpenEnergyMonitor                       4   \na-howto-install-freeboard-with-mqtt-for-emontx-... OpenEnergyMonitor                       1   \na-taste-of-things-to-come-uk-smart-meter-data-a... OpenEnergyMonitor                      11   \nabout-split-core-cts-sct-013-family                OpenEnergyMonitor                       5   \n...                                                                                      ...   \nwhos-up-for-re-upcycling-in-munich-germany         PreciousPlastic                        10   \nworking-with-plastic-bags                          PreciousPlastic                        15   \nworldwide-community-updates                        PreciousPlastic                         9   \nzelenew-basket-extrusion-v4                        PreciousPlastic                         3   \nzero-waste-key-tag                                 PreciousPlastic                         8   \n\n                                                                         first post date  \\\ntopic_slug                                         community_name                          \n3-phase-whole-house-pv-and-heat-pump-monitoring... OpenEnergyMonitor 2017-08-10 00:00:00   \n4-ct-emonbase-using-emontx-and-pi-zero-w           OpenEnergyMonitor 2018-02-14 00:00:00   \na-howto-install-freeboard-with-mqtt-for-emontx-... OpenEnergyMonitor 2017-01-22 00:00:00   \na-taste-of-things-to-come-uk-smart-meter-data-a... OpenEnergyMonitor 2017-08-15 00:00:00   \nabout-split-core-cts-sct-013-family                OpenEnergyMonitor 2017-01-16 00:00:00   \n...                                                                                  ...   \nwhos-up-for-re-upcycling-in-munich-germany         PreciousPlastic   2018-01-05 11:41:00   \nworking-with-plastic-bags                          PreciousPlastic   2017-02-11 17:51:00   \nworldwide-community-updates                        PreciousPlastic   2018-01-05 23:20:00   \nzelenew-basket-extrusion-v4                        PreciousPlastic   2018-06-12 13:24:00   \nzero-waste-key-tag                                 PreciousPlastic   2017-02-07 10:11:00   \n\n                                                                        second post date  \\\ntopic_slug                                         community_name                          \n3-phase-whole-house-pv-and-heat-pump-monitoring... OpenEnergyMonitor 2017-08-10 00:00:00   \n4-ct-emonbase-using-emontx-and-pi-zero-w           OpenEnergyMonitor 2018-02-14 00:00:00   \na-howto-install-freeboard-with-mqtt-for-emontx-... OpenEnergyMonitor 2017-02-06 00:00:00   \na-taste-of-things-to-come-uk-smart-meter-data-a... OpenEnergyMonitor 2017-08-15 00:00:00   \nabout-split-core-cts-sct-013-family                OpenEnergyMonitor 2017-01-16 00:00:00   \n...                                                                                  ...   \nwhos-up-for-re-upcycling-in-munich-germany         PreciousPlastic   2018-01-05 16:56:00   \nworking-with-plastic-bags                          PreciousPlastic   2017-03-07 09:12:00   \nworldwide-community-updates                        PreciousPlastic   2018-03-05 07:03:00   \nzelenew-basket-extrusion-v4                        PreciousPlastic   2018-11-28 00:01:00   \nzero-waste-key-tag                                 PreciousPlastic   2017-03-07 17:42:00   \n\n                                                                          last post date  \\\ntopic_slug                                         community_name                          \n3-phase-whole-house-pv-and-heat-pump-monitoring... OpenEnergyMonitor 2017-09-15 00:00:00   \n4-ct-emonbase-using-emontx-and-pi-zero-w           OpenEnergyMonitor 2018-02-25 00:00:00   \na-howto-install-freeboard-with-mqtt-for-emontx-... OpenEnergyMonitor 2017-02-06 00:00:00   \na-taste-of-things-to-come-uk-smart-meter-data-a... OpenEnergyMonitor 2018-12-11 00:00:00   \nabout-split-core-cts-sct-013-family                OpenEnergyMonitor 2017-05-04 00:00:00   \n...                                                                                  ...   \nwhos-up-for-re-upcycling-in-munich-germany         PreciousPlastic   2018-12-24 16:07:00   \nworking-with-plastic-bags                          PreciousPlastic   2018-01-27 15:31:00   \nworldwide-community-updates                        PreciousPlastic   2018-12-17 04:39:00   \nzelenew-basket-extrusion-v4                        PreciousPlastic   2018-12-13 07:35:00   \nzero-waste-key-tag                                 PreciousPlastic   2018-02-19 12:22:00   \n\n                                                                      delay first last post  \\\ntopic_slug                                         community_name                             \n3-phase-whole-house-pv-and-heat-pump-monitoring... OpenEnergyMonitor                     36   \n4-ct-emonbase-using-emontx-and-pi-zero-w           OpenEnergyMonitor                     11   \na-howto-install-freeboard-with-mqtt-for-emontx-... OpenEnergyMonitor                     15   \na-taste-of-things-to-come-uk-smart-meter-data-a... OpenEnergyMonitor                    483   \nabout-split-core-cts-sct-013-family                OpenEnergyMonitor                    108   \n...                                                                                     ...   \nwhos-up-for-re-upcycling-in-munich-germany         PreciousPlastic                      353   \nworking-with-plastic-bags                          PreciousPlastic                      349   \nworldwide-community-updates                        PreciousPlastic                      345   \nzelenew-basket-extrusion-v4                        PreciousPlastic                      183   \nzero-waste-key-tag                                 PreciousPlastic                      377   \n\n                                                                      delay first second post  \ntopic_slug                                         community_name                              \n3-phase-whole-house-pv-and-heat-pump-monitoring... OpenEnergyMonitor                        0  \n4-ct-emonbase-using-emontx-and-pi-zero-w           OpenEnergyMonitor                        0  \na-howto-install-freeboard-with-mqtt-for-emontx-... OpenEnergyMonitor                       15  \na-taste-of-things-to-come-uk-smart-meter-data-a... OpenEnergyMonitor                        0  \nabout-split-core-cts-sct-013-family                OpenEnergyMonitor                        0  \n...                                                                                       ...  \nwhos-up-for-re-upcycling-in-munich-germany         PreciousPlastic                          0  \nworking-with-plastic-bags                          PreciousPlastic                         23  \nworldwide-community-updates                        PreciousPlastic                         58  \nzelenew-basket-extrusion-v4                        PreciousPlastic                        168  \nzero-waste-key-tag                                 PreciousPlastic                         28  \n\n[705 rows x 7 columns]",
      "text/html": "<div>\n<style scoped>\n    .dataframe tbody tr th:only-of-type {\n        vertical-align: middle;\n    }\n\n    .dataframe tbody tr th {\n        vertical-align: top;\n    }\n\n    .dataframe thead th {\n        text-align: right;\n    }\n</style>\n<table border=\"1\" class=\"dataframe\">\n  <thead>\n    <tr style=\"text-align: right;\">\n      <th></th>\n      <th></th>\n      <th>number of posts</th>\n      <th>number of contributors</th>\n      <th>first post date</th>\n      <th>second post date</th>\n      <th>last post date</th>\n      <th>delay first last post</th>\n      <th>delay first second post</th>\n    </tr>\n    <tr>\n      <th>topic_slug</th>\n      <th>community_name</th>\n      <th></th>\n      <th></th>\n      <th></th>\n      <th></th>\n      <th></th>\n      <th></th>\n      <th></th>\n    </tr>\n  </thead>\n  <tbody>\n    <tr>\n      <th>3-phase-whole-house-pv-and-heat-pump-monitoring-required</th>\n      <th>OpenEnergyMonitor</th>\n      <td>74</td>\n      <td>5</td>\n      <td>2017-08-10 00:00:00</td>\n      <td>2017-08-10 00:00:00</td>\n      <td>2017-09-15 00:00:00</td>\n      <td>36</td>\n      <td>0</td>\n    </tr>\n    <tr>\n      <th>4-ct-emonbase-using-emontx-and-pi-zero-w</th>\n      <th>OpenEnergyMonitor</th>\n      <td>22</td>\n      <td>4</td>\n      <td>2018-02-14 00:00:00</td>\n      <td>2018-02-14 00:00:00</td>\n      <td>2018-02-25 00:00:00</td>\n      <td>11</td>\n      <td>0</td>\n    </tr>\n    <tr>\n      <th>a-howto-install-freeboard-with-mqtt-for-emontx-shield</th>\n      <th>OpenEnergyMonitor</th>\n      <td>2</td>\n      <td>1</td>\n      <td>2017-01-22 00:00:00</td>\n      <td>2017-02-06 00:00:00</td>\n      <td>2017-02-06 00:00:00</td>\n      <td>15</td>\n      <td>15</td>\n    </tr>\n    <tr>\n      <th>a-taste-of-things-to-come-uk-smart-meter-data-access</th>\n      <th>OpenEnergyMonitor</th>\n      <td>38</td>\n      <td>11</td>\n      <td>2017-08-15 00:00:00</td>\n      <td>2017-08-15 00:00:00</td>\n      <td>2018-12-11 00:00:00</td>\n      <td>483</td>\n      <td>0</td>\n    </tr>\n    <tr>\n      <th>about-split-core-cts-sct-013-family</th>\n      <th>OpenEnergyMonitor</th>\n      <td>18</td>\n      <td>5</td>\n      <td>2017-01-16 00:00:00</td>\n      <td>2017-01-16 00:00:00</td>\n      <td>2017-05-04 00:00:00</td>\n      <td>108</td>\n      <td>0</td>\n    </tr>\n    <tr>\n      <th>...</th>\n      <th>...</th>\n      <td>...</td>\n      <td>...</td>\n      <td>...</td>\n      <td>...</td>\n      <td>...</td>\n      <td>...</td>\n      <td>...</td>\n    </tr>\n    <tr>\n      <th>whos-up-for-re-upcycling-in-munich-germany</th>\n      <th>PreciousPlastic</th>\n      <td>32</td>\n      <td>10</td>\n      <td>2018-01-05 11:41:00</td>\n      <td>2018-01-05 16:56:00</td>\n      <td>2018-12-24 16:07:00</td>\n      <td>353</td>\n      <td>0</td>\n    </tr>\n    <tr>\n      <th>working-with-plastic-bags</th>\n      <th>PreciousPlastic</th>\n      <td>33</td>\n      <td>15</td>\n      <td>2017-02-11 17:51:00</td>\n      <td>2017-03-07 09:12:00</td>\n      <td>2018-01-27 15:31:00</td>\n      <td>349</td>\n      <td>23</td>\n    </tr>\n    <tr>\n      <th>worldwide-community-updates</th>\n      <th>PreciousPlastic</th>\n      <td>21</td>\n      <td>9</td>\n      <td>2018-01-05 23:20:00</td>\n      <td>2018-03-05 07:03:00</td>\n      <td>2018-12-17 04:39:00</td>\n      <td>345</td>\n      <td>58</td>\n    </tr>\n    <tr>\n      <th>zelenew-basket-extrusion-v4</th>\n      <th>PreciousPlastic</th>\n      <td>3</td>\n      <td>3</td>\n      <td>2018-06-12 13:24:00</td>\n      <td>2018-11-28 00:01:00</td>\n      <td>2018-12-13 07:35:00</td>\n      <td>183</td>\n      <td>168</td>\n    </tr>\n    <tr>\n      <th>zero-waste-key-tag</th>\n      <th>PreciousPlastic</th>\n      <td>20</td>\n      <td>8</td>\n      <td>2017-02-07 10:11:00</td>\n      <td>2017-03-07 17:42:00</td>\n      <td>2018-02-19 12:22:00</td>\n      <td>377</td>\n      <td>28</td>\n    </tr>\n  </tbody>\n</table>\n<p>705 rows × 7 columns</p>\n</div>"
     },
     "execution_count": 24,
     "metadata": {},
     "output_type": "execute_result"
    }
   ],
   "source": [
    "pipe.transform(pici.communities)"
   ],
   "metadata": {
    "collapsed": false,
    "pycharm": {
     "name": "#%%\n"
    }
   }
  },
  {
   "cell_type": "code",
   "execution_count": null,
   "outputs": [],
   "source": [],
   "metadata": {
    "collapsed": false,
    "pycharm": {
     "name": "#%%\n"
    }
   }
  }
 ],
 "metadata": {
  "kernelspec": {
   "display_name": "Python 3",
   "language": "python",
   "name": "python3"
  },
  "language_info": {
   "codemirror_mode": {
    "name": "ipython",
    "version": 2
   },
   "file_extension": ".py",
   "mimetype": "text/x-python",
   "name": "python",
   "nbconvert_exporter": "python",
   "pygments_lexer": "ipython2",
   "version": "2.7.6"
  }
 },
 "nbformat": 4,
 "nbformat_minor": 0
}